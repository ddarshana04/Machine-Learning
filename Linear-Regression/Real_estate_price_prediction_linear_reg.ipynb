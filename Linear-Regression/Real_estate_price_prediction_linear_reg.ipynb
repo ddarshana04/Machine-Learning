{
  "nbformat": 4,
  "nbformat_minor": 0,
  "metadata": {
    "colab": {
      "provenance": [],
      "collapsed_sections": [],
      "authorship_tag": "ABX9TyMsp1/GAPWaOQlPrT+shV/Y",
      "include_colab_link": true
    },
    "kernelspec": {
      "name": "python3",
      "display_name": "Python 3"
    },
    "language_info": {
      "name": "python"
    }
  },
  "cells": [
    {
      "cell_type": "markdown",
      "metadata": {
        "id": "view-in-github",
        "colab_type": "text"
      },
      "source": [
        "<a href=\"https://colab.research.google.com/github/ddarshana04/Machine-Learning/blob/main/Linear-Regression/Real_estate_price_prediction_linear_reg.ipynb\" target=\"_parent\"><img src=\"https://colab.research.google.com/assets/colab-badge.svg\" alt=\"Open In Colab\"/></a>"
      ]
    },
    {
      "cell_type": "code",
      "execution_count": 1,
      "metadata": {
        "id": "FkY8j6DlMSEL"
      },
      "outputs": [],
      "source": [
        "import pandas as pd\n",
        "import matplotlib.pyplot as plt\n",
        "from pylab import rcParams\n",
        "import numpy as np\n",
        "import seaborn as sns\n",
        "import os\n",
        "\n",
        "from sklearn.ensemble import RandomForestRegressor\n",
        "from sklearn.model_selection import cross_val_score, train_test_split, GridSearchCV\n",
        "from sklearn.feature_selection import RFECV, SelectFromModel, SelectKBest\n",
        "from sklearn.preprocessing import StandardScaler\n",
        "from sklearn import metrics\n",
        "%matplotlib inline"
      ]
    },
    {
      "cell_type": "code",
      "source": [
        "import zipfile\n",
        "zf = zipfile.ZipFile('stock_market_data.csv.zip')\n",
        "zf.namelist()  "
      ],
      "metadata": {
        "colab": {
          "base_uri": "https://localhost:8080/"
        },
        "id": "vjZxw1b8NM6l",
        "outputId": "7c44b77c-da43-4bc5-e052-cf0593d11dfa"
      },
      "execution_count": 2,
      "outputs": [
        {
          "output_type": "execute_result",
          "data": {
            "text/plain": [
              "['AAPL.csv']"
            ]
          },
          "metadata": {},
          "execution_count": 2
        }
      ]
    },
    {
      "cell_type": "code",
      "source": [
        "Stock=pd.read_csv(zf.open('AAPL.csv'),index_col = 0)"
      ],
      "metadata": {
        "id": "FWlzVUlvT-Bh"
      },
      "execution_count": 3,
      "outputs": []
    },
    {
      "cell_type": "code",
      "source": [
        "df_Stock = Stock\n",
        "df_Stock = df_Stock.rename(columns={'Close(t)':'Close'})\n",
        "df_Stock.head()"
      ],
      "metadata": {
        "colab": {
          "base_uri": "https://localhost:8080/",
          "height": 435
        },
        "id": "DcQVxaZPWADA",
        "outputId": "f6610bdb-3f74-4080-8cde-a2ab0ef5f8aa"
      },
      "execution_count": 4,
      "outputs": [
        {
          "output_type": "execute_result",
          "data": {
            "text/plain": [
              "            Open  High   Low  Close     Volume      SD20  Upper_Band  \\\n",
              "Date                                                                   \n",
              "2005-10-17  6.66  6.69  6.50   6.60  154208600  0.169237    6.827473   \n",
              "2005-10-18  6.57  6.66  6.44   6.45  152397000  0.168339    6.819677   \n",
              "2005-10-19  6.43  6.78  6.32   6.78  252170800  0.180306    6.861112   \n",
              "2005-10-20  6.72  6.97  6.71   6.93  339440500  0.202674    6.931847   \n",
              "2005-10-21  7.02  7.03  6.83   6.87  199181500  0.216680    6.974860   \n",
              "\n",
              "            Lower_Band  S_Close(t-1)  S_Close(t-2)  ...  QQQ_MA10  QQQ_MA20  \\\n",
              "Date                                                ...                       \n",
              "2005-10-17    6.150527          6.67          6.63  ...    33.692   33.9970   \n",
              "2005-10-18    6.146323          6.60          6.67  ...    33.570   33.9525   \n",
              "2005-10-19    6.139888          6.45          6.60  ...    33.562   33.9600   \n",
              "2005-10-20    6.121153          6.78          6.45  ...    33.567   33.9455   \n",
              "2005-10-21    6.108140          6.93          6.78  ...    33.586   33.9365   \n",
              "\n",
              "            QQQ_MA50  SnP_Close  SnP(t-1))  SnP(t-5)  DJIA_Close  DJIA(t-1))  \\\n",
              "Date                                                                           \n",
              "2005-10-17   34.2690    1190.10    1186.57   1187.33    10348.10    10287.34   \n",
              "2005-10-18   34.2466    1178.14    1190.10   1184.87    10285.26    10348.10   \n",
              "2005-10-19   34.2330    1195.76    1178.14   1177.68    10414.13    10285.26   \n",
              "2005-10-20   34.2190    1177.80    1195.76   1176.84    10281.10    10414.13   \n",
              "2005-10-21   34.2034    1179.59    1177.80   1186.57    10215.22    10281.10   \n",
              "\n",
              "            DJIA(t-5)  Close_forcast  \n",
              "Date                                  \n",
              "2005-10-17   10238.76           6.45  \n",
              "2005-10-18   10253.17           6.78  \n",
              "2005-10-19   10216.91           6.93  \n",
              "2005-10-20   10216.59           6.87  \n",
              "2005-10-21   10287.34           7.01  \n",
              "\n",
              "[5 rows x 63 columns]"
            ],
            "text/html": [
              "\n",
              "  <div id=\"df-700ee1b3-dc7f-4dd5-96f7-ee79c3cf73a3\">\n",
              "    <div class=\"colab-df-container\">\n",
              "      <div>\n",
              "<style scoped>\n",
              "    .dataframe tbody tr th:only-of-type {\n",
              "        vertical-align: middle;\n",
              "    }\n",
              "\n",
              "    .dataframe tbody tr th {\n",
              "        vertical-align: top;\n",
              "    }\n",
              "\n",
              "    .dataframe thead th {\n",
              "        text-align: right;\n",
              "    }\n",
              "</style>\n",
              "<table border=\"1\" class=\"dataframe\">\n",
              "  <thead>\n",
              "    <tr style=\"text-align: right;\">\n",
              "      <th></th>\n",
              "      <th>Open</th>\n",
              "      <th>High</th>\n",
              "      <th>Low</th>\n",
              "      <th>Close</th>\n",
              "      <th>Volume</th>\n",
              "      <th>SD20</th>\n",
              "      <th>Upper_Band</th>\n",
              "      <th>Lower_Band</th>\n",
              "      <th>S_Close(t-1)</th>\n",
              "      <th>S_Close(t-2)</th>\n",
              "      <th>...</th>\n",
              "      <th>QQQ_MA10</th>\n",
              "      <th>QQQ_MA20</th>\n",
              "      <th>QQQ_MA50</th>\n",
              "      <th>SnP_Close</th>\n",
              "      <th>SnP(t-1))</th>\n",
              "      <th>SnP(t-5)</th>\n",
              "      <th>DJIA_Close</th>\n",
              "      <th>DJIA(t-1))</th>\n",
              "      <th>DJIA(t-5)</th>\n",
              "      <th>Close_forcast</th>\n",
              "    </tr>\n",
              "    <tr>\n",
              "      <th>Date</th>\n",
              "      <th></th>\n",
              "      <th></th>\n",
              "      <th></th>\n",
              "      <th></th>\n",
              "      <th></th>\n",
              "      <th></th>\n",
              "      <th></th>\n",
              "      <th></th>\n",
              "      <th></th>\n",
              "      <th></th>\n",
              "      <th></th>\n",
              "      <th></th>\n",
              "      <th></th>\n",
              "      <th></th>\n",
              "      <th></th>\n",
              "      <th></th>\n",
              "      <th></th>\n",
              "      <th></th>\n",
              "      <th></th>\n",
              "      <th></th>\n",
              "      <th></th>\n",
              "    </tr>\n",
              "  </thead>\n",
              "  <tbody>\n",
              "    <tr>\n",
              "      <th>2005-10-17</th>\n",
              "      <td>6.66</td>\n",
              "      <td>6.69</td>\n",
              "      <td>6.50</td>\n",
              "      <td>6.60</td>\n",
              "      <td>154208600</td>\n",
              "      <td>0.169237</td>\n",
              "      <td>6.827473</td>\n",
              "      <td>6.150527</td>\n",
              "      <td>6.67</td>\n",
              "      <td>6.63</td>\n",
              "      <td>...</td>\n",
              "      <td>33.692</td>\n",
              "      <td>33.9970</td>\n",
              "      <td>34.2690</td>\n",
              "      <td>1190.10</td>\n",
              "      <td>1186.57</td>\n",
              "      <td>1187.33</td>\n",
              "      <td>10348.10</td>\n",
              "      <td>10287.34</td>\n",
              "      <td>10238.76</td>\n",
              "      <td>6.45</td>\n",
              "    </tr>\n",
              "    <tr>\n",
              "      <th>2005-10-18</th>\n",
              "      <td>6.57</td>\n",
              "      <td>6.66</td>\n",
              "      <td>6.44</td>\n",
              "      <td>6.45</td>\n",
              "      <td>152397000</td>\n",
              "      <td>0.168339</td>\n",
              "      <td>6.819677</td>\n",
              "      <td>6.146323</td>\n",
              "      <td>6.60</td>\n",
              "      <td>6.67</td>\n",
              "      <td>...</td>\n",
              "      <td>33.570</td>\n",
              "      <td>33.9525</td>\n",
              "      <td>34.2466</td>\n",
              "      <td>1178.14</td>\n",
              "      <td>1190.10</td>\n",
              "      <td>1184.87</td>\n",
              "      <td>10285.26</td>\n",
              "      <td>10348.10</td>\n",
              "      <td>10253.17</td>\n",
              "      <td>6.78</td>\n",
              "    </tr>\n",
              "    <tr>\n",
              "      <th>2005-10-19</th>\n",
              "      <td>6.43</td>\n",
              "      <td>6.78</td>\n",
              "      <td>6.32</td>\n",
              "      <td>6.78</td>\n",
              "      <td>252170800</td>\n",
              "      <td>0.180306</td>\n",
              "      <td>6.861112</td>\n",
              "      <td>6.139888</td>\n",
              "      <td>6.45</td>\n",
              "      <td>6.60</td>\n",
              "      <td>...</td>\n",
              "      <td>33.562</td>\n",
              "      <td>33.9600</td>\n",
              "      <td>34.2330</td>\n",
              "      <td>1195.76</td>\n",
              "      <td>1178.14</td>\n",
              "      <td>1177.68</td>\n",
              "      <td>10414.13</td>\n",
              "      <td>10285.26</td>\n",
              "      <td>10216.91</td>\n",
              "      <td>6.93</td>\n",
              "    </tr>\n",
              "    <tr>\n",
              "      <th>2005-10-20</th>\n",
              "      <td>6.72</td>\n",
              "      <td>6.97</td>\n",
              "      <td>6.71</td>\n",
              "      <td>6.93</td>\n",
              "      <td>339440500</td>\n",
              "      <td>0.202674</td>\n",
              "      <td>6.931847</td>\n",
              "      <td>6.121153</td>\n",
              "      <td>6.78</td>\n",
              "      <td>6.45</td>\n",
              "      <td>...</td>\n",
              "      <td>33.567</td>\n",
              "      <td>33.9455</td>\n",
              "      <td>34.2190</td>\n",
              "      <td>1177.80</td>\n",
              "      <td>1195.76</td>\n",
              "      <td>1176.84</td>\n",
              "      <td>10281.10</td>\n",
              "      <td>10414.13</td>\n",
              "      <td>10216.59</td>\n",
              "      <td>6.87</td>\n",
              "    </tr>\n",
              "    <tr>\n",
              "      <th>2005-10-21</th>\n",
              "      <td>7.02</td>\n",
              "      <td>7.03</td>\n",
              "      <td>6.83</td>\n",
              "      <td>6.87</td>\n",
              "      <td>199181500</td>\n",
              "      <td>0.216680</td>\n",
              "      <td>6.974860</td>\n",
              "      <td>6.108140</td>\n",
              "      <td>6.93</td>\n",
              "      <td>6.78</td>\n",
              "      <td>...</td>\n",
              "      <td>33.586</td>\n",
              "      <td>33.9365</td>\n",
              "      <td>34.2034</td>\n",
              "      <td>1179.59</td>\n",
              "      <td>1177.80</td>\n",
              "      <td>1186.57</td>\n",
              "      <td>10215.22</td>\n",
              "      <td>10281.10</td>\n",
              "      <td>10287.34</td>\n",
              "      <td>7.01</td>\n",
              "    </tr>\n",
              "  </tbody>\n",
              "</table>\n",
              "<p>5 rows × 63 columns</p>\n",
              "</div>\n",
              "      <button class=\"colab-df-convert\" onclick=\"convertToInteractive('df-700ee1b3-dc7f-4dd5-96f7-ee79c3cf73a3')\"\n",
              "              title=\"Convert this dataframe to an interactive table.\"\n",
              "              style=\"display:none;\">\n",
              "        \n",
              "  <svg xmlns=\"http://www.w3.org/2000/svg\" height=\"24px\"viewBox=\"0 0 24 24\"\n",
              "       width=\"24px\">\n",
              "    <path d=\"M0 0h24v24H0V0z\" fill=\"none\"/>\n",
              "    <path d=\"M18.56 5.44l.94 2.06.94-2.06 2.06-.94-2.06-.94-.94-2.06-.94 2.06-2.06.94zm-11 1L8.5 8.5l.94-2.06 2.06-.94-2.06-.94L8.5 2.5l-.94 2.06-2.06.94zm10 10l.94 2.06.94-2.06 2.06-.94-2.06-.94-.94-2.06-.94 2.06-2.06.94z\"/><path d=\"M17.41 7.96l-1.37-1.37c-.4-.4-.92-.59-1.43-.59-.52 0-1.04.2-1.43.59L10.3 9.45l-7.72 7.72c-.78.78-.78 2.05 0 2.83L4 21.41c.39.39.9.59 1.41.59.51 0 1.02-.2 1.41-.59l7.78-7.78 2.81-2.81c.8-.78.8-2.07 0-2.86zM5.41 20L4 18.59l7.72-7.72 1.47 1.35L5.41 20z\"/>\n",
              "  </svg>\n",
              "      </button>\n",
              "      \n",
              "  <style>\n",
              "    .colab-df-container {\n",
              "      display:flex;\n",
              "      flex-wrap:wrap;\n",
              "      gap: 12px;\n",
              "    }\n",
              "\n",
              "    .colab-df-convert {\n",
              "      background-color: #E8F0FE;\n",
              "      border: none;\n",
              "      border-radius: 50%;\n",
              "      cursor: pointer;\n",
              "      display: none;\n",
              "      fill: #1967D2;\n",
              "      height: 32px;\n",
              "      padding: 0 0 0 0;\n",
              "      width: 32px;\n",
              "    }\n",
              "\n",
              "    .colab-df-convert:hover {\n",
              "      background-color: #E2EBFA;\n",
              "      box-shadow: 0px 1px 2px rgba(60, 64, 67, 0.3), 0px 1px 3px 1px rgba(60, 64, 67, 0.15);\n",
              "      fill: #174EA6;\n",
              "    }\n",
              "\n",
              "    [theme=dark] .colab-df-convert {\n",
              "      background-color: #3B4455;\n",
              "      fill: #D2E3FC;\n",
              "    }\n",
              "\n",
              "    [theme=dark] .colab-df-convert:hover {\n",
              "      background-color: #434B5C;\n",
              "      box-shadow: 0px 1px 3px 1px rgba(0, 0, 0, 0.15);\n",
              "      filter: drop-shadow(0px 1px 2px rgba(0, 0, 0, 0.3));\n",
              "      fill: #FFFFFF;\n",
              "    }\n",
              "  </style>\n",
              "\n",
              "      <script>\n",
              "        const buttonEl =\n",
              "          document.querySelector('#df-700ee1b3-dc7f-4dd5-96f7-ee79c3cf73a3 button.colab-df-convert');\n",
              "        buttonEl.style.display =\n",
              "          google.colab.kernel.accessAllowed ? 'block' : 'none';\n",
              "\n",
              "        async function convertToInteractive(key) {\n",
              "          const element = document.querySelector('#df-700ee1b3-dc7f-4dd5-96f7-ee79c3cf73a3');\n",
              "          const dataTable =\n",
              "            await google.colab.kernel.invokeFunction('convertToInteractive',\n",
              "                                                     [key], {});\n",
              "          if (!dataTable) return;\n",
              "\n",
              "          const docLinkHtml = 'Like what you see? Visit the ' +\n",
              "            '<a target=\"_blank\" href=https://colab.research.google.com/notebooks/data_table.ipynb>data table notebook</a>'\n",
              "            + ' to learn more about interactive tables.';\n",
              "          element.innerHTML = '';\n",
              "          dataTable['output_type'] = 'display_data';\n",
              "          await google.colab.output.renderOutput(dataTable, element);\n",
              "          const docLink = document.createElement('div');\n",
              "          docLink.innerHTML = docLinkHtml;\n",
              "          element.appendChild(docLink);\n",
              "        }\n",
              "      </script>\n",
              "    </div>\n",
              "  </div>\n",
              "  "
            ]
          },
          "metadata": {},
          "execution_count": 4
        }
      ]
    },
    {
      "cell_type": "code",
      "source": [
        "df_Stock.tail(5)"
      ],
      "metadata": {
        "colab": {
          "base_uri": "https://localhost:8080/",
          "height": 435
        },
        "id": "mPCz1PJHNidA",
        "outputId": "b5962a4c-29df-4ce8-a539-2b8f19d246ef"
      },
      "execution_count": 5,
      "outputs": [
        {
          "output_type": "execute_result",
          "data": {
            "text/plain": [
              "              Open    High     Low   Close    Volume       SD20  Upper_Band  \\\n",
              "Date                                                                          \n",
              "2020-08-07  452.82  454.70  441.17  444.45  49453300  27.954399  455.316298   \n",
              "2020-08-10  450.40  455.10  440.00  450.91  53100900  29.847338  462.586675   \n",
              "2020-08-11  447.88  449.93  436.43  437.50  46975600  30.576290  466.543079   \n",
              "2020-08-12  441.99  453.10  441.19  452.04  41486200  32.050532  472.583564   \n",
              "2020-08-13  457.72  464.17  455.71  460.04  52520500  33.532634  479.279768   \n",
              "\n",
              "            Lower_Band  S_Close(t-1)  S_Close(t-2)  ...  QQQ_MA10  QQQ_MA20  \\\n",
              "Date                                                ...                       \n",
              "2020-08-07  343.498702        454.79        439.46  ...   266.054  263.4085   \n",
              "2020-08-10  343.197325        444.45        454.79  ...   267.073  263.9970   \n",
              "2020-08-11  344.237921        450.91        444.45  ...   267.911  264.2380   \n",
              "2020-08-12  344.381436        437.50        450.91  ...   269.120  264.7860   \n",
              "2020-08-13  345.149232        452.04        437.50  ...   270.255  265.4540   \n",
              "\n",
              "            QQQ_MA50  SnP_Close  SnP(t-1))  SnP(t-5)  DJIA_Close  DJIA(t-1))  \\\n",
              "Date                                                                           \n",
              "2020-08-07  252.2098    3351.28    3349.16   3271.12    27433.48    27386.98   \n",
              "2020-08-10  252.9570    3360.47    3351.28   3294.61    27791.44    27433.48   \n",
              "2020-08-11  253.5878    3333.69    3360.47   3306.51    27686.91    27791.44   \n",
              "2020-08-12  254.3206    3380.35    3333.69   3327.77    27976.84    27686.91   \n",
              "2020-08-13  255.0446    3373.43    3380.35   3349.16    27896.72    27976.84   \n",
              "\n",
              "            DJIA(t-5)  Close_forcast  \n",
              "Date                                  \n",
              "2020-08-07   26428.32         450.91  \n",
              "2020-08-10   26664.40         437.50  \n",
              "2020-08-11   26828.47         452.04  \n",
              "2020-08-12   27201.52         460.04  \n",
              "2020-08-13   27386.98         459.63  \n",
              "\n",
              "[5 rows x 63 columns]"
            ],
            "text/html": [
              "\n",
              "  <div id=\"df-8c4e1eda-2593-450c-98b1-d76e97873678\">\n",
              "    <div class=\"colab-df-container\">\n",
              "      <div>\n",
              "<style scoped>\n",
              "    .dataframe tbody tr th:only-of-type {\n",
              "        vertical-align: middle;\n",
              "    }\n",
              "\n",
              "    .dataframe tbody tr th {\n",
              "        vertical-align: top;\n",
              "    }\n",
              "\n",
              "    .dataframe thead th {\n",
              "        text-align: right;\n",
              "    }\n",
              "</style>\n",
              "<table border=\"1\" class=\"dataframe\">\n",
              "  <thead>\n",
              "    <tr style=\"text-align: right;\">\n",
              "      <th></th>\n",
              "      <th>Open</th>\n",
              "      <th>High</th>\n",
              "      <th>Low</th>\n",
              "      <th>Close</th>\n",
              "      <th>Volume</th>\n",
              "      <th>SD20</th>\n",
              "      <th>Upper_Band</th>\n",
              "      <th>Lower_Band</th>\n",
              "      <th>S_Close(t-1)</th>\n",
              "      <th>S_Close(t-2)</th>\n",
              "      <th>...</th>\n",
              "      <th>QQQ_MA10</th>\n",
              "      <th>QQQ_MA20</th>\n",
              "      <th>QQQ_MA50</th>\n",
              "      <th>SnP_Close</th>\n",
              "      <th>SnP(t-1))</th>\n",
              "      <th>SnP(t-5)</th>\n",
              "      <th>DJIA_Close</th>\n",
              "      <th>DJIA(t-1))</th>\n",
              "      <th>DJIA(t-5)</th>\n",
              "      <th>Close_forcast</th>\n",
              "    </tr>\n",
              "    <tr>\n",
              "      <th>Date</th>\n",
              "      <th></th>\n",
              "      <th></th>\n",
              "      <th></th>\n",
              "      <th></th>\n",
              "      <th></th>\n",
              "      <th></th>\n",
              "      <th></th>\n",
              "      <th></th>\n",
              "      <th></th>\n",
              "      <th></th>\n",
              "      <th></th>\n",
              "      <th></th>\n",
              "      <th></th>\n",
              "      <th></th>\n",
              "      <th></th>\n",
              "      <th></th>\n",
              "      <th></th>\n",
              "      <th></th>\n",
              "      <th></th>\n",
              "      <th></th>\n",
              "      <th></th>\n",
              "    </tr>\n",
              "  </thead>\n",
              "  <tbody>\n",
              "    <tr>\n",
              "      <th>2020-08-07</th>\n",
              "      <td>452.82</td>\n",
              "      <td>454.70</td>\n",
              "      <td>441.17</td>\n",
              "      <td>444.45</td>\n",
              "      <td>49453300</td>\n",
              "      <td>27.954399</td>\n",
              "      <td>455.316298</td>\n",
              "      <td>343.498702</td>\n",
              "      <td>454.79</td>\n",
              "      <td>439.46</td>\n",
              "      <td>...</td>\n",
              "      <td>266.054</td>\n",
              "      <td>263.4085</td>\n",
              "      <td>252.2098</td>\n",
              "      <td>3351.28</td>\n",
              "      <td>3349.16</td>\n",
              "      <td>3271.12</td>\n",
              "      <td>27433.48</td>\n",
              "      <td>27386.98</td>\n",
              "      <td>26428.32</td>\n",
              "      <td>450.91</td>\n",
              "    </tr>\n",
              "    <tr>\n",
              "      <th>2020-08-10</th>\n",
              "      <td>450.40</td>\n",
              "      <td>455.10</td>\n",
              "      <td>440.00</td>\n",
              "      <td>450.91</td>\n",
              "      <td>53100900</td>\n",
              "      <td>29.847338</td>\n",
              "      <td>462.586675</td>\n",
              "      <td>343.197325</td>\n",
              "      <td>444.45</td>\n",
              "      <td>454.79</td>\n",
              "      <td>...</td>\n",
              "      <td>267.073</td>\n",
              "      <td>263.9970</td>\n",
              "      <td>252.9570</td>\n",
              "      <td>3360.47</td>\n",
              "      <td>3351.28</td>\n",
              "      <td>3294.61</td>\n",
              "      <td>27791.44</td>\n",
              "      <td>27433.48</td>\n",
              "      <td>26664.40</td>\n",
              "      <td>437.50</td>\n",
              "    </tr>\n",
              "    <tr>\n",
              "      <th>2020-08-11</th>\n",
              "      <td>447.88</td>\n",
              "      <td>449.93</td>\n",
              "      <td>436.43</td>\n",
              "      <td>437.50</td>\n",
              "      <td>46975600</td>\n",
              "      <td>30.576290</td>\n",
              "      <td>466.543079</td>\n",
              "      <td>344.237921</td>\n",
              "      <td>450.91</td>\n",
              "      <td>444.45</td>\n",
              "      <td>...</td>\n",
              "      <td>267.911</td>\n",
              "      <td>264.2380</td>\n",
              "      <td>253.5878</td>\n",
              "      <td>3333.69</td>\n",
              "      <td>3360.47</td>\n",
              "      <td>3306.51</td>\n",
              "      <td>27686.91</td>\n",
              "      <td>27791.44</td>\n",
              "      <td>26828.47</td>\n",
              "      <td>452.04</td>\n",
              "    </tr>\n",
              "    <tr>\n",
              "      <th>2020-08-12</th>\n",
              "      <td>441.99</td>\n",
              "      <td>453.10</td>\n",
              "      <td>441.19</td>\n",
              "      <td>452.04</td>\n",
              "      <td>41486200</td>\n",
              "      <td>32.050532</td>\n",
              "      <td>472.583564</td>\n",
              "      <td>344.381436</td>\n",
              "      <td>437.50</td>\n",
              "      <td>450.91</td>\n",
              "      <td>...</td>\n",
              "      <td>269.120</td>\n",
              "      <td>264.7860</td>\n",
              "      <td>254.3206</td>\n",
              "      <td>3380.35</td>\n",
              "      <td>3333.69</td>\n",
              "      <td>3327.77</td>\n",
              "      <td>27976.84</td>\n",
              "      <td>27686.91</td>\n",
              "      <td>27201.52</td>\n",
              "      <td>460.04</td>\n",
              "    </tr>\n",
              "    <tr>\n",
              "      <th>2020-08-13</th>\n",
              "      <td>457.72</td>\n",
              "      <td>464.17</td>\n",
              "      <td>455.71</td>\n",
              "      <td>460.04</td>\n",
              "      <td>52520500</td>\n",
              "      <td>33.532634</td>\n",
              "      <td>479.279768</td>\n",
              "      <td>345.149232</td>\n",
              "      <td>452.04</td>\n",
              "      <td>437.50</td>\n",
              "      <td>...</td>\n",
              "      <td>270.255</td>\n",
              "      <td>265.4540</td>\n",
              "      <td>255.0446</td>\n",
              "      <td>3373.43</td>\n",
              "      <td>3380.35</td>\n",
              "      <td>3349.16</td>\n",
              "      <td>27896.72</td>\n",
              "      <td>27976.84</td>\n",
              "      <td>27386.98</td>\n",
              "      <td>459.63</td>\n",
              "    </tr>\n",
              "  </tbody>\n",
              "</table>\n",
              "<p>5 rows × 63 columns</p>\n",
              "</div>\n",
              "      <button class=\"colab-df-convert\" onclick=\"convertToInteractive('df-8c4e1eda-2593-450c-98b1-d76e97873678')\"\n",
              "              title=\"Convert this dataframe to an interactive table.\"\n",
              "              style=\"display:none;\">\n",
              "        \n",
              "  <svg xmlns=\"http://www.w3.org/2000/svg\" height=\"24px\"viewBox=\"0 0 24 24\"\n",
              "       width=\"24px\">\n",
              "    <path d=\"M0 0h24v24H0V0z\" fill=\"none\"/>\n",
              "    <path d=\"M18.56 5.44l.94 2.06.94-2.06 2.06-.94-2.06-.94-.94-2.06-.94 2.06-2.06.94zm-11 1L8.5 8.5l.94-2.06 2.06-.94-2.06-.94L8.5 2.5l-.94 2.06-2.06.94zm10 10l.94 2.06.94-2.06 2.06-.94-2.06-.94-.94-2.06-.94 2.06-2.06.94z\"/><path d=\"M17.41 7.96l-1.37-1.37c-.4-.4-.92-.59-1.43-.59-.52 0-1.04.2-1.43.59L10.3 9.45l-7.72 7.72c-.78.78-.78 2.05 0 2.83L4 21.41c.39.39.9.59 1.41.59.51 0 1.02-.2 1.41-.59l7.78-7.78 2.81-2.81c.8-.78.8-2.07 0-2.86zM5.41 20L4 18.59l7.72-7.72 1.47 1.35L5.41 20z\"/>\n",
              "  </svg>\n",
              "      </button>\n",
              "      \n",
              "  <style>\n",
              "    .colab-df-container {\n",
              "      display:flex;\n",
              "      flex-wrap:wrap;\n",
              "      gap: 12px;\n",
              "    }\n",
              "\n",
              "    .colab-df-convert {\n",
              "      background-color: #E8F0FE;\n",
              "      border: none;\n",
              "      border-radius: 50%;\n",
              "      cursor: pointer;\n",
              "      display: none;\n",
              "      fill: #1967D2;\n",
              "      height: 32px;\n",
              "      padding: 0 0 0 0;\n",
              "      width: 32px;\n",
              "    }\n",
              "\n",
              "    .colab-df-convert:hover {\n",
              "      background-color: #E2EBFA;\n",
              "      box-shadow: 0px 1px 2px rgba(60, 64, 67, 0.3), 0px 1px 3px 1px rgba(60, 64, 67, 0.15);\n",
              "      fill: #174EA6;\n",
              "    }\n",
              "\n",
              "    [theme=dark] .colab-df-convert {\n",
              "      background-color: #3B4455;\n",
              "      fill: #D2E3FC;\n",
              "    }\n",
              "\n",
              "    [theme=dark] .colab-df-convert:hover {\n",
              "      background-color: #434B5C;\n",
              "      box-shadow: 0px 1px 3px 1px rgba(0, 0, 0, 0.15);\n",
              "      filter: drop-shadow(0px 1px 2px rgba(0, 0, 0, 0.3));\n",
              "      fill: #FFFFFF;\n",
              "    }\n",
              "  </style>\n",
              "\n",
              "      <script>\n",
              "        const buttonEl =\n",
              "          document.querySelector('#df-8c4e1eda-2593-450c-98b1-d76e97873678 button.colab-df-convert');\n",
              "        buttonEl.style.display =\n",
              "          google.colab.kernel.accessAllowed ? 'block' : 'none';\n",
              "\n",
              "        async function convertToInteractive(key) {\n",
              "          const element = document.querySelector('#df-8c4e1eda-2593-450c-98b1-d76e97873678');\n",
              "          const dataTable =\n",
              "            await google.colab.kernel.invokeFunction('convertToInteractive',\n",
              "                                                     [key], {});\n",
              "          if (!dataTable) return;\n",
              "\n",
              "          const docLinkHtml = 'Like what you see? Visit the ' +\n",
              "            '<a target=\"_blank\" href=https://colab.research.google.com/notebooks/data_table.ipynb>data table notebook</a>'\n",
              "            + ' to learn more about interactive tables.';\n",
              "          element.innerHTML = '';\n",
              "          dataTable['output_type'] = 'display_data';\n",
              "          await google.colab.output.renderOutput(dataTable, element);\n",
              "          const docLink = document.createElement('div');\n",
              "          docLink.innerHTML = docLinkHtml;\n",
              "          element.appendChild(docLink);\n",
              "        }\n",
              "      </script>\n",
              "    </div>\n",
              "  </div>\n",
              "  "
            ]
          },
          "metadata": {},
          "execution_count": 5
        }
      ]
    },
    {
      "cell_type": "code",
      "source": [
        "df_Stock.shape"
      ],
      "metadata": {
        "colab": {
          "base_uri": "https://localhost:8080/"
        },
        "id": "urZSL4UVNkOb",
        "outputId": "ec2ae0b0-ea3d-47ca-c42d-3a3502cf1684"
      },
      "execution_count": 6,
      "outputs": [
        {
          "output_type": "execute_result",
          "data": {
            "text/plain": [
              "(3732, 63)"
            ]
          },
          "metadata": {},
          "execution_count": 6
        }
      ]
    },
    {
      "cell_type": "code",
      "source": [
        "df_Stock.columns"
      ],
      "metadata": {
        "colab": {
          "base_uri": "https://localhost:8080/"
        },
        "id": "-xErVdhbNmM7",
        "outputId": "6c228a58-e81e-4935-eda6-7cde9af2be75"
      },
      "execution_count": 7,
      "outputs": [
        {
          "output_type": "execute_result",
          "data": {
            "text/plain": [
              "Index(['Open', 'High', 'Low', 'Close', 'Volume', 'SD20', 'Upper_Band',\n",
              "       'Lower_Band', 'S_Close(t-1)', 'S_Close(t-2)', 'S_Close(t-3)',\n",
              "       'S_Close(t-5)', 'S_Open(t-1)', 'MA5', 'MA10', 'MA20', 'MA50', 'MA200',\n",
              "       'EMA10', 'EMA20', 'EMA50', 'EMA100', 'EMA200', 'MACD', 'MACD_EMA',\n",
              "       'ATR', 'ADX', 'CCI', 'ROC', 'RSI', 'William%R', 'SO%K', 'STD5',\n",
              "       'ForceIndex1', 'ForceIndex20', 'Date_col', 'Day', 'DayofWeek',\n",
              "       'DayofYear', 'Week', 'Is_month_end', 'Is_month_start', 'Is_quarter_end',\n",
              "       'Is_quarter_start', 'Is_year_end', 'Is_year_start', 'Is_leap_year',\n",
              "       'Year', 'Month', 'QQQ_Close', 'QQQ(t-1)', 'QQQ(t-2)', 'QQQ(t-5)',\n",
              "       'QQQ_MA10', 'QQQ_MA20', 'QQQ_MA50', 'SnP_Close', 'SnP(t-1))',\n",
              "       'SnP(t-5)', 'DJIA_Close', 'DJIA(t-1))', 'DJIA(t-5)', 'Close_forcast'],\n",
              "      dtype='object')"
            ]
          },
          "metadata": {},
          "execution_count": 7
        }
      ]
    },
    {
      "cell_type": "code",
      "source": [
        "df_Stock['Close'].plot(figsize=(10, 7))\n",
        "plt.title(\"Stock Price\", fontsize=17)\n",
        "plt.ylabel('Price', fontsize=14)\n",
        "plt.xlabel('Time', fontsize=14)\n",
        "plt.grid(which=\"major\", color='k', linestyle='-.', linewidth=0.5)\n",
        "plt.show()"
      ],
      "metadata": {
        "colab": {
          "base_uri": "https://localhost:8080/",
          "height": 466
        },
        "id": "39hzAn6vNoUG",
        "outputId": "7f6eb5f8-89ef-4f1f-ce2d-5180832c94c9"
      },
      "execution_count": 8,
      "outputs": [
        {
          "output_type": "display_data",
          "data": {
            "text/plain": [
              "<Figure size 720x504 with 1 Axes>"
            ],
            "image/png": "[encoded data removed]"
          },
          "metadata": {
            "needs_background": "light"
          }
        }
      ]
    },
    {
      "cell_type": "code",
      "source": [
        "df_Stock = df_Stock.drop(columns='Date_col')"
      ],
      "metadata": {
        "id": "Jz0B3h8gNrSt"
      },
      "execution_count": 9,
      "outputs": []
    },
    {
      "cell_type": "code",
      "source": [
        "def create_train_test_set(df_Stock):\n",
        "    \n",
        "    features = df_Stock.drop(columns=['Close_forcast'], axis=1)\n",
        "    target = df_Stock['Close_forcast']\n",
        "    \n",
        "\n",
        "    data_len = df_Stock.shape[0]\n",
        "    print('Historical Stock Data length is - ', str(data_len))\n",
        "\n",
        "    #create a chronological split for train and testing\n",
        "    train_split = int(data_len * 0.88)\n",
        "    print('Training Set length - ', str(train_split))\n",
        "\n",
        "    val_split = train_split + int(data_len * 0.1)\n",
        "    print('Validation Set length - ', str(int(data_len * 0.1)))\n",
        "\n",
        "    print('Test Set length - ', str(int(data_len * 0.02)))\n",
        "    # Splitting features and target into train, validation and test samples \n",
        "    X_train, X_val, X_test = features[:train_split], features[train_split:val_split], features[val_split:]\n",
        "    Y_train, Y_val, Y_test = target[:train_split], target[train_split:val_split], target[val_split:]\n",
        "\n",
        "    #print shape of samples\n",
        "    print(X_train.shape, X_val.shape, X_test.shape)\n",
        "    print(Y_train.shape, Y_val.shape, Y_test.shape)\n",
        "    \n",
        "    return X_train, X_val, X_test, Y_train, Y_val, Y_test"
      ],
      "metadata": {
        "id": "O5pp-rMXNzkU"
      },
      "execution_count": 10,
      "outputs": []
    },
    {
      "cell_type": "code",
      "source": [
        "X_train, X_val, X_test, Y_train, Y_val, Y_test = create_train_test_set(df_Stock)"
      ],
      "metadata": {
        "colab": {
          "base_uri": "https://localhost:8080/"
        },
        "id": "3cWFHCHSOS-N",
        "outputId": "2c36a92c-4e5b-4234-9cb0-17dcf4c55d20"
      },
      "execution_count": 11,
      "outputs": [
        {
          "output_type": "stream",
          "name": "stdout",
          "text": [
            "Historical Stock Data length is -  3732\n",
            "Training Set length -  3284\n",
            "Validation Set length -  373\n",
            "Test Set length -  74\n",
            "(3284, 61) (373, 61) (75, 61)\n",
            "(3284,) (373,) (75,)\n"
          ]
        }
      ]
    },
    {
      "cell_type": "code",
      "source": [
        "from sklearn.linear_model import LinearRegression\n",
        "\n",
        "lr = LinearRegression()\n",
        "lr.fit(X_train, Y_train)"
      ],
      "metadata": {
        "id": "eESOIuLeOhBt",
        "colab": {
          "base_uri": "https://localhost:8080/"
        },
        "outputId": "822cb540-9118-4ea2-93ba-a703cd1a109d"
      },
      "execution_count": 12,
      "outputs": [
        {
          "output_type": "execute_result",
          "data": {
            "text/plain": [
              "LinearRegression()"
            ]
          },
          "metadata": {},
          "execution_count": 12
        }
      ]
    },
    {
      "cell_type": "code",
      "source": [
        "print('LR Coefficients: \\n', lr.coef_)\n",
        "print('LR Intercept: \\n', lr.intercept_)"
      ],
      "metadata": {
        "colab": {
          "base_uri": "https://localhost:8080/"
        },
        "id": "eNhoZh9CO4XW",
        "outputId": "36f5f9b7-9375-419d-dc11-a850036826c9"
      },
      "execution_count": 13,
      "outputs": [
        {
          "output_type": "stream",
          "name": "stdout",
          "text": [
            "LR Coefficients: \n",
            " [ 8.63718430e-03  1.86051919e-01  1.55487056e-01  1.12263756e+00\n",
            "  1.27287036e-10  6.75244700e-03  1.40229153e-01  1.13219365e-01\n",
            "  4.25627945e-02  8.96348485e-02  1.01914954e-01  5.94183534e-02\n",
            "  7.95194230e-02  7.10399924e-02  2.71425005e-01  1.26724259e-01\n",
            "  8.79333149e-02 -5.87980410e-03 -3.31643390e-01 -3.31643390e-01\n",
            " -3.31643390e-01 -3.31643390e-01 -3.31643390e-01  1.88650007e+00\n",
            " -1.27270720e+00 -1.65042225e-01 -4.36658408e-04 -3.17442253e-12\n",
            " -5.07434351e-03  9.02936542e-03  5.78317055e-04  5.78317058e-04\n",
            " -5.57918038e-01 -2.02304618e-10  4.18932389e-11  1.69322438e-02\n",
            "  1.61636704e-02 -1.75659582e-02  6.12165520e-03  2.15420350e-01\n",
            "  1.13979655e-01 -2.41954674e-01  7.63050309e-02  3.73276597e-01\n",
            " -1.16573418e-15 -5.60843989e-02  4.08788806e-02  5.13473863e-01\n",
            " -2.94431540e-02 -8.41335080e-02  5.10939135e-02 -8.14435716e-03\n",
            " -1.95035195e-02  5.67587251e-02  4.39707788e-02  1.29311738e-02\n",
            " -9.99967544e-03 -3.89778364e-03 -1.62174814e-03  1.44436900e-03\n",
            "  2.83455424e-04]\n",
            "LR Intercept: \n",
            " -83.3648640964228\n"
          ]
        }
      ]
    },
    {
      "cell_type": "code",
      "source": [
        "print(\"Performance (R^2): \", lr.score(X_train, Y_train))"
      ],
      "metadata": {
        "colab": {
          "base_uri": "https://localhost:8080/"
        },
        "id": "XIKjlpzePKpw",
        "outputId": "5b5d4440-88f0-4d4a-d81a-daaf7f0fc0eb"
      },
      "execution_count": 14,
      "outputs": [
        {
          "output_type": "stream",
          "name": "stdout",
          "text": [
            "Performance (R^2):  0.9994516474373267\n"
          ]
        }
      ]
    },
    {
      "cell_type": "code",
      "source": [
        "def get_mape(y_true, y_pred): \n",
        "    \"\"\"\n",
        "    Compute mean absolute percentage error (MAPE)\n",
        "    \"\"\"\n",
        "    y_true, y_pred = np.array(y_true), np.array(y_pred)\n",
        "    return np.mean(np.abs((y_true - y_pred) / y_true)) * 100"
      ],
      "metadata": {
        "id": "hIS2abHjPNl7"
      },
      "execution_count": 15,
      "outputs": []
    },
    {
      "cell_type": "code",
      "source": [
        "#PREDICTION TEST DATASET\n",
        "Y_train_pred = lr.predict(X_train)\n",
        "Y_val_pred = lr.predict(X_val)\n",
        "Y_test_pred = lr.predict(X_test)"
      ],
      "metadata": {
        "id": "ogO4E_MPPVI6"
      },
      "execution_count": 16,
      "outputs": []
    },
    {
      "cell_type": "code",
      "source": [
        "print(\"Training R-squared: \",round(metrics.r2_score(Y_train,Y_train_pred),2))"
      ],
      "metadata": {
        "colab": {
          "base_uri": "https://localhost:8080/"
        },
        "id": "NMTm-7LnPg4O",
        "outputId": "fb4eadb2-de23-451c-f928-7667e33cb4b3"
      },
      "execution_count": 17,
      "outputs": [
        {
          "output_type": "stream",
          "name": "stdout",
          "text": [
            "Training R-squared:  1.0\n"
          ]
        }
      ]
    },
    {
      "cell_type": "code",
      "source": [
        "print(\"Training Explained Variation: \",round(metrics.explained_variance_score(Y_train,Y_train_pred),2))"
      ],
      "metadata": {
        "id": "NVJ2KubSPts1",
        "colab": {
          "base_uri": "https://localhost:8080/"
        },
        "outputId": "4aad6d45-a4aa-4da0-ea32-e00585cab3e9"
      },
      "execution_count": 18,
      "outputs": [
        {
          "output_type": "stream",
          "name": "stdout",
          "text": [
            "Training Explained Variation:  1.0\n"
          ]
        }
      ]
    },
    {
      "cell_type": "code",
      "source": [
        "print('Training MAPE:', round(get_mape(Y_train,Y_train_pred), 2)) "
      ],
      "metadata": {
        "colab": {
          "base_uri": "https://localhost:8080/"
        },
        "id": "5Ix4ttOTXSmk",
        "outputId": "2b590fc2-1011-46ec-f499-ef2adfd12346"
      },
      "execution_count": 19,
      "outputs": [
        {
          "output_type": "stream",
          "name": "stdout",
          "text": [
            "Training MAPE: 1.45\n"
          ]
        }
      ]
    },
    {
      "cell_type": "code",
      "source": [
        "print('Training Mean Squared Error:', round(metrics.mean_squared_error(Y_train,Y_train_pred), 2)) "
      ],
      "metadata": {
        "colab": {
          "base_uri": "https://localhost:8080/"
        },
        "id": "McsM9DKKXSrE",
        "outputId": "230687b5-7373-4a2e-a3be-0c6ab55b381a"
      },
      "execution_count": 20,
      "outputs": [
        {
          "output_type": "stream",
          "name": "stdout",
          "text": [
            "Training Mean Squared Error: 1.48\n"
          ]
        }
      ]
    },
    {
      "cell_type": "code",
      "source": [
        "print(\"Training RMSE: \",round(np.sqrt(metrics.mean_squared_error(Y_train,Y_train_pred)),2))"
      ],
      "metadata": {
        "colab": {
          "base_uri": "https://localhost:8080/"
        },
        "id": "Oq2VZunuXXTo",
        "outputId": "0e99ffd2-4adf-4d27-88a0-1defafaccc3f"
      },
      "execution_count": 21,
      "outputs": [
        {
          "output_type": "stream",
          "name": "stdout",
          "text": [
            "Training RMSE:  1.22\n"
          ]
        }
      ]
    },
    {
      "cell_type": "code",
      "source": [
        "print(\"Training MAE: \",round(metrics.mean_absolute_error(Y_train,Y_train_pred),2))"
      ],
      "metadata": {
        "colab": {
          "base_uri": "https://localhost:8080/"
        },
        "id": "GMZRD5-SXXhw",
        "outputId": "3e2f1a6d-03f5-4745-9e15-1d3c5a0c4932"
      },
      "execution_count": 22,
      "outputs": [
        {
          "output_type": "stream",
          "name": "stdout",
          "text": [
            "Training MAE:  0.76\n"
          ]
        }
      ]
    },
    {
      "cell_type": "code",
      "source": [
        "print(\"Validation R-squared: \",round(metrics.r2_score(Y_val,Y_val_pred),2))"
      ],
      "metadata": {
        "colab": {
          "base_uri": "https://localhost:8080/"
        },
        "id": "tArUXWDkXSus",
        "outputId": "a6bd59fc-4467-4791-fa67-1d98e77ed150"
      },
      "execution_count": 23,
      "outputs": [
        {
          "output_type": "stream",
          "name": "stdout",
          "text": [
            "Validation R-squared:  0.99\n"
          ]
        }
      ]
    },
    {
      "cell_type": "code",
      "source": [
        "print(\"Validation Explained Variation: \",round(metrics.explained_variance_score(Y_val,Y_val_pred),2))"
      ],
      "metadata": {
        "colab": {
          "base_uri": "https://localhost:8080/"
        },
        "id": "1P2UVDQTXS3J",
        "outputId": "b4e56947-873f-4574-b099-7af486695a8c"
      },
      "execution_count": 24,
      "outputs": [
        {
          "output_type": "stream",
          "name": "stdout",
          "text": [
            "Validation Explained Variation:  0.99\n"
          ]
        }
      ]
    },
    {
      "cell_type": "code",
      "source": [
        "print('Validation MAPE:', round(get_mape(Y_val,Y_val_pred), 2)) "
      ],
      "metadata": {
        "colab": {
          "base_uri": "https://localhost:8080/"
        },
        "id": "U5ysPZe_XhHZ",
        "outputId": "fb96f5a0-932b-4fff-99ef-b921e1c7efc4"
      },
      "execution_count": 25,
      "outputs": [
        {
          "output_type": "stream",
          "name": "stdout",
          "text": [
            "Validation MAPE: 1.68\n"
          ]
        }
      ]
    },
    {
      "cell_type": "code",
      "source": [
        "print('Validation Mean Squared Error:', round(metrics.mean_squared_error(Y_train,Y_train_pred), 2)) "
      ],
      "metadata": {
        "colab": {
          "base_uri": "https://localhost:8080/"
        },
        "id": "EkNt-sJPXhLK",
        "outputId": "a81946ab-5834-45ed-ec99-fa5d150c6c56"
      },
      "execution_count": 26,
      "outputs": [
        {
          "output_type": "stream",
          "name": "stdout",
          "text": [
            "Validation Mean Squared Error: 1.48\n"
          ]
        }
      ]
    },
    {
      "cell_type": "code",
      "source": [
        "print(\"Validation RMSE: \",round(np.sqrt(metrics.mean_squared_error(Y_val,Y_val_pred)),2))"
      ],
      "metadata": {
        "colab": {
          "base_uri": "https://localhost:8080/"
        },
        "id": "KEs8wC7rXhOe",
        "outputId": "b11a0d69-d901-4b52-e101-b73ba0a7a440"
      },
      "execution_count": 27,
      "outputs": [
        {
          "output_type": "stream",
          "name": "stdout",
          "text": [
            "Validation RMSE:  5.91\n"
          ]
        }
      ]
    },
    {
      "cell_type": "code",
      "source": [
        "print(\"Validation MAE: \",round(metrics.mean_absolute_error(Y_val,Y_val_pred),2))"
      ],
      "metadata": {
        "colab": {
          "base_uri": "https://localhost:8080/"
        },
        "id": "fK3o8k-ZXhRv",
        "outputId": "83d426fe-b78e-4838-b8c1-691da3572aa3"
      },
      "execution_count": 28,
      "outputs": [
        {
          "output_type": "stream",
          "name": "stdout",
          "text": [
            "Validation MAE:  3.75\n"
          ]
        }
      ]
    },
    {
      "cell_type": "code",
      "source": [
        "print(\"Test R-squared: \",round(metrics.r2_score(Y_test,Y_test_pred),2))"
      ],
      "metadata": {
        "colab": {
          "base_uri": "https://localhost:8080/"
        },
        "id": "s0Fq80HMXhUj",
        "outputId": "844701f3-ebb2-4a6a-b672-aff11048a341"
      },
      "execution_count": 29,
      "outputs": [
        {
          "output_type": "stream",
          "name": "stdout",
          "text": [
            "Test R-squared:  0.96\n"
          ]
        }
      ]
    },
    {
      "cell_type": "code",
      "source": [
        "print(\"Test Explained Variation: \",round(metrics.explained_variance_score(Y_test,Y_test_pred),2))"
      ],
      "metadata": {
        "colab": {
          "base_uri": "https://localhost:8080/"
        },
        "id": "1X4OLgh_XrlM",
        "outputId": "bff1f07f-122c-4c40-b2f3-da5e00babe85"
      },
      "execution_count": 30,
      "outputs": [
        {
          "output_type": "stream",
          "name": "stdout",
          "text": [
            "Test Explained Variation:  0.97\n"
          ]
        }
      ]
    },
    {
      "cell_type": "code",
      "source": [
        "print('Test MAPE:', round(get_mape(Y_test,Y_test_pred), 2))"
      ],
      "metadata": {
        "colab": {
          "base_uri": "https://localhost:8080/"
        },
        "id": "UylIjIN9XroE",
        "outputId": "e1602c0f-16ab-4394-bca0-df0410e8afa1"
      },
      "execution_count": 31,
      "outputs": [
        {
          "output_type": "stream",
          "name": "stdout",
          "text": [
            "Test MAPE: 1.77\n"
          ]
        }
      ]
    },
    {
      "cell_type": "code",
      "source": [
        "print('Test Mean Squared Error:', round(metrics.mean_squared_error(Y_test,Y_test_pred), 2)) "
      ],
      "metadata": {
        "colab": {
          "base_uri": "https://localhost:8080/"
        },
        "id": "95Gv4nz9Xrrd",
        "outputId": "e7d9f322-5e71-4b17-9160-ad5769487d59"
      },
      "execution_count": 32,
      "outputs": [
        {
          "output_type": "stream",
          "name": "stdout",
          "text": [
            "Test Mean Squared Error: 79.21\n"
          ]
        }
      ]
    },
    {
      "cell_type": "code",
      "source": [
        "print(\"Test RMSE: \",round(np.sqrt(metrics.mean_squared_error(Y_test,Y_test_pred)),2))"
      ],
      "metadata": {
        "colab": {
          "base_uri": "https://localhost:8080/"
        },
        "id": "ytuWFfmzXhYA",
        "outputId": "6419b7cb-2edf-4c0d-f7ef-9caa46ea24e3"
      },
      "execution_count": 33,
      "outputs": [
        {
          "output_type": "stream",
          "name": "stdout",
          "text": [
            "Test RMSE:  8.9\n"
          ]
        }
      ]
    },
    {
      "cell_type": "code",
      "source": [
        "print(\"Test MAE: \",round(metrics.mean_absolute_error(Y_test,Y_test_pred),2))"
      ],
      "metadata": {
        "colab": {
          "base_uri": "https://localhost:8080/"
        },
        "id": "N_6MRsFAX1CT",
        "outputId": "334d85f1-1e44-414b-b3ec-6940c0ea2f96"
      },
      "execution_count": 34,
      "outputs": [
        {
          "output_type": "stream",
          "name": "stdout",
          "text": [
            "Test MAE:  6.5\n"
          ]
        }
      ]
    },
    {
      "cell_type": "code",
      "source": [
        "df_pred = pd.DataFrame(Y_val.values, columns=['Actual'], index=Y_val.index)\n",
        "df_pred['Predicted'] = Y_val_pred\n",
        "df_pred = df_pred.reset_index()\n",
        "df_pred.loc[:, 'Date'] = pd.to_datetime(df_pred['Date'],format='%Y-%m-%d')\n",
        "df_pred"
      ],
      "metadata": {
        "colab": {
          "base_uri": "https://localhost:8080/",
          "height": 423
        },
        "id": "4I9SA0bMP4Kr",
        "outputId": "16e599d4-c2dc-4f11-cbdc-702f39c93d69"
      },
      "execution_count": 35,
      "outputs": [
        {
          "output_type": "execute_result",
          "data": {
            "text/plain": [
              "          Date  Actual   Predicted\n",
              "0   2018-11-01  202.30  216.289778\n",
              "1   2018-11-02  196.56  201.470182\n",
              "2   2018-11-05  198.68  195.948933\n",
              "3   2018-11-06  204.71  199.043601\n",
              "4   2018-11-07  204.00  204.193666\n",
              "..         ...     ...         ...\n",
              "368 2020-04-22  273.79  275.751755\n",
              "369 2020-04-23  281.70  274.020243\n",
              "370 2020-04-24  281.90  280.710045\n",
              "371 2020-04-27  277.33  280.543603\n",
              "372 2020-04-28  286.44  276.562125\n",
              "\n",
              "[373 rows x 3 columns]"
            ],
            "text/html": [
              "\n",
              "  <div id=\"df-86a20b44-693b-4ee8-9ed3-87f4b0622590\">\n",
              "    <div class=\"colab-df-container\">\n",
              "      <div>\n",
              "<style scoped>\n",
              "    .dataframe tbody tr th:only-of-type {\n",
              "        vertical-align: middle;\n",
              "    }\n",
              "\n",
              "    .dataframe tbody tr th {\n",
              "        vertical-align: top;\n",
              "    }\n",
              "\n",
              "    .dataframe thead th {\n",
              "        text-align: right;\n",
              "    }\n",
              "</style>\n",
              "<table border=\"1\" class=\"dataframe\">\n",
              "  <thead>\n",
              "    <tr style=\"text-align: right;\">\n",
              "      <th></th>\n",
              "      <th>Date</th>\n",
              "      <th>Actual</th>\n",
              "      <th>Predicted</th>\n",
              "    </tr>\n",
              "  </thead>\n",
              "  <tbody>\n",
              "    <tr>\n",
              "      <th>0</th>\n",
              "      <td>2018-11-01</td>\n",
              "      <td>202.30</td>\n",
              "      <td>216.289778</td>\n",
              "    </tr>\n",
              "    <tr>\n",
              "      <th>1</th>\n",
              "      <td>2018-11-02</td>\n",
              "      <td>196.56</td>\n",
              "      <td>201.470182</td>\n",
              "    </tr>\n",
              "    <tr>\n",
              "      <th>2</th>\n",
              "      <td>2018-11-05</td>\n",
              "      <td>198.68</td>\n",
              "      <td>195.948933</td>\n",
              "    </tr>\n",
              "    <tr>\n",
              "      <th>3</th>\n",
              "      <td>2018-11-06</td>\n",
              "      <td>204.71</td>\n",
              "      <td>199.043601</td>\n",
              "    </tr>\n",
              "    <tr>\n",
              "      <th>4</th>\n",
              "      <td>2018-11-07</td>\n",
              "      <td>204.00</td>\n",
              "      <td>204.193666</td>\n",
              "    </tr>\n",
              "    <tr>\n",
              "      <th>...</th>\n",
              "      <td>...</td>\n",
              "      <td>...</td>\n",
              "      <td>...</td>\n",
              "    </tr>\n",
              "    <tr>\n",
              "      <th>368</th>\n",
              "      <td>2020-04-22</td>\n",
              "      <td>273.79</td>\n",
              "      <td>275.751755</td>\n",
              "    </tr>\n",
              "    <tr>\n",
              "      <th>369</th>\n",
              "      <td>2020-04-23</td>\n",
              "      <td>281.70</td>\n",
              "      <td>274.020243</td>\n",
              "    </tr>\n",
              "    <tr>\n",
              "      <th>370</th>\n",
              "      <td>2020-04-24</td>\n",
              "      <td>281.90</td>\n",
              "      <td>280.710045</td>\n",
              "    </tr>\n",
              "    <tr>\n",
              "      <th>371</th>\n",
              "      <td>2020-04-27</td>\n",
              "      <td>277.33</td>\n",
              "      <td>280.543603</td>\n",
              "    </tr>\n",
              "    <tr>\n",
              "      <th>372</th>\n",
              "      <td>2020-04-28</td>\n",
              "      <td>286.44</td>\n",
              "      <td>276.562125</td>\n",
              "    </tr>\n",
              "  </tbody>\n",
              "</table>\n",
              "<p>373 rows × 3 columns</p>\n",
              "</div>\n",
              "      <button class=\"colab-df-convert\" onclick=\"convertToInteractive('df-86a20b44-693b-4ee8-9ed3-87f4b0622590')\"\n",
              "              title=\"Convert this dataframe to an interactive table.\"\n",
              "              style=\"display:none;\">\n",
              "        \n",
              "  <svg xmlns=\"http://www.w3.org/2000/svg\" height=\"24px\"viewBox=\"0 0 24 24\"\n",
              "       width=\"24px\">\n",
              "    <path d=\"M0 0h24v24H0V0z\" fill=\"none\"/>\n",
              "    <path d=\"M18.56 5.44l.94 2.06.94-2.06 2.06-.94-2.06-.94-.94-2.06-.94 2.06-2.06.94zm-11 1L8.5 8.5l.94-2.06 2.06-.94-2.06-.94L8.5 2.5l-.94 2.06-2.06.94zm10 10l.94 2.06.94-2.06 2.06-.94-2.06-.94-.94-2.06-.94 2.06-2.06.94z\"/><path d=\"M17.41 7.96l-1.37-1.37c-.4-.4-.92-.59-1.43-.59-.52 0-1.04.2-1.43.59L10.3 9.45l-7.72 7.72c-.78.78-.78 2.05 0 2.83L4 21.41c.39.39.9.59 1.41.59.51 0 1.02-.2 1.41-.59l7.78-7.78 2.81-2.81c.8-.78.8-2.07 0-2.86zM5.41 20L4 18.59l7.72-7.72 1.47 1.35L5.41 20z\"/>\n",
              "  </svg>\n",
              "      </button>\n",
              "      \n",
              "  <style>\n",
              "    .colab-df-container {\n",
              "      display:flex;\n",
              "      flex-wrap:wrap;\n",
              "      gap: 12px;\n",
              "    }\n",
              "\n",
              "    .colab-df-convert {\n",
              "      background-color: #E8F0FE;\n",
              "      border: none;\n",
              "      border-radius: 50%;\n",
              "      cursor: pointer;\n",
              "      display: none;\n",
              "      fill: #1967D2;\n",
              "      height: 32px;\n",
              "      padding: 0 0 0 0;\n",
              "      width: 32px;\n",
              "    }\n",
              "\n",
              "    .colab-df-convert:hover {\n",
              "      background-color: #E2EBFA;\n",
              "      box-shadow: 0px 1px 2px rgba(60, 64, 67, 0.3), 0px 1px 3px 1px rgba(60, 64, 67, 0.15);\n",
              "      fill: #174EA6;\n",
              "    }\n",
              "\n",
              "    [theme=dark] .colab-df-convert {\n",
              "      background-color: #3B4455;\n",
              "      fill: #D2E3FC;\n",
              "    }\n",
              "\n",
              "    [theme=dark] .colab-df-convert:hover {\n",
              "      background-color: #434B5C;\n",
              "      box-shadow: 0px 1px 3px 1px rgba(0, 0, 0, 0.15);\n",
              "      filter: drop-shadow(0px 1px 2px rgba(0, 0, 0, 0.3));\n",
              "      fill: #FFFFFF;\n",
              "    }\n",
              "  </style>\n",
              "\n",
              "      <script>\n",
              "        const buttonEl =\n",
              "          document.querySelector('#df-86a20b44-693b-4ee8-9ed3-87f4b0622590 button.colab-df-convert');\n",
              "        buttonEl.style.display =\n",
              "          google.colab.kernel.accessAllowed ? 'block' : 'none';\n",
              "\n",
              "        async function convertToInteractive(key) {\n",
              "          const element = document.querySelector('#df-86a20b44-693b-4ee8-9ed3-87f4b0622590');\n",
              "          const dataTable =\n",
              "            await google.colab.kernel.invokeFunction('convertToInteractive',\n",
              "                                                     [key], {});\n",
              "          if (!dataTable) return;\n",
              "\n",
              "          const docLinkHtml = 'Like what you see? Visit the ' +\n",
              "            '<a target=\"_blank\" href=https://colab.research.google.com/notebooks/data_table.ipynb>data table notebook</a>'\n",
              "            + ' to learn more about interactive tables.';\n",
              "          element.innerHTML = '';\n",
              "          dataTable['output_type'] = 'display_data';\n",
              "          await google.colab.output.renderOutput(dataTable, element);\n",
              "          const docLink = document.createElement('div');\n",
              "          docLink.innerHTML = docLinkHtml;\n",
              "          element.appendChild(docLink);\n",
              "        }\n",
              "      </script>\n",
              "    </div>\n",
              "  </div>\n",
              "  "
            ]
          },
          "metadata": {},
          "execution_count": 35
        }
      ]
    },
    {
      "cell_type": "code",
      "source": [
        "df_pred[['Actual', 'Predicted']].plot()"
      ],
      "metadata": {
        "colab": {
          "base_uri": "https://localhost:8080/",
          "height": 282
        },
        "id": "BOl_FAalQHOr",
        "outputId": "92eeb2f1-ca61-499c-f04b-cd909c23edb9"
      },
      "execution_count": 36,
      "outputs": [
        {
          "output_type": "execute_result",
          "data": {
            "text/plain": [
              "<matplotlib.axes._subplots.AxesSubplot at 0x7fc7ae0ba590>"
            ]
          },
          "metadata": {},
          "execution_count": 36
        },
        {
          "output_type": "display_data",
          "data": {
            "text/plain": [
              "<Figure size 432x288 with 1 Axes>"
            ],
            "image/png": "[encoded data removed]"
          },
          "metadata": {
            "needs_background": "light"
          }
        }
      ]
    },
    {
      "cell_type": "code",
      "source": [
        "print(\"Intercept: \",lr.intercept_)\n",
        "print(\"Coefficent: \",lr.coef_)"
      ],
      "metadata": {
        "id": "XsNkW36sQqWD",
        "colab": {
          "base_uri": "https://localhost:8080/"
        },
        "outputId": "8cc825b8-9e0d-4a6f-b6c4-264dca495836"
      },
      "execution_count": 37,
      "outputs": [
        {
          "output_type": "stream",
          "name": "stdout",
          "text": [
            "Intercept:  -83.3648640964228\n",
            "Coefficent:  [ 8.63718430e-03  1.86051919e-01  1.55487056e-01  1.12263756e+00\n",
            "  1.27287036e-10  6.75244700e-03  1.40229153e-01  1.13219365e-01\n",
            "  4.25627945e-02  8.96348485e-02  1.01914954e-01  5.94183534e-02\n",
            "  7.95194230e-02  7.10399924e-02  2.71425005e-01  1.26724259e-01\n",
            "  8.79333149e-02 -5.87980410e-03 -3.31643390e-01 -3.31643390e-01\n",
            " -3.31643390e-01 -3.31643390e-01 -3.31643390e-01  1.88650007e+00\n",
            " -1.27270720e+00 -1.65042225e-01 -4.36658408e-04 -3.17442253e-12\n",
            " -5.07434351e-03  9.02936542e-03  5.78317055e-04  5.78317058e-04\n",
            " -5.57918038e-01 -2.02304618e-10  4.18932389e-11  1.69322438e-02\n",
            "  1.61636704e-02 -1.75659582e-02  6.12165520e-03  2.15420350e-01\n",
            "  1.13979655e-01 -2.41954674e-01  7.63050309e-02  3.73276597e-01\n",
            " -1.16573418e-15 -5.60843989e-02  4.08788806e-02  5.13473863e-01\n",
            " -2.94431540e-02 -8.41335080e-02  5.10939135e-02 -8.14435716e-03\n",
            " -1.95035195e-02  5.67587251e-02  4.39707788e-02  1.29311738e-02\n",
            " -9.99967544e-03 -3.89778364e-03 -1.62174814e-03  1.44436900e-03\n",
            "  2.83455424e-04]\n"
          ]
        }
      ]
    }
  ]
}