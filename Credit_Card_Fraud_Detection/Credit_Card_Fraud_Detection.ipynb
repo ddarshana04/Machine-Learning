{
  "nbformat": 4,
  "nbformat_minor": 0,
  "metadata": {
    "colab": {
      "provenance": [],
      "collapsed_sections": [],
      "authorship_tag": "ABX9TyMtywuziQcKMrJHa5TiikVc",
      "include_colab_link": true
    },
    "kernelspec": {
      "name": "python3",
      "display_name": "Python 3"
    },
    "language_info": {
      "name": "python"
    }
  },
  "cells": [
    {
      "cell_type": "markdown",
      "metadata": {
        "id": "view-in-github",
        "colab_type": "text"
      },
      "source": [
        "<a href=\"https://colab.research.google.com/github/ddarshana04/Machine-Learning/blob/main/Credit_Card_Fraud_Detection/Credit_Card_Fraud_Detection.ipynb\" target=\"_parent\"><img src=\"https://colab.research.google.com/assets/colab-badge.svg\" alt=\"Open In Colab\"/></a>"
      ]
    },
    {
      "cell_type": "code",
      "execution_count": 35,
      "metadata": {
        "id": "zHPkzAIt_NuY"
      },
      "outputs": [],
      "source": [
        "import numpy as np\n",
        "import pandas as pd\n",
        "\n",
        "# For visualization\n",
        "import matplotlib.pyplot as plt\n",
        "%matplotlib inline\n",
        "import seaborn as sns\n",
        "pd.options.display.max_rows = None #to show all rows\n",
        "pd.options.display.max_columns = None #to show all columns\n",
        "\n",
        "# For encoding categorical data\n",
        "from sklearn.preprocessing import OneHotEncoder\n",
        "\n",
        "# For scaling\n",
        "from sklearn.preprocessing import RobustScaler\n",
        "\n",
        "# For splitting data\n",
        "from sklearn.model_selection import train_test_split\n",
        "\n",
        "# For modelling\n",
        "from sklearn.model_selection import GridSearchCV\n",
        "from sklearn.tree import DecisionTreeClassifier\n",
        "from sklearn.svm import SVC\n",
        "from sklearn.neighbors import KNeighborsClassifier\n",
        "from sklearn.linear_model import LogisticRegression\n",
        "from sklearn.ensemble import RandomForestClassifier\n",
        "from xgboost import XGBClassifier\n",
        "from sklearn.preprocessing import PolynomialFeatures\n",
        "\n",
        "# For evaluation\n",
        "from sklearn.metrics import confusion_matrix, f1_score, classification_report, roc_auc_score, roc_curve"
      ]
    },
    {
      "cell_type": "code",
      "source": [
        "# Aesthetics\n",
        "sns.set_style('darkgrid')\n",
        "sns.set_palette('Set2')\n",
        "mpl_color = sns.color_palette('Set2')\n",
        "\n",
        "# Plot features universal settings\n",
        "plt.rc('axes', titlesize=18)\n",
        "plt.rc('axes', labelsize=14)\n",
        "plt.rc('xtick', labelsize=13)\n",
        "plt.rc('ytick', labelsize=13)\n",
        "plt.rc('legend', fontsize=13)\n",
        "plt.rc('font', size=13)"
      ],
      "metadata": {
        "id": "uJCiZaAk_6ou"
      },
      "execution_count": 36,
      "outputs": []
    },
    {
      "cell_type": "code",
      "source": [
        "df = pd.read_csv('creditcard.csv')"
      ],
      "metadata": {
        "id": "c0B6M3NU_7gC"
      },
      "execution_count": 37,
      "outputs": []
    },
    {
      "cell_type": "code",
      "source": [
        "df.head()"
      ],
      "metadata": {
        "colab": {
          "base_uri": "https://localhost:8080/",
          "height": 270
        },
        "id": "EunX2jvUAAwr",
        "outputId": "5c805696-e84b-4089-9937-10939a5847ec"
      },
      "execution_count": 38,
      "outputs": [
        {
          "output_type": "execute_result",
          "data": {
            "text/plain": [
              "   Time        V1        V2        V3        V4        V5        V6        V7  \\\n",
              "0   0.0 -1.359807 -0.072781  2.536347  1.378155 -0.338321  0.462388  0.239599   \n",
              "1   0.0  1.191857  0.266151  0.166480  0.448154  0.060018 -0.082361 -0.078803   \n",
              "2   1.0 -1.358354 -1.340163  1.773209  0.379780 -0.503198  1.800499  0.791461   \n",
              "3   1.0 -0.966272 -0.185226  1.792993 -0.863291 -0.010309  1.247203  0.237609   \n",
              "4   2.0 -1.158233  0.877737  1.548718  0.403034 -0.407193  0.095921  0.592941   \n",
              "\n",
              "         V8        V9       V10       V11       V12       V13       V14  \\\n",
              "0  0.098698  0.363787  0.090794 -0.551600 -0.617801 -0.991390 -0.311169   \n",
              "1  0.085102 -0.255425 -0.166974  1.612727  1.065235  0.489095 -0.143772   \n",
              "2  0.247676 -1.514654  0.207643  0.624501  0.066084  0.717293 -0.165946   \n",
              "3  0.377436 -1.387024 -0.054952 -0.226487  0.178228  0.507757 -0.287924   \n",
              "4 -0.270533  0.817739  0.753074 -0.822843  0.538196  1.345852 -1.119670   \n",
              "\n",
              "        V15       V16       V17       V18       V19       V20       V21  \\\n",
              "0  1.468177 -0.470401  0.207971  0.025791  0.403993  0.251412 -0.018307   \n",
              "1  0.635558  0.463917 -0.114805 -0.183361 -0.145783 -0.069083 -0.225775   \n",
              "2  2.345865 -2.890083  1.109969 -0.121359 -2.261857  0.524980  0.247998   \n",
              "3 -0.631418 -1.059647 -0.684093  1.965775 -1.232622 -0.208038 -0.108300   \n",
              "4  0.175121 -0.451449 -0.237033 -0.038195  0.803487  0.408542 -0.009431   \n",
              "\n",
              "        V22       V23       V24       V25       V26       V27       V28  \\\n",
              "0  0.277838 -0.110474  0.066928  0.128539 -0.189115  0.133558 -0.021053   \n",
              "1 -0.638672  0.101288 -0.339846  0.167170  0.125895 -0.008983  0.014724   \n",
              "2  0.771679  0.909412 -0.689281 -0.327642 -0.139097 -0.055353 -0.059752   \n",
              "3  0.005274 -0.190321 -1.175575  0.647376 -0.221929  0.062723  0.061458   \n",
              "4  0.798278 -0.137458  0.141267 -0.206010  0.502292  0.219422  0.215153   \n",
              "\n",
              "   Amount  Class  \n",
              "0  149.62    0.0  \n",
              "1    2.69    0.0  \n",
              "2  378.66    0.0  \n",
              "3  123.50    0.0  \n",
              "4   69.99    0.0  "
            ],
            "text/html": [
              "\n",
              "  <div id=\"df-08da6833-e6e5-453c-ac92-c651602eb523\">\n",
              "    <div class=\"colab-df-container\">\n",
              "      <div>\n",
              "<style scoped>\n",
              "    .dataframe tbody tr th:only-of-type {\n",
              "        vertical-align: middle;\n",
              "    }\n",
              "\n",
              "    .dataframe tbody tr th {\n",
              "        vertical-align: top;\n",
              "    }\n",
              "\n",
              "    .dataframe thead th {\n",
              "        text-align: right;\n",
              "    }\n",
              "</style>\n",
              "<table border=\"1\" class=\"dataframe\">\n",
              "  <thead>\n",
              "    <tr style=\"text-align: right;\">\n",
              "      <th></th>\n",
              "      <th>Time</th>\n",
              "      <th>V1</th>\n",
              "      <th>V2</th>\n",
              "      <th>V3</th>\n",
              "      <th>V4</th>\n",
              "      <th>V5</th>\n",
              "      <th>V6</th>\n",
              "      <th>V7</th>\n",
              "      <th>V8</th>\n",
              "      <th>V9</th>\n",
              "      <th>V10</th>\n",
              "      <th>V11</th>\n",
              "      <th>V12</th>\n",
              "      <th>V13</th>\n",
              "      <th>V14</th>\n",
              "      <th>V15</th>\n",
              "      <th>V16</th>\n",
              "      <th>V17</th>\n",
              "      <th>V18</th>\n",
              "      <th>V19</th>\n",
              "      <th>V20</th>\n",
              "      <th>V21</th>\n",
              "      <th>V22</th>\n",
              "      <th>V23</th>\n",
              "      <th>V24</th>\n",
              "      <th>V25</th>\n",
              "      <th>V26</th>\n",
              "      <th>V27</th>\n",
              "      <th>V28</th>\n",
              "      <th>Amount</th>\n",
              "      <th>Class</th>\n",
              "    </tr>\n",
              "  </thead>\n",
              "  <tbody>\n",
              "    <tr>\n",
              "      <th>0</th>\n",
              "      <td>0.0</td>\n",
              "      <td>-1.359807</td>\n",
              "      <td>-0.072781</td>\n",
              "      <td>2.536347</td>\n",
              "      <td>1.378155</td>\n",
              "      <td>-0.338321</td>\n",
              "      <td>0.462388</td>\n",
              "      <td>0.239599</td>\n",
              "      <td>0.098698</td>\n",
              "      <td>0.363787</td>\n",
              "      <td>0.090794</td>\n",
              "      <td>-0.551600</td>\n",
              "      <td>-0.617801</td>\n",
              "      <td>-0.991390</td>\n",
              "      <td>-0.311169</td>\n",
              "      <td>1.468177</td>\n",
              "      <td>-0.470401</td>\n",
              "      <td>0.207971</td>\n",
              "      <td>0.025791</td>\n",
              "      <td>0.403993</td>\n",
              "      <td>0.251412</td>\n",
              "      <td>-0.018307</td>\n",
              "      <td>0.277838</td>\n",
              "      <td>-0.110474</td>\n",
              "      <td>0.066928</td>\n",
              "      <td>0.128539</td>\n",
              "      <td>-0.189115</td>\n",
              "      <td>0.133558</td>\n",
              "      <td>-0.021053</td>\n",
              "      <td>149.62</td>\n",
              "      <td>0.0</td>\n",
              "    </tr>\n",
              "    <tr>\n",
              "      <th>1</th>\n",
              "      <td>0.0</td>\n",
              "      <td>1.191857</td>\n",
              "      <td>0.266151</td>\n",
              "      <td>0.166480</td>\n",
              "      <td>0.448154</td>\n",
              "      <td>0.060018</td>\n",
              "      <td>-0.082361</td>\n",
              "      <td>-0.078803</td>\n",
              "      <td>0.085102</td>\n",
              "      <td>-0.255425</td>\n",
              "      <td>-0.166974</td>\n",
              "      <td>1.612727</td>\n",
              "      <td>1.065235</td>\n",
              "      <td>0.489095</td>\n",
              "      <td>-0.143772</td>\n",
              "      <td>0.635558</td>\n",
              "      <td>0.463917</td>\n",
              "      <td>-0.114805</td>\n",
              "      <td>-0.183361</td>\n",
              "      <td>-0.145783</td>\n",
              "      <td>-0.069083</td>\n",
              "      <td>-0.225775</td>\n",
              "      <td>-0.638672</td>\n",
              "      <td>0.101288</td>\n",
              "      <td>-0.339846</td>\n",
              "      <td>0.167170</td>\n",
              "      <td>0.125895</td>\n",
              "      <td>-0.008983</td>\n",
              "      <td>0.014724</td>\n",
              "      <td>2.69</td>\n",
              "      <td>0.0</td>\n",
              "    </tr>\n",
              "    <tr>\n",
              "      <th>2</th>\n",
              "      <td>1.0</td>\n",
              "      <td>-1.358354</td>\n",
              "      <td>-1.340163</td>\n",
              "      <td>1.773209</td>\n",
              "      <td>0.379780</td>\n",
              "      <td>-0.503198</td>\n",
              "      <td>1.800499</td>\n",
              "      <td>0.791461</td>\n",
              "      <td>0.247676</td>\n",
              "      <td>-1.514654</td>\n",
              "      <td>0.207643</td>\n",
              "      <td>0.624501</td>\n",
              "      <td>0.066084</td>\n",
              "      <td>0.717293</td>\n",
              "      <td>-0.165946</td>\n",
              "      <td>2.345865</td>\n",
              "      <td>-2.890083</td>\n",
              "      <td>1.109969</td>\n",
              "      <td>-0.121359</td>\n",
              "      <td>-2.261857</td>\n",
              "      <td>0.524980</td>\n",
              "      <td>0.247998</td>\n",
              "      <td>0.771679</td>\n",
              "      <td>0.909412</td>\n",
              "      <td>-0.689281</td>\n",
              "      <td>-0.327642</td>\n",
              "      <td>-0.139097</td>\n",
              "      <td>-0.055353</td>\n",
              "      <td>-0.059752</td>\n",
              "      <td>378.66</td>\n",
              "      <td>0.0</td>\n",
              "    </tr>\n",
              "    <tr>\n",
              "      <th>3</th>\n",
              "      <td>1.0</td>\n",
              "      <td>-0.966272</td>\n",
              "      <td>-0.185226</td>\n",
              "      <td>1.792993</td>\n",
              "      <td>-0.863291</td>\n",
              "      <td>-0.010309</td>\n",
              "      <td>1.247203</td>\n",
              "      <td>0.237609</td>\n",
              "      <td>0.377436</td>\n",
              "      <td>-1.387024</td>\n",
              "      <td>-0.054952</td>\n",
              "      <td>-0.226487</td>\n",
              "      <td>0.178228</td>\n",
              "      <td>0.507757</td>\n",
              "      <td>-0.287924</td>\n",
              "      <td>-0.631418</td>\n",
              "      <td>-1.059647</td>\n",
              "      <td>-0.684093</td>\n",
              "      <td>1.965775</td>\n",
              "      <td>-1.232622</td>\n",
              "      <td>-0.208038</td>\n",
              "      <td>-0.108300</td>\n",
              "      <td>0.005274</td>\n",
              "      <td>-0.190321</td>\n",
              "      <td>-1.175575</td>\n",
              "      <td>0.647376</td>\n",
              "      <td>-0.221929</td>\n",
              "      <td>0.062723</td>\n",
              "      <td>0.061458</td>\n",
              "      <td>123.50</td>\n",
              "      <td>0.0</td>\n",
              "    </tr>\n",
              "    <tr>\n",
              "      <th>4</th>\n",
              "      <td>2.0</td>\n",
              "      <td>-1.158233</td>\n",
              "      <td>0.877737</td>\n",
              "      <td>1.548718</td>\n",
              "      <td>0.403034</td>\n",
              "      <td>-0.407193</td>\n",
              "      <td>0.095921</td>\n",
              "      <td>0.592941</td>\n",
              "      <td>-0.270533</td>\n",
              "      <td>0.817739</td>\n",
              "      <td>0.753074</td>\n",
              "      <td>-0.822843</td>\n",
              "      <td>0.538196</td>\n",
              "      <td>1.345852</td>\n",
              "      <td>-1.119670</td>\n",
              "      <td>0.175121</td>\n",
              "      <td>-0.451449</td>\n",
              "      <td>-0.237033</td>\n",
              "      <td>-0.038195</td>\n",
              "      <td>0.803487</td>\n",
              "      <td>0.408542</td>\n",
              "      <td>-0.009431</td>\n",
              "      <td>0.798278</td>\n",
              "      <td>-0.137458</td>\n",
              "      <td>0.141267</td>\n",
              "      <td>-0.206010</td>\n",
              "      <td>0.502292</td>\n",
              "      <td>0.219422</td>\n",
              "      <td>0.215153</td>\n",
              "      <td>69.99</td>\n",
              "      <td>0.0</td>\n",
              "    </tr>\n",
              "  </tbody>\n",
              "</table>\n",
              "</div>\n",
              "      <button class=\"colab-df-convert\" onclick=\"convertToInteractive('df-08da6833-e6e5-453c-ac92-c651602eb523')\"\n",
              "              title=\"Convert this dataframe to an interactive table.\"\n",
              "              style=\"display:none;\">\n",
              "        \n",
              "  <svg xmlns=\"http://www.w3.org/2000/svg\" height=\"24px\"viewBox=\"0 0 24 24\"\n",
              "       width=\"24px\">\n",
              "    <path d=\"M0 0h24v24H0V0z\" fill=\"none\"/>\n",
              "    <path d=\"M18.56 5.44l.94 2.06.94-2.06 2.06-.94-2.06-.94-.94-2.06-.94 2.06-2.06.94zm-11 1L8.5 8.5l.94-2.06 2.06-.94-2.06-.94L8.5 2.5l-.94 2.06-2.06.94zm10 10l.94 2.06.94-2.06 2.06-.94-2.06-.94-.94-2.06-.94 2.06-2.06.94z\"/><path d=\"M17.41 7.96l-1.37-1.37c-.4-.4-.92-.59-1.43-.59-.52 0-1.04.2-1.43.59L10.3 9.45l-7.72 7.72c-.78.78-.78 2.05 0 2.83L4 21.41c.39.39.9.59 1.41.59.51 0 1.02-.2 1.41-.59l7.78-7.78 2.81-2.81c.8-.78.8-2.07 0-2.86zM5.41 20L4 18.59l7.72-7.72 1.47 1.35L5.41 20z\"/>\n",
              "  </svg>\n",
              "      </button>\n",
              "      \n",
              "  <style>\n",
              "    .colab-df-container {\n",
              "      display:flex;\n",
              "      flex-wrap:wrap;\n",
              "      gap: 12px;\n",
              "    }\n",
              "\n",
              "    .colab-df-convert {\n",
              "      background-color: #E8F0FE;\n",
              "      border: none;\n",
              "      border-radius: 50%;\n",
              "      cursor: pointer;\n",
              "      display: none;\n",
              "      fill: #1967D2;\n",
              "      height: 32px;\n",
              "      padding: 0 0 0 0;\n",
              "      width: 32px;\n",
              "    }\n",
              "\n",
              "    .colab-df-convert:hover {\n",
              "      background-color: #E2EBFA;\n",
              "      box-shadow: 0px 1px 2px rgba(60, 64, 67, 0.3), 0px 1px 3px 1px rgba(60, 64, 67, 0.15);\n",
              "      fill: #174EA6;\n",
              "    }\n",
              "\n",
              "    [theme=dark] .colab-df-convert {\n",
              "      background-color: #3B4455;\n",
              "      fill: #D2E3FC;\n",
              "    }\n",
              "\n",
              "    [theme=dark] .colab-df-convert:hover {\n",
              "      background-color: #434B5C;\n",
              "      box-shadow: 0px 1px 3px 1px rgba(0, 0, 0, 0.15);\n",
              "      filter: drop-shadow(0px 1px 2px rgba(0, 0, 0, 0.3));\n",
              "      fill: #FFFFFF;\n",
              "    }\n",
              "  </style>\n",
              "\n",
              "      <script>\n",
              "        const buttonEl =\n",
              "          document.querySelector('#df-08da6833-e6e5-453c-ac92-c651602eb523 button.colab-df-convert');\n",
              "        buttonEl.style.display =\n",
              "          google.colab.kernel.accessAllowed ? 'block' : 'none';\n",
              "\n",
              "        async function convertToInteractive(key) {\n",
              "          const element = document.querySelector('#df-08da6833-e6e5-453c-ac92-c651602eb523');\n",
              "          const dataTable =\n",
              "            await google.colab.kernel.invokeFunction('convertToInteractive',\n",
              "                                                     [key], {});\n",
              "          if (!dataTable) return;\n",
              "\n",
              "          const docLinkHtml = 'Like what you see? Visit the ' +\n",
              "            '<a target=\"_blank\" href=https://colab.research.google.com/notebooks/data_table.ipynb>data table notebook</a>'\n",
              "            + ' to learn more about interactive tables.';\n",
              "          element.innerHTML = '';\n",
              "          dataTable['output_type'] = 'display_data';\n",
              "          await google.colab.output.renderOutput(dataTable, element);\n",
              "          const docLink = document.createElement('div');\n",
              "          docLink.innerHTML = docLinkHtml;\n",
              "          element.appendChild(docLink);\n",
              "        }\n",
              "      </script>\n",
              "    </div>\n",
              "  </div>\n",
              "  "
            ]
          },
          "metadata": {},
          "execution_count": 38
        }
      ]
    },
    {
      "cell_type": "code",
      "source": [
        "df.info()"
      ],
      "metadata": {
        "colab": {
          "base_uri": "https://localhost:8080/"
        },
        "id": "gKr6SCxGAHja",
        "outputId": "29536913-a7b1-419c-be11-030d9aa65dcc"
      },
      "execution_count": 39,
      "outputs": [
        {
          "output_type": "stream",
          "name": "stdout",
          "text": [
            "<class 'pandas.core.frame.DataFrame'>\n",
            "RangeIndex: 202103 entries, 0 to 202102\n",
            "Data columns (total 31 columns):\n",
            " #   Column  Non-Null Count   Dtype  \n",
            "---  ------  --------------   -----  \n",
            " 0   Time    202103 non-null  float64\n",
            " 1   V1      202103 non-null  float64\n",
            " 2   V2      202103 non-null  float64\n",
            " 3   V3      202103 non-null  float64\n",
            " 4   V4      202103 non-null  float64\n",
            " 5   V5      202103 non-null  float64\n",
            " 6   V6      202103 non-null  float64\n",
            " 7   V7      202103 non-null  float64\n",
            " 8   V8      202103 non-null  float64\n",
            " 9   V9      202103 non-null  float64\n",
            " 10  V10     202103 non-null  float64\n",
            " 11  V11     202103 non-null  float64\n",
            " 12  V12     202103 non-null  float64\n",
            " 13  V13     202103 non-null  float64\n",
            " 14  V14     202103 non-null  float64\n",
            " 15  V15     202103 non-null  float64\n",
            " 16  V16     202103 non-null  float64\n",
            " 17  V17     202103 non-null  float64\n",
            " 18  V18     202103 non-null  float64\n",
            " 19  V19     202103 non-null  float64\n",
            " 20  V20     202103 non-null  float64\n",
            " 21  V21     202103 non-null  float64\n",
            " 22  V22     202103 non-null  float64\n",
            " 23  V23     202103 non-null  float64\n",
            " 24  V24     202103 non-null  float64\n",
            " 25  V25     202103 non-null  float64\n",
            " 26  V26     202103 non-null  float64\n",
            " 27  V27     202103 non-null  float64\n",
            " 28  V28     202103 non-null  float64\n",
            " 29  Amount  202102 non-null  float64\n",
            " 30  Class   202102 non-null  float64\n",
            "dtypes: float64(31)\n",
            "memory usage: 47.8 MB\n"
          ]
        }
      ]
    },
    {
      "cell_type": "code",
      "source": [
        "df1 = df.copy()\n",
        "df.drop('Time', axis = 1, inplace = True)\n",
        "print(df.head())"
      ],
      "metadata": {
        "colab": {
          "base_uri": "https://localhost:8080/"
        },
        "id": "5vECTbZFAJCM",
        "outputId": "aa3e1ce4-301b-409a-8736-8f9d9f60f394"
      },
      "execution_count": 40,
      "outputs": [
        {
          "output_type": "stream",
          "name": "stdout",
          "text": [
            "         V1        V2        V3        V4        V5        V6        V7  \\\n",
            "0 -1.359807 -0.072781  2.536347  1.378155 -0.338321  0.462388  0.239599   \n",
            "1  1.191857  0.266151  0.166480  0.448154  0.060018 -0.082361 -0.078803   \n",
            "2 -1.358354 -1.340163  1.773209  0.379780 -0.503198  1.800499  0.791461   \n",
            "3 -0.966272 -0.185226  1.792993 -0.863291 -0.010309  1.247203  0.237609   \n",
            "4 -1.158233  0.877737  1.548718  0.403034 -0.407193  0.095921  0.592941   \n",
            "\n",
            "         V8        V9       V10       V11       V12       V13       V14  \\\n",
            "0  0.098698  0.363787  0.090794 -0.551600 -0.617801 -0.991390 -0.311169   \n",
            "1  0.085102 -0.255425 -0.166974  1.612727  1.065235  0.489095 -0.143772   \n",
            "2  0.247676 -1.514654  0.207643  0.624501  0.066084  0.717293 -0.165946   \n",
            "3  0.377436 -1.387024 -0.054952 -0.226487  0.178228  0.507757 -0.287924   \n",
            "4 -0.270533  0.817739  0.753074 -0.822843  0.538196  1.345852 -1.119670   \n",
            "\n",
            "        V15       V16       V17       V18       V19       V20       V21  \\\n",
            "0  1.468177 -0.470401  0.207971  0.025791  0.403993  0.251412 -0.018307   \n",
            "1  0.635558  0.463917 -0.114805 -0.183361 -0.145783 -0.069083 -0.225775   \n",
            "2  2.345865 -2.890083  1.109969 -0.121359 -2.261857  0.524980  0.247998   \n",
            "3 -0.631418 -1.059647 -0.684093  1.965775 -1.232622 -0.208038 -0.108300   \n",
            "4  0.175121 -0.451449 -0.237033 -0.038195  0.803487  0.408542 -0.009431   \n",
            "\n",
            "        V22       V23       V24       V25       V26       V27       V28  \\\n",
            "0  0.277838 -0.110474  0.066928  0.128539 -0.189115  0.133558 -0.021053   \n",
            "1 -0.638672  0.101288 -0.339846  0.167170  0.125895 -0.008983  0.014724   \n",
            "2  0.771679  0.909412 -0.689281 -0.327642 -0.139097 -0.055353 -0.059752   \n",
            "3  0.005274 -0.190321 -1.175575  0.647376 -0.221929  0.062723  0.061458   \n",
            "4  0.798278 -0.137458  0.141267 -0.206010  0.502292  0.219422  0.215153   \n",
            "\n",
            "   Amount  Class  \n",
            "0  149.62    0.0  \n",
            "1    2.69    0.0  \n",
            "2  378.66    0.0  \n",
            "3  123.50    0.0  \n",
            "4   69.99    0.0  \n"
          ]
        }
      ]
    },
    {
      "cell_type": "code",
      "source": [
        "dup = df[df.duplicated()]\n",
        "print(\"Number of duplicated records total:\", len(dup))\n",
        "print(\"Number of duplicated records in Fraud cases:\", len(dup[dup[\"Class\"]==1]))\n",
        "print(\"Number of duplicated records in No Fraud cases:\", len(dup[dup[\"Class\"]==0]))"
      ],
      "metadata": {
        "colab": {
          "base_uri": "https://localhost:8080/"
        },
        "id": "PkSDgH5jAMNi",
        "outputId": "9c7a13e1-39bb-4cb8-c9f9-e76e886244ab"
      },
      "execution_count": 41,
      "outputs": [
        {
          "output_type": "stream",
          "name": "stdout",
          "text": [
            "Number of duplicated records total: 5847\n",
            "Number of duplicated records in Fraud cases: 18\n",
            "Number of duplicated records in No Fraud cases: 5829\n"
          ]
        }
      ]
    },
    {
      "cell_type": "code",
      "source": [
        "total = len(df)\n",
        "df.drop_duplicates(inplace=True)\n",
        "print(total - len(df), \" duplicated records removed\")\n",
        "print(\"Total records left:\", len(df))"
      ],
      "metadata": {
        "colab": {
          "base_uri": "https://localhost:8080/"
        },
        "id": "jq5ZEENmAOXL",
        "outputId": "39460cdc-4f78-4118-9ad7-4dacf871f431"
      },
      "execution_count": 42,
      "outputs": [
        {
          "output_type": "stream",
          "name": "stdout",
          "text": [
            "5847  duplicated records removed\n",
            "Total records left: 196256\n"
          ]
        }
      ]
    },
    {
      "cell_type": "code",
      "source": [
        "cases = len(df)\n",
        "nonfraud_count = len(df[df.Class == 0])\n",
        "fraud_count = len(df[df.Class == 1])\n",
        "fraud_percentage = round(fraud_count/cases*100, 3)\n",
        "print(\"Number of fraud cases out of {} total cases :\".format(cases), fraud_count)\n",
        "print(\"Number of non-fraud cases out of {} total cases :\".format(cases), nonfraud_count)\n",
        "print(\"Percentage of fraud cases :\", fraud_percentage)\n",
        "\n",
        "plt.figure(figsize = (8, 8))\n",
        "pie_data = [df.Class[df[\"Class\"] == 1].count(), df.Class[df[\"Class\"] == 0].count()]\n",
        "pie_labels = [\"Fraud\", \"Genuine\"]\n",
        "plt.pie(pie_data, labels = pie_labels, explode = [1, 0], shadow = True, colors = mpl_color[1:3], autopct = \"%.3f%%\")\n",
        "plt.title(\"Proportion of fraud transactions\", size = 20)\n",
        "plt.show()"
      ],
      "metadata": {
        "colab": {
          "base_uri": "https://localhost:8080/",
          "height": 539
        },
        "id": "wu6Jxr7dAQF7",
        "outputId": "479d2e4c-4001-40c6-bd14-3c3e700a68b3"
      },
      "execution_count": 43,
      "outputs": [
        {
          "output_type": "stream",
          "name": "stdout",
          "text": [
            "Number of fraud cases out of 196256 total cases : 369\n",
            "Number of non-fraud cases out of 196256 total cases : 195886\n",
            "Percentage of fraud cases : 0.188\n"
          ]
        },
        {
          "output_type": "display_data",
          "data": {
            "text/plain": [
              "<Figure size 576x576 with 1 Axes>"
            ],
            "image/png": "[encoded data removed]"
          },
          "metadata": {}
        }
      ]
    },
    {
      "cell_type": "code",
      "source": [
        "print(df[df[\"Class\"]==0].Amount.describe()),\n",
        "print(df[df[\"Class\"]==1].Amount.describe())"
      ],
      "metadata": {
        "colab": {
          "base_uri": "https://localhost:8080/"
        },
        "id": "KjmY4mxAASXS",
        "outputId": "301e4aa1-d728-4017-a9b1-d89eaa4a58b4"
      },
      "execution_count": 44,
      "outputs": [
        {
          "output_type": "stream",
          "name": "stdout",
          "text": [
            "count    195886.000000\n",
            "mean         91.685773\n",
            "std         251.516311\n",
            "min           0.000000\n",
            "25%           6.780000\n",
            "50%          24.770000\n",
            "75%          80.957500\n",
            "max       19656.530000\n",
            "Name: Amount, dtype: float64\n",
            "count     369.000000\n",
            "mean      123.283496\n",
            "std       259.688525\n",
            "min         0.000000\n",
            "25%         1.000000\n",
            "50%        12.310000\n",
            "75%       105.890000\n",
            "max      2125.870000\n",
            "Name: Amount, dtype: float64\n"
          ]
        }
      ]
    },
    {
      "cell_type": "code",
      "source": [
        "scaler = RobustScaler()\n",
        "df[\"Amount\"] = scaler.fit_transform(df[[\"Amount\"]])"
      ],
      "metadata": {
        "id": "hP0mC2YnAUFy"
      },
      "execution_count": 45,
      "outputs": []
    },
    {
      "cell_type": "code",
      "source": [
        "X_orig = df.loc[:,df.columns != \"Class\"]\n",
        "y_orig = df.Class\n",
        "X_train, X_test, y_train, y_test = train_test_split(X_orig, y_orig, test_size = 0.2)"
      ],
      "metadata": {
        "id": "nvjLmzdIAVtr"
      },
      "execution_count": 46,
      "outputs": []
    },
    {
      "cell_type": "code",
      "source": [
        "df_train = pd.concat([X_train, y_train], axis=1)\n",
        "print(\"Percentage distribution of fraud cases:\", round(len(df_train[df_train.Class == 1])/len(df_train)*100, 3))\n",
        "print(\"Number of Fraud cases in Training set:\", len(df_train[df_train.Class == 1]))\n",
        "\n",
        "# Lets shuffle the data before creating the new balanced dataframe\n",
        "df_train = df_train.sample(frac=1)\n",
        "\n",
        "fraud_df_train = df_train.loc[df_train['Class'] == 1]\n",
        "non_fraud_df_train = df_train.loc[df_train['Class'] == 0][:len(fraud_df_train)]\n",
        "\n",
        "balanced_df_train = pd.concat([fraud_df_train, non_fraud_df_train])\n",
        "\n",
        "# Shuffle again\n",
        "balanced_df_train = balanced_df_train.sample(frac=1, random_state=42)\n",
        "print(\"Percentage distribution of fraud cases after balancing:\", round(len(balanced_df_train[balanced_df_train.Class == 1])/len(balanced_df_train)*100, 3))\n",
        "print(\"Number of Fraud cases in Training set after balancing:\", len(balanced_df_train[balanced_df_train.Class == 1]))\n",
        "balanced_df_train.info()"
      ],
      "metadata": {
        "colab": {
          "base_uri": "https://localhost:8080/"
        },
        "id": "J4Uv9ZsYAXRL",
        "outputId": "4b0d4b5f-591e-4beb-d403-6a78cbba87c6"
      },
      "execution_count": 47,
      "outputs": [
        {
          "output_type": "stream",
          "name": "stdout",
          "text": [
            "Percentage distribution of fraud cases: 0.189\n",
            "Number of Fraud cases in Training set: 297\n",
            "Percentage distribution of fraud cases after balancing: 50.0\n",
            "Number of Fraud cases in Training set after balancing: 297\n",
            "<class 'pandas.core.frame.DataFrame'>\n",
            "Int64Index: 594 entries, 41943 to 154587\n",
            "Data columns (total 30 columns):\n",
            " #   Column  Non-Null Count  Dtype  \n",
            "---  ------  --------------  -----  \n",
            " 0   V1      594 non-null    float64\n",
            " 1   V2      594 non-null    float64\n",
            " 2   V3      594 non-null    float64\n",
            " 3   V4      594 non-null    float64\n",
            " 4   V5      594 non-null    float64\n",
            " 5   V6      594 non-null    float64\n",
            " 6   V7      594 non-null    float64\n",
            " 7   V8      594 non-null    float64\n",
            " 8   V9      594 non-null    float64\n",
            " 9   V10     594 non-null    float64\n",
            " 10  V11     594 non-null    float64\n",
            " 11  V12     594 non-null    float64\n",
            " 12  V13     594 non-null    float64\n",
            " 13  V14     594 non-null    float64\n",
            " 14  V15     594 non-null    float64\n",
            " 15  V16     594 non-null    float64\n",
            " 16  V17     594 non-null    float64\n",
            " 17  V18     594 non-null    float64\n",
            " 18  V19     594 non-null    float64\n",
            " 19  V20     594 non-null    float64\n",
            " 20  V21     594 non-null    float64\n",
            " 21  V22     594 non-null    float64\n",
            " 22  V23     594 non-null    float64\n",
            " 23  V24     594 non-null    float64\n",
            " 24  V25     594 non-null    float64\n",
            " 25  V26     594 non-null    float64\n",
            " 26  V27     594 non-null    float64\n",
            " 27  V28     594 non-null    float64\n",
            " 28  Amount  594 non-null    float64\n",
            " 29  Class   594 non-null    float64\n",
            "dtypes: float64(30)\n",
            "memory usage: 143.9 KB\n"
          ]
        }
      ]
    },
    {
      "cell_type": "code",
      "source": [
        "balanced_df_train.corr()[\"Class\"][:-1]"
      ],
      "metadata": {
        "colab": {
          "base_uri": "https://localhost:8080/"
        },
        "id": "n3yhQNWbCJpt",
        "outputId": "3526ba4b-5ca7-47cb-ce7a-6acb7496ba48"
      },
      "execution_count": 48,
      "outputs": [
        {
          "output_type": "execute_result",
          "data": {
            "text/plain": [
              "V1       -0.448863\n",
              "V2        0.511498\n",
              "V3       -0.560708\n",
              "V4        0.704764\n",
              "V5       -0.410631\n",
              "V6       -0.423062\n",
              "V7       -0.488514\n",
              "V8        0.092329\n",
              "V9       -0.545271\n",
              "V10      -0.633846\n",
              "V11       0.677910\n",
              "V12      -0.693831\n",
              "V13       0.007379\n",
              "V14      -0.738595\n",
              "V15      -0.103073\n",
              "V16      -0.609287\n",
              "V17      -0.579032\n",
              "V18      -0.499515\n",
              "V19       0.269163\n",
              "V20       0.190803\n",
              "V21       0.091444\n",
              "V22       0.061844\n",
              "V23      -0.017459\n",
              "V24      -0.069399\n",
              "V25       0.014191\n",
              "V26      -0.013417\n",
              "V27       0.096641\n",
              "V28       0.054410\n",
              "Amount    0.023627\n",
              "Name: Class, dtype: float64"
            ]
          },
          "metadata": {},
          "execution_count": 48
        }
      ]
    },
    {
      "cell_type": "code",
      "source": [
        "plt.figure(figsize=(10,10))\n",
        "cmap = sns.diverging_palette(240, 10, as_cmap=True)\n",
        "sns.heatmap(balanced_df_train.corr(), cmap = cmap, center=0, annot=False, square=True)\n",
        "plt.title(label=\"Correlation matrix\")\n",
        "plt.show()"
      ],
      "metadata": {
        "colab": {
          "base_uri": "https://localhost:8080/",
          "height": 589
        },
        "id": "-CVXp21pCROl",
        "outputId": "1f1971a4-915b-4f45-dea0-98b277b3ce7b"
      },
      "execution_count": 49,
      "outputs": [
        {
          "output_type": "display_data",
          "data": {
            "text/plain": [
              "<Figure size 720x720 with 2 Axes>"
            ],
            "image/png": "[encoded data removed]"
          },
          "metadata": {}
        }
      ]
    },
    {
      "cell_type": "code",
      "source": [
        "fig, ax = plt.subplots(ncols=3, figsize=(12,6), tight_layout = True)\n",
        "sns.boxplot(x=\"Class\",y=\"V14\", data=balanced_df_train, ax=ax[0])\n",
        "sns.boxplot(x=\"Class\",y=\"V12\", data=balanced_df_train, ax=ax[1])\n",
        "sns.boxplot(x=\"Class\",y=\"V10\", data=balanced_df_train, ax=ax[2])\n",
        "\n",
        "plt.show()"
      ],
      "metadata": {
        "colab": {
          "base_uri": "https://localhost:8080/",
          "height": 435
        },
        "id": "eBoi2AHFCUk5",
        "outputId": "e784ea56-1ed0-43c0-dd2c-70e05c9ec4fb"
      },
      "execution_count": 50,
      "outputs": [
        {
          "output_type": "display_data",
          "data": {
            "text/plain": [
              "<Figure size 864x432 with 3 Axes>"
            ],
            "image/png": "[encoded data removed]"
          },
          "metadata": {}
        }
      ]
    },
    {
      "cell_type": "code",
      "source": [
        "fig, ax = plt.subplots(ncols=2, figsize=(8,6), tight_layout = True)\n",
        "sns.boxplot(x=\"Class\",y=\"V11\", data=balanced_df_train, ax=ax[0])\n",
        "sns.boxplot(x=\"Class\",y=\"V4\", data=balanced_df_train, ax=ax[1])\n",
        "\n",
        "plt.show()"
      ],
      "metadata": {
        "colab": {
          "base_uri": "https://localhost:8080/",
          "height": 435
        },
        "id": "ECZ0xs3mCWTC",
        "outputId": "6c699897-c00c-4aa6-c224-ed322248565b"
      },
      "execution_count": 51,
      "outputs": [
        {
          "output_type": "display_data",
          "data": {
            "text/plain": [
              "<Figure size 576x432 with 2 Axes>"
            ],
            "image/png": "[encoded data removed]"
          },
          "metadata": {}
        }
      ]
    },
    {
      "cell_type": "code",
      "source": [
        "out_features = [\"V14\", \"V12\", \"V10\"]\n",
        "for feature in out_features:\n",
        "    Q1 = balanced_df_train[feature].quantile(0.25)\n",
        "    Q3 = balanced_df_train[feature].quantile(0.75)\n",
        "    IQR = Q3-Q1\n",
        "    top = Q3 + 1.5*IQR # Not necessary for negatively correlated features\n",
        "    bottom = Q1 - 1.5*IQR\n",
        "\n",
        "    index = balanced_df_train[(balanced_df_train[feature] < bottom)].index\n",
        "    print(len(index), \" number of\", feature, \" outliers removed from the dataset\")\n",
        "    balanced_df_train = balanced_df_train.drop(index)"
      ],
      "metadata": {
        "colab": {
          "base_uri": "https://localhost:8080/"
        },
        "id": "x1IPEvW8CXwx",
        "outputId": "2603d555-f14a-4cc0-ca7d-0d61507e9c6b"
      },
      "execution_count": 52,
      "outputs": [
        {
          "output_type": "stream",
          "name": "stdout",
          "text": [
            "6  number of V14  outliers removed from the dataset\n",
            "16  number of V12  outliers removed from the dataset\n",
            "40  number of V10  outliers removed from the dataset\n"
          ]
        }
      ]
    },
    {
      "cell_type": "code",
      "source": [
        "fig, ax = plt.subplots(ncols=3, figsize=(12,6), tight_layout = True)\n",
        "sns.boxplot(x=\"Class\",y=\"V14\", data=balanced_df_train, ax=ax[0])\n",
        "sns.boxplot(x=\"Class\",y=\"V12\", data=balanced_df_train, ax=ax[1])\n",
        "sns.boxplot(x=\"Class\",y=\"V10\", data=balanced_df_train, ax=ax[2])\n",
        "\n",
        "plt.show()"
      ],
      "metadata": {
        "colab": {
          "base_uri": "https://localhost:8080/",
          "height": 435
        },
        "id": "N-9fLNLkCZTu",
        "outputId": "a2502fa3-63b2-4176-faed-7ed1dae37966"
      },
      "execution_count": 53,
      "outputs": [
        {
          "output_type": "display_data",
          "data": {
            "text/plain": [
              "<Figure size 864x432 with 3 Axes>"
            ],
            "image/png": "[encoded data removed]"
          },
          "metadata": {}
        }
      ]
    },
    {
      "cell_type": "code",
      "source": [
        "plt.figure(figsize=(4,6), tight_layout = True)\n",
        "sns.boxplot(x=\"Class\",y=\"V11\", data=balanced_df_train)\n",
        "plt.show()"
      ],
      "metadata": {
        "colab": {
          "base_uri": "https://localhost:8080/",
          "height": 434
        },
        "id": "M4zxEQI8F6Ah",
        "outputId": "a9a9f7c0-0cc4-433a-c3b6-ec5de019b3fb"
      },
      "execution_count": 54,
      "outputs": [
        {
          "output_type": "display_data",
          "data": {
            "text/plain": [
              "<Figure size 288x432 with 1 Axes>"
            ],
            "image/png": "[encoded data removed]"
          },
          "metadata": {}
        }
      ]
    },
    {
      "cell_type": "code",
      "source": [
        "y_balanced = balanced_df_train.Class\n",
        "X_balanced = balanced_df_train.loc[:, balanced_df_train.columns != 'Class']"
      ],
      "metadata": {
        "id": "FmaKzBhzF745"
      },
      "execution_count": 55,
      "outputs": []
    },
    {
      "cell_type": "code",
      "source": [
        "param_grid = {'C': [0.1,0.5,1,10], 'max_iter' : [500, 750], 'tol':[0.00001,0.0001, 0.001]}\n",
        "lr_grid = GridSearchCV(LogisticRegression(solver = 'liblinear'),param_grid, cv=5)\n",
        "lr_grid.fit(X_balanced, y_balanced)\n",
        "print(lr_grid.best_score_)    \n",
        "print(lr_grid.best_params_)\n",
        "print(lr_grid.best_estimator_)"
      ],
      "metadata": {
        "colab": {
          "base_uri": "https://localhost:8080/"
        },
        "id": "Wi7IwtNRF9bR",
        "outputId": "6bc73ed3-9500-45a1-cd63-457de10c6659"
      },
      "execution_count": 56,
      "outputs": [
        {
          "output_type": "stream",
          "name": "stdout",
          "text": [
            "0.9436078293070006\n",
            "{'C': 1, 'max_iter': 500, 'tol': 1e-05}\n",
            "LogisticRegression(C=1, max_iter=500, solver='liblinear', tol=1e-05)\n"
          ]
        }
      ]
    },
    {
      "cell_type": "code",
      "source": [
        "lr_model = LogisticRegression(C=0.5, max_iter=500, solver='liblinear', tol=1e-05)\n",
        "lr_model.fit(X_balanced, y_balanced)\n",
        "lr_yhat = lr_model.predict(X_balanced)\n",
        "print(classification_report(y_balanced, lr_yhat))"
      ],
      "metadata": {
        "colab": {
          "base_uri": "https://localhost:8080/"
        },
        "id": "0Zverq8lF-4t",
        "outputId": "dfbdd2e2-4e26-4917-e000-c61dba82c598"
      },
      "execution_count": 57,
      "outputs": [
        {
          "output_type": "stream",
          "name": "stdout",
          "text": [
            "              precision    recall  f1-score   support\n",
            "\n",
            "         0.0       0.94      0.99      0.96       297\n",
            "         1.0       0.99      0.91      0.95       235\n",
            "\n",
            "    accuracy                           0.96       532\n",
            "   macro avg       0.96      0.95      0.96       532\n",
            "weighted avg       0.96      0.96      0.96       532\n",
            "\n"
          ]
        }
      ]
    },
    {
      "cell_type": "code",
      "source": [
        "param_grid = {\"n_neighbors\": list(range(2,5,1)), 'algorithm': ['auto', 'ball_tree', 'kd_tree', 'brute']}\n",
        "knn_grid = GridSearchCV(KNeighborsClassifier(), param_grid, cv=5)\n",
        "knn_grid.fit(X_balanced, y_balanced)\n",
        "\n",
        "print(knn_grid.best_score_)    \n",
        "print(knn_grid.best_params_)\n",
        "print(knn_grid.best_estimator_)"
      ],
      "metadata": {
        "colab": {
          "base_uri": "https://localhost:8080/"
        },
        "id": "XOc61gvDGAfR",
        "outputId": "bfbf86dc-a0dc-4953-cef1-8a77af656a73"
      },
      "execution_count": 58,
      "outputs": [
        {
          "output_type": "stream",
          "name": "stdout",
          "text": [
            "0.9285663904073356\n",
            "{'algorithm': 'auto', 'n_neighbors': 3}\n",
            "KNeighborsClassifier(n_neighbors=3)\n"
          ]
        }
      ]
    },
    {
      "cell_type": "code",
      "source": [
        "knn_model = KNeighborsClassifier(n_neighbors=3)\n",
        "knn_model.fit(X_balanced, y_balanced)\n",
        "knn_yhat = knn_model.predict(X_balanced)\n",
        "print(classification_report(y_balanced, knn_yhat))"
      ],
      "metadata": {
        "colab": {
          "base_uri": "https://localhost:8080/"
        },
        "id": "ZDH6OXt1GCil",
        "outputId": "e924fd8e-2b03-444b-bf09-57ead8d2e7d9"
      },
      "execution_count": 59,
      "outputs": [
        {
          "output_type": "stream",
          "name": "stdout",
          "text": [
            "              precision    recall  f1-score   support\n",
            "\n",
            "         0.0       0.94      0.99      0.96       297\n",
            "         1.0       0.99      0.91      0.95       235\n",
            "\n",
            "    accuracy                           0.96       532\n",
            "   macro avg       0.96      0.95      0.96       532\n",
            "weighted avg       0.96      0.96      0.96       532\n",
            "\n"
          ]
        }
      ]
    },
    {
      "cell_type": "code",
      "source": [
        "param_grid = {'C': [0.5, 0.7, 0.9, 1], 'kernel': ['rbf', 'poly', 'sigmoid', 'linear']}\n",
        "svc_grid = GridSearchCV(SVC(), param_grid, cv=5)\n",
        "svc_grid.fit(X_balanced, y_balanced)\n",
        "\n",
        "print(svc_grid.best_score_)    \n",
        "print(svc_grid.best_params_)\n",
        "print(svc_grid.best_estimator_)"
      ],
      "metadata": {
        "colab": {
          "base_uri": "https://localhost:8080/"
        },
        "id": "OVyWUiRPGD1x",
        "outputId": "df8f1c69-4273-4eca-97e6-d48f66c34a07"
      },
      "execution_count": 60,
      "outputs": [
        {
          "output_type": "stream",
          "name": "stdout",
          "text": [
            "0.9417563040028215\n",
            "{'C': 0.9, 'kernel': 'linear'}\n",
            "SVC(C=0.9, kernel='linear')\n"
          ]
        }
      ]
    },
    {
      "cell_type": "code",
      "source": [
        "svc_model = SVC(C=0.5, kernel='linear')\n",
        "svc_model.fit(X_balanced, y_balanced)\n",
        "svc_yhat = svc_model.predict(X_balanced)\n",
        "print(classification_report(y_balanced, svc_yhat))"
      ],
      "metadata": {
        "colab": {
          "base_uri": "https://localhost:8080/"
        },
        "id": "watkhlK7GGRp",
        "outputId": "2dae0333-8c24-42d0-e50a-44863fd37214"
      },
      "execution_count": 61,
      "outputs": [
        {
          "output_type": "stream",
          "name": "stdout",
          "text": [
            "              precision    recall  f1-score   support\n",
            "\n",
            "         0.0       0.94      1.00      0.97       297\n",
            "         1.0       1.00      0.92      0.96       235\n",
            "\n",
            "    accuracy                           0.96       532\n",
            "   macro avg       0.97      0.96      0.96       532\n",
            "weighted avg       0.97      0.96      0.96       532\n",
            "\n"
          ]
        }
      ]
    }
  ]
}