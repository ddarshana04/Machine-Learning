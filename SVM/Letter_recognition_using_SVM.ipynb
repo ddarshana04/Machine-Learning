{
  "nbformat": 4,
  "nbformat_minor": 0,
  "metadata": {
    "colab": {
      "provenance": [],
      "authorship_tag": "ABX9TyOK5MaRhyeauqXoneqtvf6K",
      "include_colab_link": true
    },
    "kernelspec": {
      "name": "python3",
      "display_name": "Python 3"
    },
    "language_info": {
      "name": "python"
    }
  },
  "cells": [
    {
      "cell_type": "markdown",
      "metadata": {
        "id": "view-in-github",
        "colab_type": "text"
      },
      "source": [
        "<a href=\"https://colab.research.google.com/github/ddarshana04/Machine-Learning/blob/main/SVM/Letter_recognition_using_SVM.ipynb\" target=\"_parent\"><img src=\"https://colab.research.google.com/assets/colab-badge.svg\" alt=\"Open In Colab\"/></a>"
      ]
    },
    {
      "cell_type": "code",
      "execution_count": 1,
      "metadata": {
        "id": "Ni_sMU1vaQ-V"
      },
      "outputs": [],
      "source": [
        "import pandas as pd\n",
        "import numpy as np\n",
        "from sklearn import svm\n",
        "from sklearn.model_selection import train_test_split\n",
        "from sklearn.metrics import multilabel_confusion_matrix\n",
        "import math\n",
        "import seaborn as sns\n",
        "from statistics import mean\n",
        "from math import sqrt"
      ]
    },
    {
      "cell_type": "code",
      "source": [
        "data = pd.read_csv(\"letter-recognition.csv\",header=0)\n",
        "#header 0 means the 1st row"
      ],
      "metadata": {
        "id": "NsrY0vyMaXhz"
      },
      "execution_count": 8,
      "outputs": []
    },
    {
      "cell_type": "code",
      "source": [
        "data.head(10) "
      ],
      "metadata": {
        "colab": {
          "base_uri": "https://localhost:8080/",
          "height": 363
        },
        "id": "YJgFWStEanQC",
        "outputId": "b68df51b-0125-485d-a1e3-31e5924111c0"
      },
      "execution_count": 9,
      "outputs": [
        {
          "output_type": "execute_result",
          "data": {
            "text/plain": [
              "  letter  xbox   ybox   width   height  onpix   xbar   ybar   x2bar  y2bar   \\\n",
              "0      T      2      8       3       5       1      8     13      0       6   \n",
              "1      I      5     12       3       7       2     10      5      5       4   \n",
              "2      D      4     11       6       8       6     10      6      2       6   \n",
              "3      N      7     11       6       6       3      5      9      4       6   \n",
              "4      G      2      1       3       1       1      8      6      6       6   \n",
              "5      S      4     11       5       8       3      8      8      6       9   \n",
              "6      B      4      2       5       4       4      8      7      6       6   \n",
              "7      A      1      1       3       2       1      8      2      2       2   \n",
              "8      J      2      2       4       4       2     10      6      2       6   \n",
              "9      M     11     15      13       9       7     13      2      6       2   \n",
              "\n",
              "   xybar   x2ybar  xy2bar  xedge   xedgey  yedge   yedgex  \n",
              "0       6      10       8       0       8       0       8  \n",
              "1      13       3       9       2       8       4      10  \n",
              "2      10       3       7       3       7       3       9  \n",
              "3       4       4      10       6      10       2       8  \n",
              "4       6       5       9       1       7       5      10  \n",
              "5       5       6       6       0       8       9       7  \n",
              "6       7       6       6       2       8       7      10  \n",
              "7       8       2       8       1       6       2       7  \n",
              "8      12       4       8       1       6       1       7  \n",
              "9      12       1       9       8       1       1       8  "
            ],
            "text/html": [
              "\n",
              "  <div id=\"df-343cf5c7-2141-4dbd-a874-32be32e4d460\">\n",
              "    <div class=\"colab-df-container\">\n",
              "      <div>\n",
              "<style scoped>\n",
              "    .dataframe tbody tr th:only-of-type {\n",
              "        vertical-align: middle;\n",
              "    }\n",
              "\n",
              "    .dataframe tbody tr th {\n",
              "        vertical-align: top;\n",
              "    }\n",
              "\n",
              "    .dataframe thead th {\n",
              "        text-align: right;\n",
              "    }\n",
              "</style>\n",
              "<table border=\"1\" class=\"dataframe\">\n",
              "  <thead>\n",
              "    <tr style=\"text-align: right;\">\n",
              "      <th></th>\n",
              "      <th>letter</th>\n",
              "      <th>xbox</th>\n",
              "      <th>ybox</th>\n",
              "      <th>width</th>\n",
              "      <th>height</th>\n",
              "      <th>onpix</th>\n",
              "      <th>xbar</th>\n",
              "      <th>ybar</th>\n",
              "      <th>x2bar</th>\n",
              "      <th>y2bar</th>\n",
              "      <th>xybar</th>\n",
              "      <th>x2ybar</th>\n",
              "      <th>xy2bar</th>\n",
              "      <th>xedge</th>\n",
              "      <th>xedgey</th>\n",
              "      <th>yedge</th>\n",
              "      <th>yedgex</th>\n",
              "    </tr>\n",
              "  </thead>\n",
              "  <tbody>\n",
              "    <tr>\n",
              "      <th>0</th>\n",
              "      <td>T</td>\n",
              "      <td>2</td>\n",
              "      <td>8</td>\n",
              "      <td>3</td>\n",
              "      <td>5</td>\n",
              "      <td>1</td>\n",
              "      <td>8</td>\n",
              "      <td>13</td>\n",
              "      <td>0</td>\n",
              "      <td>6</td>\n",
              "      <td>6</td>\n",
              "      <td>10</td>\n",
              "      <td>8</td>\n",
              "      <td>0</td>\n",
              "      <td>8</td>\n",
              "      <td>0</td>\n",
              "      <td>8</td>\n",
              "    </tr>\n",
              "    <tr>\n",
              "      <th>1</th>\n",
              "      <td>I</td>\n",
              "      <td>5</td>\n",
              "      <td>12</td>\n",
              "      <td>3</td>\n",
              "      <td>7</td>\n",
              "      <td>2</td>\n",
              "      <td>10</td>\n",
              "      <td>5</td>\n",
              "      <td>5</td>\n",
              "      <td>4</td>\n",
              "      <td>13</td>\n",
              "      <td>3</td>\n",
              "      <td>9</td>\n",
              "      <td>2</td>\n",
              "      <td>8</td>\n",
              "      <td>4</td>\n",
              "      <td>10</td>\n",
              "    </tr>\n",
              "    <tr>\n",
              "      <th>2</th>\n",
              "      <td>D</td>\n",
              "      <td>4</td>\n",
              "      <td>11</td>\n",
              "      <td>6</td>\n",
              "      <td>8</td>\n",
              "      <td>6</td>\n",
              "      <td>10</td>\n",
              "      <td>6</td>\n",
              "      <td>2</td>\n",
              "      <td>6</td>\n",
              "      <td>10</td>\n",
              "      <td>3</td>\n",
              "      <td>7</td>\n",
              "      <td>3</td>\n",
              "      <td>7</td>\n",
              "      <td>3</td>\n",
              "      <td>9</td>\n",
              "    </tr>\n",
              "    <tr>\n",
              "      <th>3</th>\n",
              "      <td>N</td>\n",
              "      <td>7</td>\n",
              "      <td>11</td>\n",
              "      <td>6</td>\n",
              "      <td>6</td>\n",
              "      <td>3</td>\n",
              "      <td>5</td>\n",
              "      <td>9</td>\n",
              "      <td>4</td>\n",
              "      <td>6</td>\n",
              "      <td>4</td>\n",
              "      <td>4</td>\n",
              "      <td>10</td>\n",
              "      <td>6</td>\n",
              "      <td>10</td>\n",
              "      <td>2</td>\n",
              "      <td>8</td>\n",
              "    </tr>\n",
              "    <tr>\n",
              "      <th>4</th>\n",
              "      <td>G</td>\n",
              "      <td>2</td>\n",
              "      <td>1</td>\n",
              "      <td>3</td>\n",
              "      <td>1</td>\n",
              "      <td>1</td>\n",
              "      <td>8</td>\n",
              "      <td>6</td>\n",
              "      <td>6</td>\n",
              "      <td>6</td>\n",
              "      <td>6</td>\n",
              "      <td>5</td>\n",
              "      <td>9</td>\n",
              "      <td>1</td>\n",
              "      <td>7</td>\n",
              "      <td>5</td>\n",
              "      <td>10</td>\n",
              "    </tr>\n",
              "    <tr>\n",
              "      <th>5</th>\n",
              "      <td>S</td>\n",
              "      <td>4</td>\n",
              "      <td>11</td>\n",
              "      <td>5</td>\n",
              "      <td>8</td>\n",
              "      <td>3</td>\n",
              "      <td>8</td>\n",
              "      <td>8</td>\n",
              "      <td>6</td>\n",
              "      <td>9</td>\n",
              "      <td>5</td>\n",
              "      <td>6</td>\n",
              "      <td>6</td>\n",
              "      <td>0</td>\n",
              "      <td>8</td>\n",
              "      <td>9</td>\n",
              "      <td>7</td>\n",
              "    </tr>\n",
              "    <tr>\n",
              "      <th>6</th>\n",
              "      <td>B</td>\n",
              "      <td>4</td>\n",
              "      <td>2</td>\n",
              "      <td>5</td>\n",
              "      <td>4</td>\n",
              "      <td>4</td>\n",
              "      <td>8</td>\n",
              "      <td>7</td>\n",
              "      <td>6</td>\n",
              "      <td>6</td>\n",
              "      <td>7</td>\n",
              "      <td>6</td>\n",
              "      <td>6</td>\n",
              "      <td>2</td>\n",
              "      <td>8</td>\n",
              "      <td>7</td>\n",
              "      <td>10</td>\n",
              "    </tr>\n",
              "    <tr>\n",
              "      <th>7</th>\n",
              "      <td>A</td>\n",
              "      <td>1</td>\n",
              "      <td>1</td>\n",
              "      <td>3</td>\n",
              "      <td>2</td>\n",
              "      <td>1</td>\n",
              "      <td>8</td>\n",
              "      <td>2</td>\n",
              "      <td>2</td>\n",
              "      <td>2</td>\n",
              "      <td>8</td>\n",
              "      <td>2</td>\n",
              "      <td>8</td>\n",
              "      <td>1</td>\n",
              "      <td>6</td>\n",
              "      <td>2</td>\n",
              "      <td>7</td>\n",
              "    </tr>\n",
              "    <tr>\n",
              "      <th>8</th>\n",
              "      <td>J</td>\n",
              "      <td>2</td>\n",
              "      <td>2</td>\n",
              "      <td>4</td>\n",
              "      <td>4</td>\n",
              "      <td>2</td>\n",
              "      <td>10</td>\n",
              "      <td>6</td>\n",
              "      <td>2</td>\n",
              "      <td>6</td>\n",
              "      <td>12</td>\n",
              "      <td>4</td>\n",
              "      <td>8</td>\n",
              "      <td>1</td>\n",
              "      <td>6</td>\n",
              "      <td>1</td>\n",
              "      <td>7</td>\n",
              "    </tr>\n",
              "    <tr>\n",
              "      <th>9</th>\n",
              "      <td>M</td>\n",
              "      <td>11</td>\n",
              "      <td>15</td>\n",
              "      <td>13</td>\n",
              "      <td>9</td>\n",
              "      <td>7</td>\n",
              "      <td>13</td>\n",
              "      <td>2</td>\n",
              "      <td>6</td>\n",
              "      <td>2</td>\n",
              "      <td>12</td>\n",
              "      <td>1</td>\n",
              "      <td>9</td>\n",
              "      <td>8</td>\n",
              "      <td>1</td>\n",
              "      <td>1</td>\n",
              "      <td>8</td>\n",
              "    </tr>\n",
              "  </tbody>\n",
              "</table>\n",
              "</div>\n",
              "      <button class=\"colab-df-convert\" onclick=\"convertToInteractive('df-343cf5c7-2141-4dbd-a874-32be32e4d460')\"\n",
              "              title=\"Convert this dataframe to an interactive table.\"\n",
              "              style=\"display:none;\">\n",
              "        \n",
              "  <svg xmlns=\"http://www.w3.org/2000/svg\" height=\"24px\"viewBox=\"0 0 24 24\"\n",
              "       width=\"24px\">\n",
              "    <path d=\"M0 0h24v24H0V0z\" fill=\"none\"/>\n",
              "    <path d=\"M18.56 5.44l.94 2.06.94-2.06 2.06-.94-2.06-.94-.94-2.06-.94 2.06-2.06.94zm-11 1L8.5 8.5l.94-2.06 2.06-.94-2.06-.94L8.5 2.5l-.94 2.06-2.06.94zm10 10l.94 2.06.94-2.06 2.06-.94-2.06-.94-.94-2.06-.94 2.06-2.06.94z\"/><path d=\"M17.41 7.96l-1.37-1.37c-.4-.4-.92-.59-1.43-.59-.52 0-1.04.2-1.43.59L10.3 9.45l-7.72 7.72c-.78.78-.78 2.05 0 2.83L4 21.41c.39.39.9.59 1.41.59.51 0 1.02-.2 1.41-.59l7.78-7.78 2.81-2.81c.8-.78.8-2.07 0-2.86zM5.41 20L4 18.59l7.72-7.72 1.47 1.35L5.41 20z\"/>\n",
              "  </svg>\n",
              "      </button>\n",
              "      \n",
              "  <style>\n",
              "    .colab-df-container {\n",
              "      display:flex;\n",
              "      flex-wrap:wrap;\n",
              "      gap: 12px;\n",
              "    }\n",
              "\n",
              "    .colab-df-convert {\n",
              "      background-color: #E8F0FE;\n",
              "      border: none;\n",
              "      border-radius: 50%;\n",
              "      cursor: pointer;\n",
              "      display: none;\n",
              "      fill: #1967D2;\n",
              "      height: 32px;\n",
              "      padding: 0 0 0 0;\n",
              "      width: 32px;\n",
              "    }\n",
              "\n",
              "    .colab-df-convert:hover {\n",
              "      background-color: #E2EBFA;\n",
              "      box-shadow: 0px 1px 2px rgba(60, 64, 67, 0.3), 0px 1px 3px 1px rgba(60, 64, 67, 0.15);\n",
              "      fill: #174EA6;\n",
              "    }\n",
              "\n",
              "    [theme=dark] .colab-df-convert {\n",
              "      background-color: #3B4455;\n",
              "      fill: #D2E3FC;\n",
              "    }\n",
              "\n",
              "    [theme=dark] .colab-df-convert:hover {\n",
              "      background-color: #434B5C;\n",
              "      box-shadow: 0px 1px 3px 1px rgba(0, 0, 0, 0.15);\n",
              "      filter: drop-shadow(0px 1px 2px rgba(0, 0, 0, 0.3));\n",
              "      fill: #FFFFFF;\n",
              "    }\n",
              "  </style>\n",
              "\n",
              "      <script>\n",
              "        const buttonEl =\n",
              "          document.querySelector('#df-343cf5c7-2141-4dbd-a874-32be32e4d460 button.colab-df-convert');\n",
              "        buttonEl.style.display =\n",
              "          google.colab.kernel.accessAllowed ? 'block' : 'none';\n",
              "\n",
              "        async function convertToInteractive(key) {\n",
              "          const element = document.querySelector('#df-343cf5c7-2141-4dbd-a874-32be32e4d460');\n",
              "          const dataTable =\n",
              "            await google.colab.kernel.invokeFunction('convertToInteractive',\n",
              "                                                     [key], {});\n",
              "          if (!dataTable) return;\n",
              "\n",
              "          const docLinkHtml = 'Like what you see? Visit the ' +\n",
              "            '<a target=\"_blank\" href=https://colab.research.google.com/notebooks/data_table.ipynb>data table notebook</a>'\n",
              "            + ' to learn more about interactive tables.';\n",
              "          element.innerHTML = '';\n",
              "          dataTable['output_type'] = 'display_data';\n",
              "          await google.colab.output.renderOutput(dataTable, element);\n",
              "          const docLink = document.createElement('div');\n",
              "          docLink.innerHTML = docLinkHtml;\n",
              "          element.appendChild(docLink);\n",
              "        }\n",
              "      </script>\n",
              "    </div>\n",
              "  </div>\n",
              "  "
            ]
          },
          "metadata": {},
          "execution_count": 9
        }
      ]
    },
    {
      "cell_type": "code",
      "source": [
        "sns.countplot(data['letter'])"
      ],
      "metadata": {
        "colab": {
          "base_uri": "https://localhost:8080/",
          "height": 354
        },
        "id": "Sm6pjKgVa69F",
        "outputId": "84abf7df-a4f0-46d2-cd84-941917aeeab6"
      },
      "execution_count": 10,
      "outputs": [
        {
          "output_type": "stream",
          "name": "stderr",
          "text": [
            "/usr/local/lib/python3.7/dist-packages/seaborn/_decorators.py:43: FutureWarning: Pass the following variable as a keyword arg: x. From version 0.12, the only valid positional argument will be `data`, and passing other arguments without an explicit keyword will result in an error or misinterpretation.\n",
            "  FutureWarning\n"
          ]
        },
        {
          "output_type": "execute_result",
          "data": {
            "text/plain": [
              "<matplotlib.axes._subplots.AxesSubplot at 0x7f29221d9a10>"
            ]
          },
          "metadata": {},
          "execution_count": 10
        },
        {
          "output_type": "display_data",
          "data": {
            "text/plain": [
              "<Figure size 432x288 with 1 Axes>"
            ],
            "image/png": "[encoded data removed]"
          },
          "metadata": {
            "needs_background": "light"
          }
        }
      ]
    },
    {
      "cell_type": "code",
      "source": [
        "x = data.iloc[:, 1:]\n",
        "y = data['letter'].tolist()\n",
        "print(x)\n",
        "\n",
        "# Select 4000 rows data as a testing dataset\n",
        "x_test = x.iloc[0:4000, :].values.astype('float32') # all pixel values \n",
        "y_test = y[0:4000] # Select label for testing data\n",
        "x_train = x.iloc[4000:, :].values.astype('float32') # all pixel values \n",
        "y_train = y[4000:]"
      ],
      "metadata": {
        "colab": {
          "base_uri": "https://localhost:8080/"
        },
        "id": "DV5rhyKPa8YN",
        "outputId": "24fd9f77-b995-464e-cc13-23b678d5d6bd"
      },
      "execution_count": 11,
      "outputs": [
        {
          "output_type": "stream",
          "name": "stdout",
          "text": [
            "       xbox   ybox   width   height  onpix   xbar   ybar   x2bar  y2bar   \\\n",
            "0          2      8       3       5       1      8     13      0       6   \n",
            "1          5     12       3       7       2     10      5      5       4   \n",
            "2          4     11       6       8       6     10      6      2       6   \n",
            "3          7     11       6       6       3      5      9      4       6   \n",
            "4          2      1       3       1       1      8      6      6       6   \n",
            "...      ...    ...     ...     ...     ...    ...    ...    ...     ...   \n",
            "19995      2      2       3       3       2      7      7      7       6   \n",
            "19996      7     10       8       8       4      4      8      6       9   \n",
            "19997      6      9       6       7       5      6     11      3       7   \n",
            "19998      2      3       4       2       1      8      7      2       6   \n",
            "19999      4      9       6       6       2      9      5      3       1   \n",
            "\n",
            "       xybar   x2ybar  xy2bar  xedge   xedgey  yedge   yedgex  \n",
            "0           6      10       8       0       8       0       8  \n",
            "1          13       3       9       2       8       4      10  \n",
            "2          10       3       7       3       7       3       9  \n",
            "3           4       4      10       6      10       2       8  \n",
            "4           6       5       9       1       7       5      10  \n",
            "...       ...     ...     ...     ...     ...     ...     ...  \n",
            "19995       6       6       4       2       8       3       7  \n",
            "19996      12       9      13       2       9       3       7  \n",
            "19997      11       9       5       2      12       2       4  \n",
            "19998      10       6       8       1       9       5       8  \n",
            "19999       8       1       8       2       7       2       8  \n",
            "\n",
            "[20000 rows x 16 columns]\n"
          ]
        }
      ]
    },
    {
      "cell_type": "code",
      "source": [
        "print((min(x_train[2]), max(x_train[2])))"
      ],
      "metadata": {
        "colab": {
          "base_uri": "https://localhost:8080/"
        },
        "id": "hNEgeclubAqI",
        "outputId": "58c9379b-a19a-4336-8444-f88c2b7460b4"
      },
      "execution_count": 12,
      "outputs": [
        {
          "output_type": "stream",
          "name": "stdout",
          "text": [
            "(1.0, 12.0)\n"
          ]
        }
      ]
    },
    {
      "cell_type": "code",
      "source": [
        "# Normalizing the data\n",
        "x_train = x_train/255.0\n",
        "x_test = x_test/255.0\n",
        "print('x_train shape:', x_train.shape)\n",
        "print(x_train.shape[0], 'train samples')\n",
        "print(x_test.shape[0], 'test samples')"
      ],
      "metadata": {
        "colab": {
          "base_uri": "https://localhost:8080/"
        },
        "id": "1QVxAPq-bHZ7",
        "outputId": "da0574f9-506f-43a7-8656-6db3cdfd52c7"
      },
      "execution_count": 13,
      "outputs": [
        {
          "output_type": "stream",
          "name": "stdout",
          "text": [
            "x_train shape: (16000, 16)\n",
            "16000 train samples\n",
            "4000 test samples\n"
          ]
        }
      ]
    },
    {
      "cell_type": "code",
      "source": [
        "# Train the svm algorithm\n",
        "model_clf = svm.SVC(C=5, kernel ='poly')\n",
        "model_clf.fit(x_train, y_train)"
      ],
      "metadata": {
        "colab": {
          "base_uri": "https://localhost:8080/"
        },
        "id": "t-bw4C1AbQOA",
        "outputId": "d09f9f01-95da-46dc-e96f-6abcbe324ade"
      },
      "execution_count": 14,
      "outputs": [
        {
          "output_type": "execute_result",
          "data": {
            "text/plain": [
              "SVC(C=5, kernel='poly')"
            ]
          },
          "metadata": {},
          "execution_count": 14
        }
      ]
    },
    {
      "cell_type": "code",
      "source": [
        "# aaply the trained learner to test new data\n",
        "y_pred = model_clf.predict(x_test)"
      ],
      "metadata": {
        "id": "MNMzRyI2bXw8"
      },
      "execution_count": 15,
      "outputs": []
    },
    {
      "cell_type": "code",
      "source": [
        "#multi-class confusion matrix for each class\n",
        "lst_actual_class = y_test\n",
        "lst_predicted_class = y_pred\n",
        "lst_classes = ['A', 'B', 'C', 'D', 'E', 'F', 'G', 'H', 'I', 'J', 'K', 'L', 'M', 'N', 'O', 'P', 'Q', 'R', 'S', 'T', 'U', 'V', 'W', 'X', 'Y', 'Z' ]\n"
      ],
      "metadata": {
        "id": "rYJzBZCVbbUo"
      },
      "execution_count": 16,
      "outputs": []
    },
    {
      "cell_type": "code",
      "source": [
        "arr_out_matrix = multilabel_confusion_matrix(lst_actual_class, lst_predicted_class, labels=lst_classes)"
      ],
      "metadata": {
        "id": "bobCm-D8brzY"
      },
      "execution_count": 17,
      "outputs": []
    },
    {
      "cell_type": "code",
      "source": [
        "store_sens = [];\n",
        "store_spec = [];\n",
        "store_acc = [];\n",
        "store_bal_acc = [];\n",
        "store_prec = [];\n",
        "store_fscore = [];\n",
        "store_mcc = [];\n",
        "for no_class in range(len(lst_classes)):\n",
        "    arr_data = arr_out_matrix[no_class];\n",
        "    print(\"Print Class: {0}\".format(no_class));\n",
        "\n",
        "    tp = arr_data[1][1]\n",
        "    fp = arr_data[0][1]\n",
        "    tn = arr_data[0][0]\n",
        "    fn = arr_data[1][0]"
      ],
      "metadata": {
        "colab": {
          "base_uri": "https://localhost:8080/"
        },
        "id": "1gljZg3obyHN",
        "outputId": "a25d6f42-8221-453a-f26a-86943bf53fa8"
      },
      "execution_count": 18,
      "outputs": [
        {
          "output_type": "stream",
          "name": "stdout",
          "text": [
            "Print Class: 0\n",
            "Print Class: 1\n",
            "Print Class: 2\n",
            "Print Class: 3\n",
            "Print Class: 4\n",
            "Print Class: 5\n",
            "Print Class: 6\n",
            "Print Class: 7\n",
            "Print Class: 8\n",
            "Print Class: 9\n",
            "Print Class: 10\n",
            "Print Class: 11\n",
            "Print Class: 12\n",
            "Print Class: 13\n",
            "Print Class: 14\n",
            "Print Class: 15\n",
            "Print Class: 16\n",
            "Print Class: 17\n",
            "Print Class: 18\n",
            "Print Class: 19\n",
            "Print Class: 20\n",
            "Print Class: 21\n",
            "Print Class: 22\n",
            "Print Class: 23\n",
            "Print Class: 24\n",
            "Print Class: 25\n"
          ]
        }
      ]
    },
    {
      "cell_type": "code",
      "source": [
        "    sensitivity = round(tp/(tp+fn), 3);\n",
        "    specificity = round(tn/(tn+fp), 3);\n",
        "    accuracy = round((tp+tn)/(tp+fp+tn+fn), 3);\n",
        "    balanced_accuracy = round((sensitivity+specificity)/2, 3);\n",
        "    precision = round(tp/(tp+fp), 3);\n",
        "    f1Score = round((2*tp/(2*tp + fp + fn)), 3);\n",
        "    \n",
        "    x = (tp+fp) * (tp+fn) * (tn+fp) * (tn+fn)\n",
        "    MCC = round(((tp * tn) - (fp * fn)) / sqrt(x), 3)\n",
        "\n",
        "    store_sens.append(sensitivity);\n",
        "    store_spec.append(specificity);\n",
        "    store_acc.append(accuracy);\n",
        "    store_bal_acc.append(balanced_accuracy);\n",
        "    store_prec.append(precision);\n",
        "    store_fscore.append(f1Score);\n",
        "    store_mcc.append(MCC);"
      ],
      "metadata": {
        "id": "vdgCiL70b0kM"
      },
      "execution_count": 19,
      "outputs": []
    },
    {
      "cell_type": "code",
      "source": [
        "print(\"TP={0}, FP={1}, TN={2}, FN={3}\".format(tp, fp, tn, fn));"
      ],
      "metadata": {
        "colab": {
          "base_uri": "https://localhost:8080/"
        },
        "id": "rc9VnvsFb44d",
        "outputId": "e1162420-9a63-40f0-8d94-a69fc8182f35"
      },
      "execution_count": 20,
      "outputs": [
        {
          "output_type": "stream",
          "name": "stdout",
          "text": [
            "TP=134, FP=0, TN=3865, FN=1\n"
          ]
        }
      ]
    },
    {
      "cell_type": "code",
      "source": [
        "print(\"Sensitivity: {0}\".format(sensitivity));\n",
        "print(\"Specificity: {0}\".format(specificity));"
      ],
      "metadata": {
        "colab": {
          "base_uri": "https://localhost:8080/"
        },
        "id": "rHzj3L2RcGkQ",
        "outputId": "aabb698c-8870-44a5-c1f3-bb184349862e"
      },
      "execution_count": 21,
      "outputs": [
        {
          "output_type": "stream",
          "name": "stdout",
          "text": [
            "Sensitivity: 0.993\n",
            "Specificity: 1.0\n"
          ]
        }
      ]
    },
    {
      "cell_type": "code",
      "source": [
        "print(\"Accuracy: {0}\".format(accuracy));\n",
        "print(\"Balanced Accuracy: {0}\".format(balanced_accuracy));"
      ],
      "metadata": {
        "colab": {
          "base_uri": "https://localhost:8080/"
        },
        "id": "Chja5naHcPON",
        "outputId": "5c9e3c46-5ea5-43eb-ae8a-6ecd345b5b87"
      },
      "execution_count": 22,
      "outputs": [
        {
          "output_type": "stream",
          "name": "stdout",
          "text": [
            "Accuracy: 1.0\n",
            "Balanced Accuracy: 0.996\n"
          ]
        }
      ]
    },
    {
      "cell_type": "code",
      "source": [
        "print(\"Precision: {0}\".format(precision));"
      ],
      "metadata": {
        "colab": {
          "base_uri": "https://localhost:8080/"
        },
        "id": "Q8L1f2_fcQrs",
        "outputId": "2a1d6a67-cd03-40ce-fa0b-652fe050f2a7"
      },
      "execution_count": 23,
      "outputs": [
        {
          "output_type": "stream",
          "name": "stdout",
          "text": [
            "Precision: 1.0\n"
          ]
        }
      ]
    },
    {
      "cell_type": "code",
      "source": [
        "print(\"F1-Score: {0}\".format(f1Score));"
      ],
      "metadata": {
        "colab": {
          "base_uri": "https://localhost:8080/"
        },
        "id": "ICeozFd3cTRc",
        "outputId": "68c90921-1ad3-4339-d8c6-7779a3be973d"
      },
      "execution_count": 24,
      "outputs": [
        {
          "output_type": "stream",
          "name": "stdout",
          "text": [
            "F1-Score: 0.996\n"
          ]
        }
      ]
    },
    {
      "cell_type": "code",
      "source": [
        "print(\"MCC: {0}\\n\".format(MCC));"
      ],
      "metadata": {
        "colab": {
          "base_uri": "https://localhost:8080/"
        },
        "id": "f30-wdWjcUn6",
        "outputId": "6d539eab-1bcd-42ff-abad-d220b7464483"
      },
      "execution_count": 25,
      "outputs": [
        {
          "output_type": "stream",
          "name": "stdout",
          "text": [
            "MCC: 0.996\n",
            "\n"
          ]
        }
      ]
    },
    {
      "cell_type": "code",
      "source": [],
      "metadata": {
        "id": "kJnu8AITcV70"
      },
      "execution_count": 25,
      "outputs": []
    }
  ]
}