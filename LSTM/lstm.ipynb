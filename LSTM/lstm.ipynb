{
  "cells": [
    {
      "cell_type": "markdown",
      "metadata": {
        "id": "view-in-github",
        "colab_type": "text"
      },
      "source": [
        "<a href=\"https://colab.research.google.com/github/ddarshana04/Machine-Learning/blob/main/LSTM/lstm.ipynb\" target=\"_parent\"><img src=\"https://colab.research.google.com/assets/colab-badge.svg\" alt=\"Open In Colab\"/></a>"
      ]
    },
    {
      "cell_type": "code",
      "execution_count": null,
      "metadata": {
        "id": "tmWhSqYM1oJi"
      },
      "outputs": [],
      "source": [
        "import numpy as np\n",
        "import matplotlib.pyplot as plt\n",
        "import pandas as pd\n",
        "import tensorflow as tf\n",
        "from tensorflow.keras.models import Sequential\n",
        "from tensorflow.keras.layers import Dense\n",
        "from tensorflow.keras.layers import LSTM\n",
        "from sklearn.preprocessing import MinMaxScaler\n",
        "from sklearn.metrics import mean_squared_error"
      ]
    },
    {
      "cell_type": "code",
      "execution_count": null,
      "metadata": {
        "id": "Yc1htXoL1t9u"
      },
      "outputs": [],
      "source": [
        "dataframe = pd.read_csv('air.csv', usecols=[1], engine='python')\n",
        "dataset = dataframe.values\n",
        "dataset = dataset.astype('float32')"
      ]
    },
    {
      "cell_type": "code",
      "execution_count": null,
      "metadata": {
        "id": "aUfqHdrK1yCD"
      },
      "outputs": [],
      "source": [
        "scaler = MinMaxScaler(feature_range=(0, 1))\n",
        "dataset = scaler.fit_transform(dataset)"
      ]
    },
    {
      "cell_type": "code",
      "execution_count": null,
      "metadata": {
        "id": "aQExrYSC10i2",
        "outputId": "b89440e1-2bfe-4830-bc90-9cb8a46cb947",
        "colab": {
          "base_uri": "https://localhost:8080/"
        }
      },
      "outputs": [
        {
          "output_type": "stream",
          "name": "stdout",
          "text": [
            "97 48\n"
          ]
        }
      ],
      "source": [
        "train_size = int(len(dataset) * 0.67)\n",
        "test_size = len(dataset) - train_size\n",
        "train, test = dataset[0:train_size,:], dataset[train_size:len(dataset),:]\n",
        "print(len(train), len(test))"
      ]
    },
    {
      "cell_type": "code",
      "execution_count": null,
      "metadata": {
        "id": "7nYdEZYs2DZk"
      },
      "outputs": [],
      "source": [
        "def create_dataset(dataset, look_back=1):\n",
        "\tdataX, dataY = [], []\n",
        "\tfor i in range(len(dataset)-look_back-1):\n",
        "\t\ta = dataset[i:(i+look_back), 0]\n",
        "\t\tdataX.append(a)\n",
        "\t\tdataY.append(dataset[i + look_back, 0])\n",
        "\treturn np.array(dataX), np.array(dataY)"
      ]
    },
    {
      "cell_type": "code",
      "execution_count": null,
      "metadata": {
        "id": "dVUCL7ma2Gt9"
      },
      "outputs": [],
      "source": [
        "look_back = 1\n",
        "trainX, trainY = create_dataset(train, look_back)\n",
        "testX, testY = create_dataset(test, look_back)"
      ]
    },
    {
      "cell_type": "code",
      "execution_count": null,
      "metadata": {
        "id": "EombX-LP2Lnu"
      },
      "outputs": [],
      "source": [
        "trainX = np.reshape(trainX, (trainX.shape[0], 1, trainX.shape[1]))\n",
        "testX = np.reshape(testX, (testX.shape[0], 1, testX.shape[1]))"
      ]
    },
    {
      "cell_type": "code",
      "execution_count": null,
      "metadata": {
        "id": "uC_HMtKG2Phm",
        "outputId": "93628e8e-b6a9-48a9-ad0c-cdce59ef098f",
        "colab": {
          "base_uri": "https://localhost:8080/"
        }
      },
      "outputs": [
        {
          "output_type": "stream",
          "name": "stdout",
          "text": [
            "Epoch 1/100\n",
            "95/95 - 2s - loss: 0.0303 - 2s/epoch - 21ms/step\n",
            "Epoch 2/100\n",
            "95/95 - 0s - loss: 0.0130 - 149ms/epoch - 2ms/step\n",
            "Epoch 3/100\n",
            "95/95 - 0s - loss: 0.0106 - 152ms/epoch - 2ms/step\n",
            "Epoch 4/100\n",
            "95/95 - 0s - loss: 0.0096 - 145ms/epoch - 2ms/step\n",
            "Epoch 5/100\n",
            "95/95 - 0s - loss: 0.0087 - 140ms/epoch - 1ms/step\n",
            "Epoch 6/100\n",
            "95/95 - 0s - loss: 0.0077 - 142ms/epoch - 1ms/step\n",
            "Epoch 7/100\n",
            "95/95 - 0s - loss: 0.0069 - 135ms/epoch - 1ms/step\n",
            "Epoch 8/100\n",
            "95/95 - 0s - loss: 0.0060 - 159ms/epoch - 2ms/step\n",
            "Epoch 9/100\n",
            "95/95 - 0s - loss: 0.0053 - 138ms/epoch - 1ms/step\n",
            "Epoch 10/100\n",
            "95/95 - 0s - loss: 0.0045 - 139ms/epoch - 1ms/step\n",
            "Epoch 11/100\n",
            "95/95 - 0s - loss: 0.0041 - 136ms/epoch - 1ms/step\n",
            "Epoch 12/100\n",
            "95/95 - 0s - loss: 0.0036 - 154ms/epoch - 2ms/step\n",
            "Epoch 13/100\n",
            "95/95 - 0s - loss: 0.0031 - 140ms/epoch - 1ms/step\n",
            "Epoch 14/100\n",
            "95/95 - 0s - loss: 0.0028 - 143ms/epoch - 2ms/step\n",
            "Epoch 15/100\n",
            "95/95 - 0s - loss: 0.0026 - 149ms/epoch - 2ms/step\n",
            "Epoch 16/100\n",
            "95/95 - 0s - loss: 0.0025 - 151ms/epoch - 2ms/step\n",
            "Epoch 17/100\n",
            "95/95 - 0s - loss: 0.0023 - 139ms/epoch - 1ms/step\n",
            "Epoch 18/100\n",
            "95/95 - 0s - loss: 0.0022 - 138ms/epoch - 1ms/step\n",
            "Epoch 19/100\n",
            "95/95 - 0s - loss: 0.0022 - 138ms/epoch - 1ms/step\n",
            "Epoch 20/100\n",
            "95/95 - 0s - loss: 0.0022 - 149ms/epoch - 2ms/step\n",
            "Epoch 21/100\n",
            "95/95 - 0s - loss: 0.0021 - 137ms/epoch - 1ms/step\n",
            "Epoch 22/100\n",
            "95/95 - 0s - loss: 0.0021 - 146ms/epoch - 2ms/step\n",
            "Epoch 23/100\n",
            "95/95 - 0s - loss: 0.0021 - 142ms/epoch - 1ms/step\n",
            "Epoch 24/100\n",
            "95/95 - 0s - loss: 0.0021 - 141ms/epoch - 1ms/step\n",
            "Epoch 25/100\n",
            "95/95 - 0s - loss: 0.0021 - 139ms/epoch - 1ms/step\n",
            "Epoch 26/100\n",
            "95/95 - 0s - loss: 0.0021 - 140ms/epoch - 1ms/step\n",
            "Epoch 27/100\n",
            "95/95 - 0s - loss: 0.0021 - 153ms/epoch - 2ms/step\n",
            "Epoch 28/100\n",
            "95/95 - 0s - loss: 0.0021 - 144ms/epoch - 2ms/step\n",
            "Epoch 29/100\n",
            "95/95 - 0s - loss: 0.0021 - 148ms/epoch - 2ms/step\n",
            "Epoch 30/100\n",
            "95/95 - 0s - loss: 0.0021 - 144ms/epoch - 2ms/step\n",
            "Epoch 31/100\n",
            "95/95 - 0s - loss: 0.0021 - 137ms/epoch - 1ms/step\n",
            "Epoch 32/100\n",
            "95/95 - 0s - loss: 0.0021 - 136ms/epoch - 1ms/step\n",
            "Epoch 33/100\n",
            "95/95 - 0s - loss: 0.0021 - 146ms/epoch - 2ms/step\n",
            "Epoch 34/100\n",
            "95/95 - 0s - loss: 0.0021 - 137ms/epoch - 1ms/step\n",
            "Epoch 35/100\n",
            "95/95 - 0s - loss: 0.0021 - 134ms/epoch - 1ms/step\n",
            "Epoch 36/100\n",
            "95/95 - 0s - loss: 0.0021 - 146ms/epoch - 2ms/step\n",
            "Epoch 37/100\n",
            "95/95 - 0s - loss: 0.0021 - 140ms/epoch - 1ms/step\n",
            "Epoch 38/100\n",
            "95/95 - 0s - loss: 0.0021 - 138ms/epoch - 1ms/step\n",
            "Epoch 39/100\n",
            "95/95 - 0s - loss: 0.0022 - 140ms/epoch - 1ms/step\n",
            "Epoch 40/100\n",
            "95/95 - 0s - loss: 0.0021 - 137ms/epoch - 1ms/step\n",
            "Epoch 41/100\n",
            "95/95 - 0s - loss: 0.0021 - 140ms/epoch - 1ms/step\n",
            "Epoch 42/100\n",
            "95/95 - 0s - loss: 0.0021 - 145ms/epoch - 2ms/step\n",
            "Epoch 43/100\n",
            "95/95 - 0s - loss: 0.0021 - 144ms/epoch - 2ms/step\n",
            "Epoch 44/100\n",
            "95/95 - 0s - loss: 0.0022 - 137ms/epoch - 1ms/step\n",
            "Epoch 45/100\n",
            "95/95 - 0s - loss: 0.0021 - 146ms/epoch - 2ms/step\n",
            "Epoch 46/100\n",
            "95/95 - 0s - loss: 0.0021 - 137ms/epoch - 1ms/step\n",
            "Epoch 47/100\n",
            "95/95 - 0s - loss: 0.0021 - 137ms/epoch - 1ms/step\n",
            "Epoch 48/100\n",
            "95/95 - 0s - loss: 0.0021 - 135ms/epoch - 1ms/step\n",
            "Epoch 49/100\n",
            "95/95 - 0s - loss: 0.0021 - 148ms/epoch - 2ms/step\n",
            "Epoch 50/100\n",
            "95/95 - 0s - loss: 0.0021 - 153ms/epoch - 2ms/step\n",
            "Epoch 51/100\n",
            "95/95 - 0s - loss: 0.0022 - 152ms/epoch - 2ms/step\n",
            "Epoch 52/100\n",
            "95/95 - 0s - loss: 0.0021 - 142ms/epoch - 1ms/step\n",
            "Epoch 53/100\n",
            "95/95 - 0s - loss: 0.0021 - 144ms/epoch - 2ms/step\n",
            "Epoch 54/100\n",
            "95/95 - 0s - loss: 0.0021 - 149ms/epoch - 2ms/step\n",
            "Epoch 55/100\n",
            "95/95 - 0s - loss: 0.0021 - 148ms/epoch - 2ms/step\n",
            "Epoch 56/100\n",
            "95/95 - 0s - loss: 0.0021 - 171ms/epoch - 2ms/step\n",
            "Epoch 57/100\n",
            "95/95 - 0s - loss: 0.0020 - 153ms/epoch - 2ms/step\n",
            "Epoch 58/100\n",
            "95/95 - 0s - loss: 0.0022 - 138ms/epoch - 1ms/step\n",
            "Epoch 59/100\n",
            "95/95 - 0s - loss: 0.0020 - 132ms/epoch - 1ms/step\n",
            "Epoch 60/100\n",
            "95/95 - 0s - loss: 0.0022 - 144ms/epoch - 2ms/step\n",
            "Epoch 61/100\n",
            "95/95 - 0s - loss: 0.0021 - 139ms/epoch - 1ms/step\n",
            "Epoch 62/100\n",
            "95/95 - 0s - loss: 0.0021 - 137ms/epoch - 1ms/step\n",
            "Epoch 63/100\n",
            "95/95 - 0s - loss: 0.0021 - 134ms/epoch - 1ms/step\n",
            "Epoch 64/100\n",
            "95/95 - 0s - loss: 0.0020 - 152ms/epoch - 2ms/step\n",
            "Epoch 65/100\n",
            "95/95 - 0s - loss: 0.0021 - 136ms/epoch - 1ms/step\n",
            "Epoch 66/100\n",
            "95/95 - 0s - loss: 0.0021 - 142ms/epoch - 1ms/step\n",
            "Epoch 67/100\n",
            "95/95 - 0s - loss: 0.0021 - 138ms/epoch - 1ms/step\n",
            "Epoch 68/100\n",
            "95/95 - 0s - loss: 0.0021 - 139ms/epoch - 1ms/step\n",
            "Epoch 69/100\n",
            "95/95 - 0s - loss: 0.0020 - 141ms/epoch - 1ms/step\n",
            "Epoch 70/100\n",
            "95/95 - 0s - loss: 0.0021 - 142ms/epoch - 1ms/step\n",
            "Epoch 71/100\n",
            "95/95 - 0s - loss: 0.0021 - 146ms/epoch - 2ms/step\n",
            "Epoch 72/100\n",
            "95/95 - 0s - loss: 0.0021 - 135ms/epoch - 1ms/step\n",
            "Epoch 73/100\n",
            "95/95 - 0s - loss: 0.0021 - 136ms/epoch - 1ms/step\n",
            "Epoch 74/100\n",
            "95/95 - 0s - loss: 0.0020 - 134ms/epoch - 1ms/step\n",
            "Epoch 75/100\n",
            "95/95 - 0s - loss: 0.0021 - 144ms/epoch - 2ms/step\n",
            "Epoch 76/100\n",
            "95/95 - 0s - loss: 0.0021 - 146ms/epoch - 2ms/step\n",
            "Epoch 77/100\n",
            "95/95 - 0s - loss: 0.0021 - 133ms/epoch - 1ms/step\n",
            "Epoch 78/100\n",
            "95/95 - 0s - loss: 0.0021 - 151ms/epoch - 2ms/step\n",
            "Epoch 79/100\n",
            "95/95 - 0s - loss: 0.0021 - 143ms/epoch - 2ms/step\n",
            "Epoch 80/100\n",
            "95/95 - 0s - loss: 0.0020 - 142ms/epoch - 1ms/step\n",
            "Epoch 81/100\n",
            "95/95 - 0s - loss: 0.0021 - 140ms/epoch - 1ms/step\n",
            "Epoch 82/100\n",
            "95/95 - 0s - loss: 0.0021 - 137ms/epoch - 1ms/step\n",
            "Epoch 83/100\n",
            "95/95 - 0s - loss: 0.0021 - 140ms/epoch - 1ms/step\n",
            "Epoch 84/100\n",
            "95/95 - 0s - loss: 0.0020 - 134ms/epoch - 1ms/step\n",
            "Epoch 85/100\n",
            "95/95 - 0s - loss: 0.0021 - 143ms/epoch - 2ms/step\n",
            "Epoch 86/100\n",
            "95/95 - 0s - loss: 0.0021 - 138ms/epoch - 1ms/step\n",
            "Epoch 87/100\n",
            "95/95 - 0s - loss: 0.0020 - 137ms/epoch - 1ms/step\n",
            "Epoch 88/100\n",
            "95/95 - 0s - loss: 0.0022 - 136ms/epoch - 1ms/step\n",
            "Epoch 89/100\n",
            "95/95 - 0s - loss: 0.0021 - 148ms/epoch - 2ms/step\n",
            "Epoch 90/100\n",
            "95/95 - 0s - loss: 0.0021 - 140ms/epoch - 1ms/step\n",
            "Epoch 91/100\n",
            "95/95 - 0s - loss: 0.0020 - 148ms/epoch - 2ms/step\n",
            "Epoch 92/100\n",
            "95/95 - 0s - loss: 0.0021 - 150ms/epoch - 2ms/step\n",
            "Epoch 93/100\n",
            "95/95 - 0s - loss: 0.0021 - 141ms/epoch - 1ms/step\n",
            "Epoch 94/100\n",
            "95/95 - 0s - loss: 0.0021 - 149ms/epoch - 2ms/step\n",
            "Epoch 95/100\n",
            "95/95 - 0s - loss: 0.0020 - 140ms/epoch - 1ms/step\n",
            "Epoch 96/100\n",
            "95/95 - 0s - loss: 0.0020 - 141ms/epoch - 1ms/step\n",
            "Epoch 97/100\n",
            "95/95 - 0s - loss: 0.0020 - 155ms/epoch - 2ms/step\n",
            "Epoch 98/100\n",
            "95/95 - 0s - loss: 0.0020 - 148ms/epoch - 2ms/step\n",
            "Epoch 99/100\n",
            "95/95 - 0s - loss: 0.0020 - 144ms/epoch - 2ms/step\n",
            "Epoch 100/100\n",
            "95/95 - 0s - loss: 0.0021 - 138ms/epoch - 1ms/step\n"
          ]
        },
        {
          "output_type": "execute_result",
          "data": {
            "text/plain": [
              "<keras.callbacks.History at 0x7f2ce5dd3c90>"
            ]
          },
          "metadata": {},
          "execution_count": 8
        }
      ],
      "source": [
        "model = Sequential()\n",
        "model.add(LSTM(4, input_shape=(1, look_back)))\n",
        "model.add(Dense(1))\n",
        "model.compile(loss='mean_squared_error', optimizer='adam')\n",
        "model.fit(trainX, trainY, epochs=100, batch_size=1, verbose=2)"
      ]
    },
    {
      "cell_type": "code",
      "execution_count": null,
      "metadata": {
        "colab": {
          "base_uri": "https://localhost:8080/"
        },
        "id": "M6AC723V2Sq6",
        "outputId": "3f917333-8694-4065-ef94-844e1a94b670"
      },
      "outputs": [
        {
          "output_type": "stream",
          "name": "stdout",
          "text": [
            "3/3 [==============================] - 1s 4ms/step\n",
            "2/2 [==============================] - 0s 5ms/step\n"
          ]
        }
      ],
      "source": [
        "trainPredict = model.predict(trainX)\n",
        "testPredict = model.predict(testX)"
      ]
    },
    {
      "cell_type": "code",
      "execution_count": null,
      "metadata": {
        "id": "Ygpz8a2N2X2v"
      },
      "outputs": [],
      "source": [
        "trainPredict = scaler.inverse_transform(trainPredict)\n",
        "trainY = scaler.inverse_transform([trainY])\n",
        "testPredict = scaler.inverse_transform(testPredict)\n",
        "testY = scaler.inverse_transform([testY])\n"
      ]
    },
    {
      "cell_type": "code",
      "execution_count": null,
      "metadata": {
        "colab": {
          "base_uri": "https://localhost:8080/"
        },
        "id": "za6WMUQ52d1z",
        "outputId": "b9878e83-72cd-4d0e-cb3e-20491b033b7d"
      },
      "outputs": [
        {
          "output_type": "stream",
          "name": "stdout",
          "text": [
            "Train Score: 23.12 RMSE\n",
            "Test Score: 47.70 RMSE\n"
          ]
        }
      ],
      "source": [
        "trainScore = np.sqrt(mean_squared_error(trainY[0], trainPredict[:,0]))\n",
        "print('Train Score: %.2f RMSE' % (trainScore))\n",
        "testScore = np.sqrt(mean_squared_error(testY[0], testPredict[:,0]))\n",
        "print('Test Score: %.2f RMSE' % (testScore))"
      ]
    },
    {
      "cell_type": "code",
      "execution_count": null,
      "metadata": {
        "id": "Zs7JVyMX2ggN"
      },
      "outputs": [],
      "source": [
        "\n",
        "trainPredictPlot = np.empty_like(dataset)\n",
        "trainPredictPlot[:, :] = np.nan\n",
        "trainPredictPlot[look_back:len(trainPredict)+look_back, :] = trainPredict\n",
        "\n"
      ]
    },
    {
      "cell_type": "code",
      "execution_count": null,
      "metadata": {
        "id": "9h5nJ2Wc2mpv"
      },
      "outputs": [],
      "source": [
        "\n",
        "testPredictPlot = np.empty_like(dataset)\n",
        "testPredictPlot[:, :] = np.nan\n",
        "testPredictPlot[len(trainPredict)+(look_back*2)+1:len(dataset)-1, :] = testPredict"
      ]
    },
    {
      "cell_type": "code",
      "execution_count": null,
      "metadata": {
        "colab": {
          "base_uri": "https://localhost:8080/",
          "height": 265
        },
        "id": "NtJP9nKR2qoF",
        "outputId": "c08a7568-4d20-4535-e46c-e72ed54c7d6a"
      },
      "outputs": [
        {
          "output_type": "display_data",
          "data": {
            "text/plain": [
              "<Figure size 432x288 with 1 Axes>"
            ],
            "image/png": "[encoded data removed]"
          },
          "metadata": {
            "needs_background": "light"
          }
        }
      ],
      "source": [
        "\n",
        "plt.plot(scaler.inverse_transform(dataset))\n",
        "plt.plot(trainPredictPlot)\n",
        "plt.plot(testPredictPlot)\n",
        "plt.show()"
      ]
    }
  ],
  "metadata": {
    "colab": {
      "collapsed_sections": [],
      "provenance": [],
      "include_colab_link": true
    },
    "kernelspec": {
      "display_name": "Python 3",
      "name": "python3"
    },
    "language_info": {
      "name": "python"
    }
  },
  "nbformat": 4,
  "nbformat_minor": 0
}