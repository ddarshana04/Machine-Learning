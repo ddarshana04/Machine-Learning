{
  "nbformat": 4,
  "nbformat_minor": 0,
  "metadata": {
    "colab": {
      "provenance": [],
      "collapsed_sections": [],
      "authorship_tag": "ABX9TyMM2lPYqPuExwEv6Cg/IajQ",
      "include_colab_link": true
    },
    "kernelspec": {
      "name": "python3",
      "display_name": "Python 3"
    },
    "language_info": {
      "name": "python"
    }
  },
  "cells": [
    {
      "cell_type": "markdown",
      "metadata": {
        "id": "view-in-github",
        "colab_type": "text"
      },
      "source": [
        "<a href=\"https://colab.research.google.com/github/ddarshana04/Machine-Learning/blob/main/K-Means_Clustering/Clustering_of_weather_data_using_K_means.ipynb\" target=\"_parent\"><img src=\"https://colab.research.google.com/assets/colab-badge.svg\" alt=\"Open In Colab\"/></a>"
      ]
    },
    {
      "cell_type": "code",
      "execution_count": null,
      "metadata": {
        "id": "mGPaEhKZPv68"
      },
      "outputs": [],
      "source": [
        "from sklearn.preprocessing import StandardScaler\n",
        "from sklearn.cluster import KMeans\n",
        "import pandas as pd\n",
        "import numpy as np\n",
        "from itertools import cycle, islice\n",
        "import matplotlib.pyplot as plt\n",
        "from pandas.plotting import parallel_coordinates\n",
        "\n",
        "%matplotlib inline"
      ]
    },
    {
      "cell_type": "code",
      "source": [
        "data = pd.read_csv('minute_weather.csv')"
      ],
      "metadata": {
        "id": "N4EJDZzOQAE1"
      },
      "execution_count": null,
      "outputs": []
    },
    {
      "cell_type": "code",
      "source": [
        "data.shape"
      ],
      "metadata": {
        "colab": {
          "base_uri": "https://localhost:8080/"
        },
        "id": "WmDni8CxQANn",
        "outputId": "dd54a3e6-ec92-4966-af55-1d7b68496800"
      },
      "execution_count": null,
      "outputs": [
        {
          "output_type": "execute_result",
          "data": {
            "text/plain": [
              "(1587257, 13)"
            ]
          },
          "metadata": {},
          "execution_count": 50
        }
      ]
    },
    {
      "cell_type": "code",
      "source": [
        "data.head()"
      ],
      "metadata": {
        "colab": {
          "base_uri": "https://localhost:8080/",
          "height": 357
        },
        "id": "Lv1pZCQVQbNy",
        "outputId": "fd1b481a-1a7b-4431-a5d9-7da23e9ff70f"
      },
      "execution_count": null,
      "outputs": [
        {
          "output_type": "execute_result",
          "data": {
            "text/plain": [
              "   rowID     hpwren_timestamp  air_pressure  air_temp  avg_wind_direction  \\\n",
              "0      0  2011-09-10 00:00:49         912.3     64.76                97.0   \n",
              "1      1  2011-09-10 00:01:49         912.3     63.86               161.0   \n",
              "2      2  2011-09-10 00:02:49         912.3     64.22                77.0   \n",
              "3      3  2011-09-10 00:03:49         912.3     64.40                89.0   \n",
              "4      4  2011-09-10 00:04:49         912.3     64.40               185.0   \n",
              "\n",
              "   avg_wind_speed  max_wind_direction  max_wind_speed  min_wind_direction  \\\n",
              "0             1.2               106.0             1.6                85.0   \n",
              "1             0.8               215.0             1.5                43.0   \n",
              "2             0.7               143.0             1.2               324.0   \n",
              "3             1.2               112.0             1.6                12.0   \n",
              "4             0.4               260.0             1.0               100.0   \n",
              "\n",
              "   min_wind_speed  rain_accumulation  rain_duration  relative_humidity  \n",
              "0             1.0                NaN            NaN               60.5  \n",
              "1             0.2                0.0            0.0               39.9  \n",
              "2             0.3                0.0            0.0               43.0  \n",
              "3             0.7                0.0            0.0               49.5  \n",
              "4             0.1                0.0            0.0               58.8  "
            ],
            "text/html": [
              "\n",
              "  <div id=\"df-16a2e2fd-8d15-41e5-a738-67e19ae14eb7\">\n",
              "    <div class=\"colab-df-container\">\n",
              "      <div>\n",
              "<style scoped>\n",
              "    .dataframe tbody tr th:only-of-type {\n",
              "        vertical-align: middle;\n",
              "    }\n",
              "\n",
              "    .dataframe tbody tr th {\n",
              "        vertical-align: top;\n",
              "    }\n",
              "\n",
              "    .dataframe thead th {\n",
              "        text-align: right;\n",
              "    }\n",
              "</style>\n",
              "<table border=\"1\" class=\"dataframe\">\n",
              "  <thead>\n",
              "    <tr style=\"text-align: right;\">\n",
              "      <th></th>\n",
              "      <th>rowID</th>\n",
              "      <th>hpwren_timestamp</th>\n",
              "      <th>air_pressure</th>\n",
              "      <th>air_temp</th>\n",
              "      <th>avg_wind_direction</th>\n",
              "      <th>avg_wind_speed</th>\n",
              "      <th>max_wind_direction</th>\n",
              "      <th>max_wind_speed</th>\n",
              "      <th>min_wind_direction</th>\n",
              "      <th>min_wind_speed</th>\n",
              "      <th>rain_accumulation</th>\n",
              "      <th>rain_duration</th>\n",
              "      <th>relative_humidity</th>\n",
              "    </tr>\n",
              "  </thead>\n",
              "  <tbody>\n",
              "    <tr>\n",
              "      <th>0</th>\n",
              "      <td>0</td>\n",
              "      <td>2011-09-10 00:00:49</td>\n",
              "      <td>912.3</td>\n",
              "      <td>64.76</td>\n",
              "      <td>97.0</td>\n",
              "      <td>1.2</td>\n",
              "      <td>106.0</td>\n",
              "      <td>1.6</td>\n",
              "      <td>85.0</td>\n",
              "      <td>1.0</td>\n",
              "      <td>NaN</td>\n",
              "      <td>NaN</td>\n",
              "      <td>60.5</td>\n",
              "    </tr>\n",
              "    <tr>\n",
              "      <th>1</th>\n",
              "      <td>1</td>\n",
              "      <td>2011-09-10 00:01:49</td>\n",
              "      <td>912.3</td>\n",
              "      <td>63.86</td>\n",
              "      <td>161.0</td>\n",
              "      <td>0.8</td>\n",
              "      <td>215.0</td>\n",
              "      <td>1.5</td>\n",
              "      <td>43.0</td>\n",
              "      <td>0.2</td>\n",
              "      <td>0.0</td>\n",
              "      <td>0.0</td>\n",
              "      <td>39.9</td>\n",
              "    </tr>\n",
              "    <tr>\n",
              "      <th>2</th>\n",
              "      <td>2</td>\n",
              "      <td>2011-09-10 00:02:49</td>\n",
              "      <td>912.3</td>\n",
              "      <td>64.22</td>\n",
              "      <td>77.0</td>\n",
              "      <td>0.7</td>\n",
              "      <td>143.0</td>\n",
              "      <td>1.2</td>\n",
              "      <td>324.0</td>\n",
              "      <td>0.3</td>\n",
              "      <td>0.0</td>\n",
              "      <td>0.0</td>\n",
              "      <td>43.0</td>\n",
              "    </tr>\n",
              "    <tr>\n",
              "      <th>3</th>\n",
              "      <td>3</td>\n",
              "      <td>2011-09-10 00:03:49</td>\n",
              "      <td>912.3</td>\n",
              "      <td>64.40</td>\n",
              "      <td>89.0</td>\n",
              "      <td>1.2</td>\n",
              "      <td>112.0</td>\n",
              "      <td>1.6</td>\n",
              "      <td>12.0</td>\n",
              "      <td>0.7</td>\n",
              "      <td>0.0</td>\n",
              "      <td>0.0</td>\n",
              "      <td>49.5</td>\n",
              "    </tr>\n",
              "    <tr>\n",
              "      <th>4</th>\n",
              "      <td>4</td>\n",
              "      <td>2011-09-10 00:04:49</td>\n",
              "      <td>912.3</td>\n",
              "      <td>64.40</td>\n",
              "      <td>185.0</td>\n",
              "      <td>0.4</td>\n",
              "      <td>260.0</td>\n",
              "      <td>1.0</td>\n",
              "      <td>100.0</td>\n",
              "      <td>0.1</td>\n",
              "      <td>0.0</td>\n",
              "      <td>0.0</td>\n",
              "      <td>58.8</td>\n",
              "    </tr>\n",
              "  </tbody>\n",
              "</table>\n",
              "</div>\n",
              "      <button class=\"colab-df-convert\" onclick=\"convertToInteractive('df-16a2e2fd-8d15-41e5-a738-67e19ae14eb7')\"\n",
              "              title=\"Convert this dataframe to an interactive table.\"\n",
              "              style=\"display:none;\">\n",
              "        \n",
              "  <svg xmlns=\"http://www.w3.org/2000/svg\" height=\"24px\"viewBox=\"0 0 24 24\"\n",
              "       width=\"24px\">\n",
              "    <path d=\"M0 0h24v24H0V0z\" fill=\"none\"/>\n",
              "    <path d=\"M18.56 5.44l.94 2.06.94-2.06 2.06-.94-2.06-.94-.94-2.06-.94 2.06-2.06.94zm-11 1L8.5 8.5l.94-2.06 2.06-.94-2.06-.94L8.5 2.5l-.94 2.06-2.06.94zm10 10l.94 2.06.94-2.06 2.06-.94-2.06-.94-.94-2.06-.94 2.06-2.06.94z\"/><path d=\"M17.41 7.96l-1.37-1.37c-.4-.4-.92-.59-1.43-.59-.52 0-1.04.2-1.43.59L10.3 9.45l-7.72 7.72c-.78.78-.78 2.05 0 2.83L4 21.41c.39.39.9.59 1.41.59.51 0 1.02-.2 1.41-.59l7.78-7.78 2.81-2.81c.8-.78.8-2.07 0-2.86zM5.41 20L4 18.59l7.72-7.72 1.47 1.35L5.41 20z\"/>\n",
              "  </svg>\n",
              "      </button>\n",
              "      \n",
              "  <style>\n",
              "    .colab-df-container {\n",
              "      display:flex;\n",
              "      flex-wrap:wrap;\n",
              "      gap: 12px;\n",
              "    }\n",
              "\n",
              "    .colab-df-convert {\n",
              "      background-color: #E8F0FE;\n",
              "      border: none;\n",
              "      border-radius: 50%;\n",
              "      cursor: pointer;\n",
              "      display: none;\n",
              "      fill: #1967D2;\n",
              "      height: 32px;\n",
              "      padding: 0 0 0 0;\n",
              "      width: 32px;\n",
              "    }\n",
              "\n",
              "    .colab-df-convert:hover {\n",
              "      background-color: #E2EBFA;\n",
              "      box-shadow: 0px 1px 2px rgba(60, 64, 67, 0.3), 0px 1px 3px 1px rgba(60, 64, 67, 0.15);\n",
              "      fill: #174EA6;\n",
              "    }\n",
              "\n",
              "    [theme=dark] .colab-df-convert {\n",
              "      background-color: #3B4455;\n",
              "      fill: #D2E3FC;\n",
              "    }\n",
              "\n",
              "    [theme=dark] .colab-df-convert:hover {\n",
              "      background-color: #434B5C;\n",
              "      box-shadow: 0px 1px 3px 1px rgba(0, 0, 0, 0.15);\n",
              "      filter: drop-shadow(0px 1px 2px rgba(0, 0, 0, 0.3));\n",
              "      fill: #FFFFFF;\n",
              "    }\n",
              "  </style>\n",
              "\n",
              "      <script>\n",
              "        const buttonEl =\n",
              "          document.querySelector('#df-16a2e2fd-8d15-41e5-a738-67e19ae14eb7 button.colab-df-convert');\n",
              "        buttonEl.style.display =\n",
              "          google.colab.kernel.accessAllowed ? 'block' : 'none';\n",
              "\n",
              "        async function convertToInteractive(key) {\n",
              "          const element = document.querySelector('#df-16a2e2fd-8d15-41e5-a738-67e19ae14eb7');\n",
              "          const dataTable =\n",
              "            await google.colab.kernel.invokeFunction('convertToInteractive',\n",
              "                                                     [key], {});\n",
              "          if (!dataTable) return;\n",
              "\n",
              "          const docLinkHtml = 'Like what you see? Visit the ' +\n",
              "            '<a target=\"_blank\" href=https://colab.research.google.com/notebooks/data_table.ipynb>data table notebook</a>'\n",
              "            + ' to learn more about interactive tables.';\n",
              "          element.innerHTML = '';\n",
              "          dataTable['output_type'] = 'display_data';\n",
              "          await google.colab.output.renderOutput(dataTable, element);\n",
              "          const docLink = document.createElement('div');\n",
              "          docLink.innerHTML = docLinkHtml;\n",
              "          element.appendChild(docLink);\n",
              "        }\n",
              "      </script>\n",
              "    </div>\n",
              "  </div>\n",
              "  "
            ]
          },
          "metadata": {},
          "execution_count": 51
        }
      ]
    },
    {
      "cell_type": "code",
      "source": [
        "sampled_df = data[(data['rowID'] % 10) == 0]\n",
        "sampled_df.shape"
      ],
      "metadata": {
        "colab": {
          "base_uri": "https://localhost:8080/"
        },
        "id": "LEL9LYWqQbWe",
        "outputId": "83bb0139-9a82-4322-e229-7af05c2e9342"
      },
      "execution_count": null,
      "outputs": [
        {
          "output_type": "execute_result",
          "data": {
            "text/plain": [
              "(158726, 13)"
            ]
          },
          "metadata": {},
          "execution_count": 52
        }
      ]
    },
    {
      "cell_type": "code",
      "source": [
        "# STATISTICS\n",
        "sampled_df.describe().transpose()"
      ],
      "metadata": {
        "colab": {
          "base_uri": "https://localhost:8080/",
          "height": 426
        },
        "id": "KE07QSlQQgL0",
        "outputId": "0245020a-ca60-4dde-c47e-62862d24362e"
      },
      "execution_count": null,
      "outputs": [
        {
          "output_type": "execute_result",
          "data": {
            "text/plain": [
              "                       count           mean            std     min       25%  \\\n",
              "rowID               158726.0  793625.000000  458203.937510    0.00  396812.5   \n",
              "air_pressure        158726.0     916.830161       3.051717  905.00     914.8   \n",
              "air_temp            158726.0      61.851589      11.833569   31.64      52.7   \n",
              "avg_wind_direction  158680.0     162.156100      95.278201    0.00      62.0   \n",
              "avg_wind_speed      158680.0       2.775215       2.057624    0.00       1.3   \n",
              "max_wind_direction  158680.0     163.462144      92.452139    0.00      68.0   \n",
              "max_wind_speed      158680.0       3.400558       2.418802    0.10       1.6   \n",
              "min_wind_direction  158680.0     166.774017      97.441109    0.00      76.0   \n",
              "min_wind_speed      158680.0       2.134664       1.742113    0.00       0.8   \n",
              "rain_accumulation   158725.0       0.000318       0.011236    0.00       0.0   \n",
              "rain_duration       158725.0       0.409627       8.665523    0.00       0.0   \n",
              "relative_humidity   158726.0      47.609470      26.214409    0.90      24.7   \n",
              "\n",
              "                          50%         75%         max  \n",
              "rowID               793625.00  1190437.50  1587250.00  \n",
              "air_pressure           916.70      918.70      929.50  \n",
              "air_temp                62.24       70.88       99.50  \n",
              "avg_wind_direction     182.00      217.00      359.00  \n",
              "avg_wind_speed           2.20        3.80       31.90  \n",
              "max_wind_direction     187.00      223.00      359.00  \n",
              "max_wind_speed           2.70        4.60       36.00  \n",
              "min_wind_direction     180.00      212.00      359.00  \n",
              "min_wind_speed           1.60        3.00       31.60  \n",
              "rain_accumulation        0.00        0.00        3.12  \n",
              "rain_duration            0.00        0.00     2960.00  \n",
              "relative_humidity       44.70       68.00       93.00  "
            ],
            "text/html": [
              "\n",
              "  <div id=\"df-93af7eef-8fe1-465c-988f-4482c4287374\">\n",
              "    <div class=\"colab-df-container\">\n",
              "      <div>\n",
              "<style scoped>\n",
              "    .dataframe tbody tr th:only-of-type {\n",
              "        vertical-align: middle;\n",
              "    }\n",
              "\n",
              "    .dataframe tbody tr th {\n",
              "        vertical-align: top;\n",
              "    }\n",
              "\n",
              "    .dataframe thead th {\n",
              "        text-align: right;\n",
              "    }\n",
              "</style>\n",
              "<table border=\"1\" class=\"dataframe\">\n",
              "  <thead>\n",
              "    <tr style=\"text-align: right;\">\n",
              "      <th></th>\n",
              "      <th>count</th>\n",
              "      <th>mean</th>\n",
              "      <th>std</th>\n",
              "      <th>min</th>\n",
              "      <th>25%</th>\n",
              "      <th>50%</th>\n",
              "      <th>75%</th>\n",
              "      <th>max</th>\n",
              "    </tr>\n",
              "  </thead>\n",
              "  <tbody>\n",
              "    <tr>\n",
              "      <th>rowID</th>\n",
              "      <td>158726.0</td>\n",
              "      <td>793625.000000</td>\n",
              "      <td>458203.937510</td>\n",
              "      <td>0.00</td>\n",
              "      <td>396812.5</td>\n",
              "      <td>793625.00</td>\n",
              "      <td>1190437.50</td>\n",
              "      <td>1587250.00</td>\n",
              "    </tr>\n",
              "    <tr>\n",
              "      <th>air_pressure</th>\n",
              "      <td>158726.0</td>\n",
              "      <td>916.830161</td>\n",
              "      <td>3.051717</td>\n",
              "      <td>905.00</td>\n",
              "      <td>914.8</td>\n",
              "      <td>916.70</td>\n",
              "      <td>918.70</td>\n",
              "      <td>929.50</td>\n",
              "    </tr>\n",
              "    <tr>\n",
              "      <th>air_temp</th>\n",
              "      <td>158726.0</td>\n",
              "      <td>61.851589</td>\n",
              "      <td>11.833569</td>\n",
              "      <td>31.64</td>\n",
              "      <td>52.7</td>\n",
              "      <td>62.24</td>\n",
              "      <td>70.88</td>\n",
              "      <td>99.50</td>\n",
              "    </tr>\n",
              "    <tr>\n",
              "      <th>avg_wind_direction</th>\n",
              "      <td>158680.0</td>\n",
              "      <td>162.156100</td>\n",
              "      <td>95.278201</td>\n",
              "      <td>0.00</td>\n",
              "      <td>62.0</td>\n",
              "      <td>182.00</td>\n",
              "      <td>217.00</td>\n",
              "      <td>359.00</td>\n",
              "    </tr>\n",
              "    <tr>\n",
              "      <th>avg_wind_speed</th>\n",
              "      <td>158680.0</td>\n",
              "      <td>2.775215</td>\n",
              "      <td>2.057624</td>\n",
              "      <td>0.00</td>\n",
              "      <td>1.3</td>\n",
              "      <td>2.20</td>\n",
              "      <td>3.80</td>\n",
              "      <td>31.90</td>\n",
              "    </tr>\n",
              "    <tr>\n",
              "      <th>max_wind_direction</th>\n",
              "      <td>158680.0</td>\n",
              "      <td>163.462144</td>\n",
              "      <td>92.452139</td>\n",
              "      <td>0.00</td>\n",
              "      <td>68.0</td>\n",
              "      <td>187.00</td>\n",
              "      <td>223.00</td>\n",
              "      <td>359.00</td>\n",
              "    </tr>\n",
              "    <tr>\n",
              "      <th>max_wind_speed</th>\n",
              "      <td>158680.0</td>\n",
              "      <td>3.400558</td>\n",
              "      <td>2.418802</td>\n",
              "      <td>0.10</td>\n",
              "      <td>1.6</td>\n",
              "      <td>2.70</td>\n",
              "      <td>4.60</td>\n",
              "      <td>36.00</td>\n",
              "    </tr>\n",
              "    <tr>\n",
              "      <th>min_wind_direction</th>\n",
              "      <td>158680.0</td>\n",
              "      <td>166.774017</td>\n",
              "      <td>97.441109</td>\n",
              "      <td>0.00</td>\n",
              "      <td>76.0</td>\n",
              "      <td>180.00</td>\n",
              "      <td>212.00</td>\n",
              "      <td>359.00</td>\n",
              "    </tr>\n",
              "    <tr>\n",
              "      <th>min_wind_speed</th>\n",
              "      <td>158680.0</td>\n",
              "      <td>2.134664</td>\n",
              "      <td>1.742113</td>\n",
              "      <td>0.00</td>\n",
              "      <td>0.8</td>\n",
              "      <td>1.60</td>\n",
              "      <td>3.00</td>\n",
              "      <td>31.60</td>\n",
              "    </tr>\n",
              "    <tr>\n",
              "      <th>rain_accumulation</th>\n",
              "      <td>158725.0</td>\n",
              "      <td>0.000318</td>\n",
              "      <td>0.011236</td>\n",
              "      <td>0.00</td>\n",
              "      <td>0.0</td>\n",
              "      <td>0.00</td>\n",
              "      <td>0.00</td>\n",
              "      <td>3.12</td>\n",
              "    </tr>\n",
              "    <tr>\n",
              "      <th>rain_duration</th>\n",
              "      <td>158725.0</td>\n",
              "      <td>0.409627</td>\n",
              "      <td>8.665523</td>\n",
              "      <td>0.00</td>\n",
              "      <td>0.0</td>\n",
              "      <td>0.00</td>\n",
              "      <td>0.00</td>\n",
              "      <td>2960.00</td>\n",
              "    </tr>\n",
              "    <tr>\n",
              "      <th>relative_humidity</th>\n",
              "      <td>158726.0</td>\n",
              "      <td>47.609470</td>\n",
              "      <td>26.214409</td>\n",
              "      <td>0.90</td>\n",
              "      <td>24.7</td>\n",
              "      <td>44.70</td>\n",
              "      <td>68.00</td>\n",
              "      <td>93.00</td>\n",
              "    </tr>\n",
              "  </tbody>\n",
              "</table>\n",
              "</div>\n",
              "      <button class=\"colab-df-convert\" onclick=\"convertToInteractive('df-93af7eef-8fe1-465c-988f-4482c4287374')\"\n",
              "              title=\"Convert this dataframe to an interactive table.\"\n",
              "              style=\"display:none;\">\n",
              "        \n",
              "  <svg xmlns=\"http://www.w3.org/2000/svg\" height=\"24px\"viewBox=\"0 0 24 24\"\n",
              "       width=\"24px\">\n",
              "    <path d=\"M0 0h24v24H0V0z\" fill=\"none\"/>\n",
              "    <path d=\"M18.56 5.44l.94 2.06.94-2.06 2.06-.94-2.06-.94-.94-2.06-.94 2.06-2.06.94zm-11 1L8.5 8.5l.94-2.06 2.06-.94-2.06-.94L8.5 2.5l-.94 2.06-2.06.94zm10 10l.94 2.06.94-2.06 2.06-.94-2.06-.94-.94-2.06-.94 2.06-2.06.94z\"/><path d=\"M17.41 7.96l-1.37-1.37c-.4-.4-.92-.59-1.43-.59-.52 0-1.04.2-1.43.59L10.3 9.45l-7.72 7.72c-.78.78-.78 2.05 0 2.83L4 21.41c.39.39.9.59 1.41.59.51 0 1.02-.2 1.41-.59l7.78-7.78 2.81-2.81c.8-.78.8-2.07 0-2.86zM5.41 20L4 18.59l7.72-7.72 1.47 1.35L5.41 20z\"/>\n",
              "  </svg>\n",
              "      </button>\n",
              "      \n",
              "  <style>\n",
              "    .colab-df-container {\n",
              "      display:flex;\n",
              "      flex-wrap:wrap;\n",
              "      gap: 12px;\n",
              "    }\n",
              "\n",
              "    .colab-df-convert {\n",
              "      background-color: #E8F0FE;\n",
              "      border: none;\n",
              "      border-radius: 50%;\n",
              "      cursor: pointer;\n",
              "      display: none;\n",
              "      fill: #1967D2;\n",
              "      height: 32px;\n",
              "      padding: 0 0 0 0;\n",
              "      width: 32px;\n",
              "    }\n",
              "\n",
              "    .colab-df-convert:hover {\n",
              "      background-color: #E2EBFA;\n",
              "      box-shadow: 0px 1px 2px rgba(60, 64, 67, 0.3), 0px 1px 3px 1px rgba(60, 64, 67, 0.15);\n",
              "      fill: #174EA6;\n",
              "    }\n",
              "\n",
              "    [theme=dark] .colab-df-convert {\n",
              "      background-color: #3B4455;\n",
              "      fill: #D2E3FC;\n",
              "    }\n",
              "\n",
              "    [theme=dark] .colab-df-convert:hover {\n",
              "      background-color: #434B5C;\n",
              "      box-shadow: 0px 1px 3px 1px rgba(0, 0, 0, 0.15);\n",
              "      filter: drop-shadow(0px 1px 2px rgba(0, 0, 0, 0.3));\n",
              "      fill: #FFFFFF;\n",
              "    }\n",
              "  </style>\n",
              "\n",
              "      <script>\n",
              "        const buttonEl =\n",
              "          document.querySelector('#df-93af7eef-8fe1-465c-988f-4482c4287374 button.colab-df-convert');\n",
              "        buttonEl.style.display =\n",
              "          google.colab.kernel.accessAllowed ? 'block' : 'none';\n",
              "\n",
              "        async function convertToInteractive(key) {\n",
              "          const element = document.querySelector('#df-93af7eef-8fe1-465c-988f-4482c4287374');\n",
              "          const dataTable =\n",
              "            await google.colab.kernel.invokeFunction('convertToInteractive',\n",
              "                                                     [key], {});\n",
              "          if (!dataTable) return;\n",
              "\n",
              "          const docLinkHtml = 'Like what you see? Visit the ' +\n",
              "            '<a target=\"_blank\" href=https://colab.research.google.com/notebooks/data_table.ipynb>data table notebook</a>'\n",
              "            + ' to learn more about interactive tables.';\n",
              "          element.innerHTML = '';\n",
              "          dataTable['output_type'] = 'display_data';\n",
              "          await google.colab.output.renderOutput(dataTable, element);\n",
              "          const docLink = document.createElement('div');\n",
              "          docLink.innerHTML = docLinkHtml;\n",
              "          element.appendChild(docLink);\n",
              "        }\n",
              "      </script>\n",
              "    </div>\n",
              "  </div>\n",
              "  "
            ]
          },
          "metadata": {},
          "execution_count": 53
        }
      ]
    },
    {
      "cell_type": "code",
      "source": [
        "sampled_df[sampled_df['rain_accumulation'] == 0].shape"
      ],
      "metadata": {
        "colab": {
          "base_uri": "https://localhost:8080/"
        },
        "id": "iTXx2cDZQgaj",
        "outputId": "cff75694-3628-48ed-f05b-e10a053d545d"
      },
      "execution_count": null,
      "outputs": [
        {
          "output_type": "execute_result",
          "data": {
            "text/plain": [
              "(157812, 13)"
            ]
          },
          "metadata": {},
          "execution_count": 54
        }
      ]
    },
    {
      "cell_type": "code",
      "source": [
        "import matplotlib.pyplot as plt\n",
        "import numpy as np\n",
        "import pandas as pd\n",
        "from sklearn.model_selection import train_test_split\n",
        "import os\n",
        "import PIL\n",
        "import pathlib\n",
        "\n",
        "import tensorflow as tf\n",
        "from tensorflow import keras"
      ],
      "metadata": {
        "id": "Qp5rfeBDP4mI"
      },
      "execution_count": null,
      "outputs": []
    },
    {
      "cell_type": "code",
      "source": [
        "sampled_df[sampled_df['rain_duration'] == 0].shape"
      ],
      "metadata": {
        "colab": {
          "base_uri": "https://localhost:8080/"
        },
        "id": "FVcCWa3KP5bw",
        "outputId": "ade2fcc3-d5e8-4682-ba1f-510f54aeaae6"
      },
      "execution_count": null,
      "outputs": [
        {
          "output_type": "execute_result",
          "data": {
            "text/plain": [
              "(157237, 13)"
            ]
          },
          "metadata": {},
          "execution_count": 56
        }
      ]
    },
    {
      "cell_type": "code",
      "source": [
        "del sampled_df['rain_accumulation']\n",
        "del sampled_df['rain_duration']"
      ],
      "metadata": {
        "id": "2l4y1ozZURkd"
      },
      "execution_count": null,
      "outputs": []
    },
    {
      "cell_type": "code",
      "source": [
        "rows_before = sampled_df.shape[0]\n",
        "sampled_df = sampled_df.dropna()\n",
        "rows_after = sampled_df.shape[0]"
      ],
      "metadata": {
        "id": "v39A97ZAUS4e"
      },
      "execution_count": null,
      "outputs": []
    },
    {
      "cell_type": "code",
      "source": [
        "sampled_df.columns"
      ],
      "metadata": {
        "colab": {
          "base_uri": "https://localhost:8080/"
        },
        "id": "BiJJSROUUUK5",
        "outputId": "c59afd6e-49f2-43c0-f70c-014389552c57"
      },
      "execution_count": null,
      "outputs": [
        {
          "output_type": "execute_result",
          "data": {
            "text/plain": [
              "Index(['rowID', 'hpwren_timestamp', 'air_pressure', 'air_temp',\n",
              "       'avg_wind_direction', 'avg_wind_speed', 'max_wind_direction',\n",
              "       'max_wind_speed', 'min_wind_direction', 'min_wind_speed',\n",
              "       'relative_humidity'],\n",
              "      dtype='object')"
            ]
          },
          "metadata": {},
          "execution_count": 59
        }
      ]
    },
    {
      "cell_type": "code",
      "source": [
        "features = ['air_pressure', 'air_temp', 'avg_wind_direction', 'avg_wind_speed', 'max_wind_direction', \n",
        "        'max_wind_speed','relative_humidity']"
      ],
      "metadata": {
        "id": "lml-PHvtUVeZ"
      },
      "execution_count": null,
      "outputs": []
    },
    {
      "cell_type": "code",
      "source": [
        "select_df = sampled_df[features]"
      ],
      "metadata": {
        "id": "IRqPQdVqUWWR"
      },
      "execution_count": null,
      "outputs": []
    },
    {
      "cell_type": "code",
      "source": [
        "select_df.columns"
      ],
      "metadata": {
        "colab": {
          "base_uri": "https://localhost:8080/"
        },
        "id": "jNQlutycUhWV",
        "outputId": "34d5e9e0-36df-4969-a425-126878f5a6cc"
      },
      "execution_count": null,
      "outputs": [
        {
          "output_type": "execute_result",
          "data": {
            "text/plain": [
              "Index(['air_pressure', 'air_temp', 'avg_wind_direction', 'avg_wind_speed',\n",
              "       'max_wind_direction', 'max_wind_speed', 'relative_humidity'],\n",
              "      dtype='object')"
            ]
          },
          "metadata": {},
          "execution_count": 62
        }
      ]
    },
    {
      "cell_type": "code",
      "source": [
        "select_df"
      ],
      "metadata": {
        "colab": {
          "base_uri": "https://localhost:8080/",
          "height": 424
        },
        "id": "-BHPIR9JUizR",
        "outputId": "a6e25ee4-a8ea-4833-ecfe-d168c2e8cbd4"
      },
      "execution_count": null,
      "outputs": [
        {
          "output_type": "execute_result",
          "data": {
            "text/plain": [
              "         air_pressure  air_temp  avg_wind_direction  avg_wind_speed  \\\n",
              "0               912.3     64.76                97.0             1.2   \n",
              "10              912.3     62.24               144.0             1.2   \n",
              "20              912.2     63.32               100.0             2.0   \n",
              "30              912.2     62.60                91.0             2.0   \n",
              "40              912.2     64.04                81.0             2.6   \n",
              "...               ...       ...                 ...             ...   \n",
              "1587210         915.9     75.56               330.0             1.0   \n",
              "1587220         915.9     75.56               330.0             1.1   \n",
              "1587230         915.9     75.56               344.0             1.4   \n",
              "1587240         915.9     75.20               359.0             1.3   \n",
              "1587250         915.9     74.84                 6.0             1.5   \n",
              "\n",
              "         max_wind_direction  max_wind_speed  relative_humidity  \n",
              "0                     106.0             1.6               60.5  \n",
              "10                    167.0             1.8               38.5  \n",
              "20                    122.0             2.5               58.3  \n",
              "30                    103.0             2.4               57.9  \n",
              "40                     88.0             2.9               57.4  \n",
              "...                     ...             ...                ...  \n",
              "1587210               341.0             1.3               47.8  \n",
              "1587220               341.0             1.4               48.0  \n",
              "1587230               352.0             1.7               48.0  \n",
              "1587240                 9.0             1.6               46.3  \n",
              "1587250                20.0             1.9               46.1  \n",
              "\n",
              "[158680 rows x 7 columns]"
            ],
            "text/html": [
              "\n",
              "  <div id=\"df-83f3b5ed-1333-4d82-a1dc-b30fc084b420\">\n",
              "    <div class=\"colab-df-container\">\n",
              "      <div>\n",
              "<style scoped>\n",
              "    .dataframe tbody tr th:only-of-type {\n",
              "        vertical-align: middle;\n",
              "    }\n",
              "\n",
              "    .dataframe tbody tr th {\n",
              "        vertical-align: top;\n",
              "    }\n",
              "\n",
              "    .dataframe thead th {\n",
              "        text-align: right;\n",
              "    }\n",
              "</style>\n",
              "<table border=\"1\" class=\"dataframe\">\n",
              "  <thead>\n",
              "    <tr style=\"text-align: right;\">\n",
              "      <th></th>\n",
              "      <th>air_pressure</th>\n",
              "      <th>air_temp</th>\n",
              "      <th>avg_wind_direction</th>\n",
              "      <th>avg_wind_speed</th>\n",
              "      <th>max_wind_direction</th>\n",
              "      <th>max_wind_speed</th>\n",
              "      <th>relative_humidity</th>\n",
              "    </tr>\n",
              "  </thead>\n",
              "  <tbody>\n",
              "    <tr>\n",
              "      <th>0</th>\n",
              "      <td>912.3</td>\n",
              "      <td>64.76</td>\n",
              "      <td>97.0</td>\n",
              "      <td>1.2</td>\n",
              "      <td>106.0</td>\n",
              "      <td>1.6</td>\n",
              "      <td>60.5</td>\n",
              "    </tr>\n",
              "    <tr>\n",
              "      <th>10</th>\n",
              "      <td>912.3</td>\n",
              "      <td>62.24</td>\n",
              "      <td>144.0</td>\n",
              "      <td>1.2</td>\n",
              "      <td>167.0</td>\n",
              "      <td>1.8</td>\n",
              "      <td>38.5</td>\n",
              "    </tr>\n",
              "    <tr>\n",
              "      <th>20</th>\n",
              "      <td>912.2</td>\n",
              "      <td>63.32</td>\n",
              "      <td>100.0</td>\n",
              "      <td>2.0</td>\n",
              "      <td>122.0</td>\n",
              "      <td>2.5</td>\n",
              "      <td>58.3</td>\n",
              "    </tr>\n",
              "    <tr>\n",
              "      <th>30</th>\n",
              "      <td>912.2</td>\n",
              "      <td>62.60</td>\n",
              "      <td>91.0</td>\n",
              "      <td>2.0</td>\n",
              "      <td>103.0</td>\n",
              "      <td>2.4</td>\n",
              "      <td>57.9</td>\n",
              "    </tr>\n",
              "    <tr>\n",
              "      <th>40</th>\n",
              "      <td>912.2</td>\n",
              "      <td>64.04</td>\n",
              "      <td>81.0</td>\n",
              "      <td>2.6</td>\n",
              "      <td>88.0</td>\n",
              "      <td>2.9</td>\n",
              "      <td>57.4</td>\n",
              "    </tr>\n",
              "    <tr>\n",
              "      <th>...</th>\n",
              "      <td>...</td>\n",
              "      <td>...</td>\n",
              "      <td>...</td>\n",
              "      <td>...</td>\n",
              "      <td>...</td>\n",
              "      <td>...</td>\n",
              "      <td>...</td>\n",
              "    </tr>\n",
              "    <tr>\n",
              "      <th>1587210</th>\n",
              "      <td>915.9</td>\n",
              "      <td>75.56</td>\n",
              "      <td>330.0</td>\n",
              "      <td>1.0</td>\n",
              "      <td>341.0</td>\n",
              "      <td>1.3</td>\n",
              "      <td>47.8</td>\n",
              "    </tr>\n",
              "    <tr>\n",
              "      <th>1587220</th>\n",
              "      <td>915.9</td>\n",
              "      <td>75.56</td>\n",
              "      <td>330.0</td>\n",
              "      <td>1.1</td>\n",
              "      <td>341.0</td>\n",
              "      <td>1.4</td>\n",
              "      <td>48.0</td>\n",
              "    </tr>\n",
              "    <tr>\n",
              "      <th>1587230</th>\n",
              "      <td>915.9</td>\n",
              "      <td>75.56</td>\n",
              "      <td>344.0</td>\n",
              "      <td>1.4</td>\n",
              "      <td>352.0</td>\n",
              "      <td>1.7</td>\n",
              "      <td>48.0</td>\n",
              "    </tr>\n",
              "    <tr>\n",
              "      <th>1587240</th>\n",
              "      <td>915.9</td>\n",
              "      <td>75.20</td>\n",
              "      <td>359.0</td>\n",
              "      <td>1.3</td>\n",
              "      <td>9.0</td>\n",
              "      <td>1.6</td>\n",
              "      <td>46.3</td>\n",
              "    </tr>\n",
              "    <tr>\n",
              "      <th>1587250</th>\n",
              "      <td>915.9</td>\n",
              "      <td>74.84</td>\n",
              "      <td>6.0</td>\n",
              "      <td>1.5</td>\n",
              "      <td>20.0</td>\n",
              "      <td>1.9</td>\n",
              "      <td>46.1</td>\n",
              "    </tr>\n",
              "  </tbody>\n",
              "</table>\n",
              "<p>158680 rows × 7 columns</p>\n",
              "</div>\n",
              "      <button class=\"colab-df-convert\" onclick=\"convertToInteractive('df-83f3b5ed-1333-4d82-a1dc-b30fc084b420')\"\n",
              "              title=\"Convert this dataframe to an interactive table.\"\n",
              "              style=\"display:none;\">\n",
              "        \n",
              "  <svg xmlns=\"http://www.w3.org/2000/svg\" height=\"24px\"viewBox=\"0 0 24 24\"\n",
              "       width=\"24px\">\n",
              "    <path d=\"M0 0h24v24H0V0z\" fill=\"none\"/>\n",
              "    <path d=\"M18.56 5.44l.94 2.06.94-2.06 2.06-.94-2.06-.94-.94-2.06-.94 2.06-2.06.94zm-11 1L8.5 8.5l.94-2.06 2.06-.94-2.06-.94L8.5 2.5l-.94 2.06-2.06.94zm10 10l.94 2.06.94-2.06 2.06-.94-2.06-.94-.94-2.06-.94 2.06-2.06.94z\"/><path d=\"M17.41 7.96l-1.37-1.37c-.4-.4-.92-.59-1.43-.59-.52 0-1.04.2-1.43.59L10.3 9.45l-7.72 7.72c-.78.78-.78 2.05 0 2.83L4 21.41c.39.39.9.59 1.41.59.51 0 1.02-.2 1.41-.59l7.78-7.78 2.81-2.81c.8-.78.8-2.07 0-2.86zM5.41 20L4 18.59l7.72-7.72 1.47 1.35L5.41 20z\"/>\n",
              "  </svg>\n",
              "      </button>\n",
              "      \n",
              "  <style>\n",
              "    .colab-df-container {\n",
              "      display:flex;\n",
              "      flex-wrap:wrap;\n",
              "      gap: 12px;\n",
              "    }\n",
              "\n",
              "    .colab-df-convert {\n",
              "      background-color: #E8F0FE;\n",
              "      border: none;\n",
              "      border-radius: 50%;\n",
              "      cursor: pointer;\n",
              "      display: none;\n",
              "      fill: #1967D2;\n",
              "      height: 32px;\n",
              "      padding: 0 0 0 0;\n",
              "      width: 32px;\n",
              "    }\n",
              "\n",
              "    .colab-df-convert:hover {\n",
              "      background-color: #E2EBFA;\n",
              "      box-shadow: 0px 1px 2px rgba(60, 64, 67, 0.3), 0px 1px 3px 1px rgba(60, 64, 67, 0.15);\n",
              "      fill: #174EA6;\n",
              "    }\n",
              "\n",
              "    [theme=dark] .colab-df-convert {\n",
              "      background-color: #3B4455;\n",
              "      fill: #D2E3FC;\n",
              "    }\n",
              "\n",
              "    [theme=dark] .colab-df-convert:hover {\n",
              "      background-color: #434B5C;\n",
              "      box-shadow: 0px 1px 3px 1px rgba(0, 0, 0, 0.15);\n",
              "      filter: drop-shadow(0px 1px 2px rgba(0, 0, 0, 0.3));\n",
              "      fill: #FFFFFF;\n",
              "    }\n",
              "  </style>\n",
              "\n",
              "      <script>\n",
              "        const buttonEl =\n",
              "          document.querySelector('#df-83f3b5ed-1333-4d82-a1dc-b30fc084b420 button.colab-df-convert');\n",
              "        buttonEl.style.display =\n",
              "          google.colab.kernel.accessAllowed ? 'block' : 'none';\n",
              "\n",
              "        async function convertToInteractive(key) {\n",
              "          const element = document.querySelector('#df-83f3b5ed-1333-4d82-a1dc-b30fc084b420');\n",
              "          const dataTable =\n",
              "            await google.colab.kernel.invokeFunction('convertToInteractive',\n",
              "                                                     [key], {});\n",
              "          if (!dataTable) return;\n",
              "\n",
              "          const docLinkHtml = 'Like what you see? Visit the ' +\n",
              "            '<a target=\"_blank\" href=https://colab.research.google.com/notebooks/data_table.ipynb>data table notebook</a>'\n",
              "            + ' to learn more about interactive tables.';\n",
              "          element.innerHTML = '';\n",
              "          dataTable['output_type'] = 'display_data';\n",
              "          await google.colab.output.renderOutput(dataTable, element);\n",
              "          const docLink = document.createElement('div');\n",
              "          docLink.innerHTML = docLinkHtml;\n",
              "          element.appendChild(docLink);\n",
              "        }\n",
              "      </script>\n",
              "    </div>\n",
              "  </div>\n",
              "  "
            ]
          },
          "metadata": {},
          "execution_count": 63
        }
      ]
    },
    {
      "cell_type": "code",
      "source": [
        "X = StandardScaler().fit_transform(select_df)\n",
        "X"
      ],
      "metadata": {
        "colab": {
          "base_uri": "https://localhost:8080/"
        },
        "id": "KxwbmLpzUjul",
        "outputId": "fb13260a-b320-47c1-98bc-33843d26d2dd"
      },
      "execution_count": null,
      "outputs": [
        {
          "output_type": "execute_result",
          "data": {
            "text/plain": [
              "array([[-1.48456281,  0.24544455, -0.68385323, ..., -0.62153592,\n",
              "        -0.74440309,  0.49233835],\n",
              "       [-1.48456281,  0.03247142, -0.19055941, ...,  0.03826701,\n",
              "        -0.66171726, -0.34710804],\n",
              "       [-1.51733167,  0.12374562, -0.65236639, ..., -0.44847286,\n",
              "        -0.37231683,  0.40839371],\n",
              "       ...,\n",
              "       [-0.30488381,  1.15818654,  1.90856325, ...,  2.0393087 ,\n",
              "        -0.70306017,  0.01538018],\n",
              "       [-0.30488381,  1.12776181,  2.06599745, ..., -1.67073075,\n",
              "        -0.74440309, -0.04948614],\n",
              "       [-0.30488381,  1.09733708, -1.63895404, ..., -1.55174989,\n",
              "        -0.62037434, -0.05711747]])"
            ]
          },
          "metadata": {},
          "execution_count": 64
        }
      ]
    },
    {
      "cell_type": "code",
      "source": [
        "kmeans = KMeans(n_clusters=12)\n",
        "model = kmeans.fit(X)\n",
        "print(\"model: \", model)"
      ],
      "metadata": {
        "colab": {
          "base_uri": "https://localhost:8080/"
        },
        "id": "g7XeZc8IUlxB",
        "outputId": "866315b9-5bcc-4301-af3f-081319bb9f35"
      },
      "execution_count": null,
      "outputs": [
        {
          "output_type": "stream",
          "name": "stdout",
          "text": [
            "model:  KMeans(n_clusters=12)\n"
          ]
        }
      ]
    },
    {
      "cell_type": "code",
      "source": [
        "centers = model.cluster_centers_\n",
        "centers"
      ],
      "metadata": {
        "colab": {
          "base_uri": "https://localhost:8080/"
        },
        "id": "GYtvyKWRUnw-",
        "outputId": "7d4e563e-eb1a-4bd0-e8ad-6a00ff249da1"
      },
      "execution_count": null,
      "outputs": [
        {
          "output_type": "execute_result",
          "data": {
            "text/plain": [
              "array([[-0.16819371,  0.86679931, -1.31057879, -0.58989577, -1.16633091,\n",
              "        -0.6052282 , -0.63848101],\n",
              "       [-0.83668347, -1.2005881 ,  0.3764936 ,  0.38463488,  0.47488968,\n",
              "         0.37207957,  1.35997087],\n",
              "       [ 1.3598505 , -0.08029101, -1.20795139, -0.06227227, -1.07636588,\n",
              "        -0.04286252, -0.97463052],\n",
              "       [ 0.22949765, -1.00001182,  0.65522737, -0.54746268,  0.84427286,\n",
              "        -0.530284  ,  1.16873827],\n",
              "       [-0.21161193,  0.63679549,  0.4088376 ,  0.7326222 ,  0.51708264,\n",
              "         0.670973  , -0.15202994],\n",
              "       [-1.18418052, -0.86540192,  0.44680177,  1.98833456,  0.53795472,\n",
              "         1.94908877,  0.90389813],\n",
              "       [ 1.19169107, -0.25312125, -1.15497305,  2.11432135, -1.05317018,\n",
              "         2.23111557, -1.13509334],\n",
              "       [ 0.12972705,  0.84414696,  1.41081972, -0.63848937,  1.67467739,\n",
              "        -0.58936443, -0.71331012],\n",
              "       [-0.69849741,  0.53893332,  0.17574098, -0.58517272,  0.3452828 ,\n",
              "        -0.59864987, -0.1134619 ],\n",
              "       [ 0.23428408,  0.32051293,  1.88793536, -0.65178573, -1.55179241,\n",
              "        -0.57666272, -0.28390989],\n",
              "       [ 0.7311455 ,  0.43076553,  0.28926228, -0.53223804,  0.47672022,\n",
              "        -0.53839199, -0.76443876],\n",
              "       [ 0.05812006, -0.79058201, -1.19697111, -0.5703847 , -1.04288423,\n",
              "        -0.58494709,  0.88260093]])"
            ]
          },
          "metadata": {},
          "execution_count": 66
        }
      ]
    },
    {
      "cell_type": "code",
      "source": [
        "def pd_centers(featuresUsed, centers):\n",
        "\tcolNames = list(featuresUsed)\n",
        "\tcolNames.append('prediction')\n",
        "\n",
        "\t# Zip with a column called 'prediction' (index)\n",
        "\tZ = [np.append(A, index) for index, A in enumerate(centers)]\n",
        "\n",
        "\t# Convert to pandas data frame for plotting\n",
        "\tP = pd.DataFrame(Z, columns=colNames)\n",
        "\tP['prediction'] = P['prediction'].astype(int)\n",
        "\treturn P"
      ],
      "metadata": {
        "id": "RlXTBT3kUpBD"
      },
      "execution_count": null,
      "outputs": []
    },
    {
      "cell_type": "code",
      "source": [
        "def parallel_plot(data):\n",
        "\tmy_colors = list(islice(cycle(['b', 'r', 'g', 'y', 'k']), None, len(data)))\n",
        "\tplt.figure(figsize=(15,8)).gca().axes.set_ylim([-3,+3])\n",
        "\tparallel_coordinates(data, 'prediction', color = my_colors, marker='o')"
      ],
      "metadata": {
        "id": "ijAxK_ydU4hS"
      },
      "execution_count": null,
      "outputs": []
    },
    {
      "cell_type": "code",
      "source": [
        "P = pd_centers(features, centers)\n",
        "P"
      ],
      "metadata": {
        "colab": {
          "base_uri": "https://localhost:8080/",
          "height": 426
        },
        "id": "BsRQRAbBU6Um",
        "outputId": "485f0c69-26ba-4c9c-b9eb-f3ab588e81f9"
      },
      "execution_count": null,
      "outputs": [
        {
          "output_type": "execute_result",
          "data": {
            "text/plain": [
              "    air_pressure  air_temp  avg_wind_direction  avg_wind_speed  \\\n",
              "0      -0.168194  0.866799           -1.310579       -0.589896   \n",
              "1      -0.836683 -1.200588            0.376494        0.384635   \n",
              "2       1.359851 -0.080291           -1.207951       -0.062272   \n",
              "3       0.229498 -1.000012            0.655227       -0.547463   \n",
              "4      -0.211612  0.636795            0.408838        0.732622   \n",
              "5      -1.184181 -0.865402            0.446802        1.988335   \n",
              "6       1.191691 -0.253121           -1.154973        2.114321   \n",
              "7       0.129727  0.844147            1.410820       -0.638489   \n",
              "8      -0.698497  0.538933            0.175741       -0.585173   \n",
              "9       0.234284  0.320513            1.887935       -0.651786   \n",
              "10      0.731145  0.430766            0.289262       -0.532238   \n",
              "11      0.058120 -0.790582           -1.196971       -0.570385   \n",
              "\n",
              "    max_wind_direction  max_wind_speed  relative_humidity  prediction  \n",
              "0            -1.166331       -0.605228          -0.638481           0  \n",
              "1             0.474890        0.372080           1.359971           1  \n",
              "2            -1.076366       -0.042863          -0.974631           2  \n",
              "3             0.844273       -0.530284           1.168738           3  \n",
              "4             0.517083        0.670973          -0.152030           4  \n",
              "5             0.537955        1.949089           0.903898           5  \n",
              "6            -1.053170        2.231116          -1.135093           6  \n",
              "7             1.674677       -0.589364          -0.713310           7  \n",
              "8             0.345283       -0.598650          -0.113462           8  \n",
              "9            -1.551792       -0.576663          -0.283910           9  \n",
              "10            0.476720       -0.538392          -0.764439          10  \n",
              "11           -1.042884       -0.584947           0.882601          11  "
            ],
            "text/html": [
              "\n",
              "  <div id=\"df-a86aaeb0-6310-49b0-86a1-edb2445426af\">\n",
              "    <div class=\"colab-df-container\">\n",
              "      <div>\n",
              "<style scoped>\n",
              "    .dataframe tbody tr th:only-of-type {\n",
              "        vertical-align: middle;\n",
              "    }\n",
              "\n",
              "    .dataframe tbody tr th {\n",
              "        vertical-align: top;\n",
              "    }\n",
              "\n",
              "    .dataframe thead th {\n",
              "        text-align: right;\n",
              "    }\n",
              "</style>\n",
              "<table border=\"1\" class=\"dataframe\">\n",
              "  <thead>\n",
              "    <tr style=\"text-align: right;\">\n",
              "      <th></th>\n",
              "      <th>air_pressure</th>\n",
              "      <th>air_temp</th>\n",
              "      <th>avg_wind_direction</th>\n",
              "      <th>avg_wind_speed</th>\n",
              "      <th>max_wind_direction</th>\n",
              "      <th>max_wind_speed</th>\n",
              "      <th>relative_humidity</th>\n",
              "      <th>prediction</th>\n",
              "    </tr>\n",
              "  </thead>\n",
              "  <tbody>\n",
              "    <tr>\n",
              "      <th>0</th>\n",
              "      <td>-0.168194</td>\n",
              "      <td>0.866799</td>\n",
              "      <td>-1.310579</td>\n",
              "      <td>-0.589896</td>\n",
              "      <td>-1.166331</td>\n",
              "      <td>-0.605228</td>\n",
              "      <td>-0.638481</td>\n",
              "      <td>0</td>\n",
              "    </tr>\n",
              "    <tr>\n",
              "      <th>1</th>\n",
              "      <td>-0.836683</td>\n",
              "      <td>-1.200588</td>\n",
              "      <td>0.376494</td>\n",
              "      <td>0.384635</td>\n",
              "      <td>0.474890</td>\n",
              "      <td>0.372080</td>\n",
              "      <td>1.359971</td>\n",
              "      <td>1</td>\n",
              "    </tr>\n",
              "    <tr>\n",
              "      <th>2</th>\n",
              "      <td>1.359851</td>\n",
              "      <td>-0.080291</td>\n",
              "      <td>-1.207951</td>\n",
              "      <td>-0.062272</td>\n",
              "      <td>-1.076366</td>\n",
              "      <td>-0.042863</td>\n",
              "      <td>-0.974631</td>\n",
              "      <td>2</td>\n",
              "    </tr>\n",
              "    <tr>\n",
              "      <th>3</th>\n",
              "      <td>0.229498</td>\n",
              "      <td>-1.000012</td>\n",
              "      <td>0.655227</td>\n",
              "      <td>-0.547463</td>\n",
              "      <td>0.844273</td>\n",
              "      <td>-0.530284</td>\n",
              "      <td>1.168738</td>\n",
              "      <td>3</td>\n",
              "    </tr>\n",
              "    <tr>\n",
              "      <th>4</th>\n",
              "      <td>-0.211612</td>\n",
              "      <td>0.636795</td>\n",
              "      <td>0.408838</td>\n",
              "      <td>0.732622</td>\n",
              "      <td>0.517083</td>\n",
              "      <td>0.670973</td>\n",
              "      <td>-0.152030</td>\n",
              "      <td>4</td>\n",
              "    </tr>\n",
              "    <tr>\n",
              "      <th>5</th>\n",
              "      <td>-1.184181</td>\n",
              "      <td>-0.865402</td>\n",
              "      <td>0.446802</td>\n",
              "      <td>1.988335</td>\n",
              "      <td>0.537955</td>\n",
              "      <td>1.949089</td>\n",
              "      <td>0.903898</td>\n",
              "      <td>5</td>\n",
              "    </tr>\n",
              "    <tr>\n",
              "      <th>6</th>\n",
              "      <td>1.191691</td>\n",
              "      <td>-0.253121</td>\n",
              "      <td>-1.154973</td>\n",
              "      <td>2.114321</td>\n",
              "      <td>-1.053170</td>\n",
              "      <td>2.231116</td>\n",
              "      <td>-1.135093</td>\n",
              "      <td>6</td>\n",
              "    </tr>\n",
              "    <tr>\n",
              "      <th>7</th>\n",
              "      <td>0.129727</td>\n",
              "      <td>0.844147</td>\n",
              "      <td>1.410820</td>\n",
              "      <td>-0.638489</td>\n",
              "      <td>1.674677</td>\n",
              "      <td>-0.589364</td>\n",
              "      <td>-0.713310</td>\n",
              "      <td>7</td>\n",
              "    </tr>\n",
              "    <tr>\n",
              "      <th>8</th>\n",
              "      <td>-0.698497</td>\n",
              "      <td>0.538933</td>\n",
              "      <td>0.175741</td>\n",
              "      <td>-0.585173</td>\n",
              "      <td>0.345283</td>\n",
              "      <td>-0.598650</td>\n",
              "      <td>-0.113462</td>\n",
              "      <td>8</td>\n",
              "    </tr>\n",
              "    <tr>\n",
              "      <th>9</th>\n",
              "      <td>0.234284</td>\n",
              "      <td>0.320513</td>\n",
              "      <td>1.887935</td>\n",
              "      <td>-0.651786</td>\n",
              "      <td>-1.551792</td>\n",
              "      <td>-0.576663</td>\n",
              "      <td>-0.283910</td>\n",
              "      <td>9</td>\n",
              "    </tr>\n",
              "    <tr>\n",
              "      <th>10</th>\n",
              "      <td>0.731145</td>\n",
              "      <td>0.430766</td>\n",
              "      <td>0.289262</td>\n",
              "      <td>-0.532238</td>\n",
              "      <td>0.476720</td>\n",
              "      <td>-0.538392</td>\n",
              "      <td>-0.764439</td>\n",
              "      <td>10</td>\n",
              "    </tr>\n",
              "    <tr>\n",
              "      <th>11</th>\n",
              "      <td>0.058120</td>\n",
              "      <td>-0.790582</td>\n",
              "      <td>-1.196971</td>\n",
              "      <td>-0.570385</td>\n",
              "      <td>-1.042884</td>\n",
              "      <td>-0.584947</td>\n",
              "      <td>0.882601</td>\n",
              "      <td>11</td>\n",
              "    </tr>\n",
              "  </tbody>\n",
              "</table>\n",
              "</div>\n",
              "      <button class=\"colab-df-convert\" onclick=\"convertToInteractive('df-a86aaeb0-6310-49b0-86a1-edb2445426af')\"\n",
              "              title=\"Convert this dataframe to an interactive table.\"\n",
              "              style=\"display:none;\">\n",
              "        \n",
              "  <svg xmlns=\"http://www.w3.org/2000/svg\" height=\"24px\"viewBox=\"0 0 24 24\"\n",
              "       width=\"24px\">\n",
              "    <path d=\"M0 0h24v24H0V0z\" fill=\"none\"/>\n",
              "    <path d=\"M18.56 5.44l.94 2.06.94-2.06 2.06-.94-2.06-.94-.94-2.06-.94 2.06-2.06.94zm-11 1L8.5 8.5l.94-2.06 2.06-.94-2.06-.94L8.5 2.5l-.94 2.06-2.06.94zm10 10l.94 2.06.94-2.06 2.06-.94-2.06-.94-.94-2.06-.94 2.06-2.06.94z\"/><path d=\"M17.41 7.96l-1.37-1.37c-.4-.4-.92-.59-1.43-.59-.52 0-1.04.2-1.43.59L10.3 9.45l-7.72 7.72c-.78.78-.78 2.05 0 2.83L4 21.41c.39.39.9.59 1.41.59.51 0 1.02-.2 1.41-.59l7.78-7.78 2.81-2.81c.8-.78.8-2.07 0-2.86zM5.41 20L4 18.59l7.72-7.72 1.47 1.35L5.41 20z\"/>\n",
              "  </svg>\n",
              "      </button>\n",
              "      \n",
              "  <style>\n",
              "    .colab-df-container {\n",
              "      display:flex;\n",
              "      flex-wrap:wrap;\n",
              "      gap: 12px;\n",
              "    }\n",
              "\n",
              "    .colab-df-convert {\n",
              "      background-color: #E8F0FE;\n",
              "      border: none;\n",
              "      border-radius: 50%;\n",
              "      cursor: pointer;\n",
              "      display: none;\n",
              "      fill: #1967D2;\n",
              "      height: 32px;\n",
              "      padding: 0 0 0 0;\n",
              "      width: 32px;\n",
              "    }\n",
              "\n",
              "    .colab-df-convert:hover {\n",
              "      background-color: #E2EBFA;\n",
              "      box-shadow: 0px 1px 2px rgba(60, 64, 67, 0.3), 0px 1px 3px 1px rgba(60, 64, 67, 0.15);\n",
              "      fill: #174EA6;\n",
              "    }\n",
              "\n",
              "    [theme=dark] .colab-df-convert {\n",
              "      background-color: #3B4455;\n",
              "      fill: #D2E3FC;\n",
              "    }\n",
              "\n",
              "    [theme=dark] .colab-df-convert:hover {\n",
              "      background-color: #434B5C;\n",
              "      box-shadow: 0px 1px 3px 1px rgba(0, 0, 0, 0.15);\n",
              "      filter: drop-shadow(0px 1px 2px rgba(0, 0, 0, 0.3));\n",
              "      fill: #FFFFFF;\n",
              "    }\n",
              "  </style>\n",
              "\n",
              "      <script>\n",
              "        const buttonEl =\n",
              "          document.querySelector('#df-a86aaeb0-6310-49b0-86a1-edb2445426af button.colab-df-convert');\n",
              "        buttonEl.style.display =\n",
              "          google.colab.kernel.accessAllowed ? 'block' : 'none';\n",
              "\n",
              "        async function convertToInteractive(key) {\n",
              "          const element = document.querySelector('#df-a86aaeb0-6310-49b0-86a1-edb2445426af');\n",
              "          const dataTable =\n",
              "            await google.colab.kernel.invokeFunction('convertToInteractive',\n",
              "                                                     [key], {});\n",
              "          if (!dataTable) return;\n",
              "\n",
              "          const docLinkHtml = 'Like what you see? Visit the ' +\n",
              "            '<a target=\"_blank\" href=https://colab.research.google.com/notebooks/data_table.ipynb>data table notebook</a>'\n",
              "            + ' to learn more about interactive tables.';\n",
              "          element.innerHTML = '';\n",
              "          dataTable['output_type'] = 'display_data';\n",
              "          await google.colab.output.renderOutput(dataTable, element);\n",
              "          const docLink = document.createElement('div');\n",
              "          docLink.innerHTML = docLinkHtml;\n",
              "          element.appendChild(docLink);\n",
              "        }\n",
              "      </script>\n",
              "    </div>\n",
              "  </div>\n",
              "  "
            ]
          },
          "metadata": {},
          "execution_count": 69
        }
      ]
    },
    {
      "cell_type": "code",
      "source": [
        "#DRY DAYS\n",
        "parallel_plot(P[P['relative_humidity'] < -0.5])"
      ],
      "metadata": {
        "colab": {
          "base_uri": "https://localhost:8080/",
          "height": 488
        },
        "id": "FSOWy4WeU7vE",
        "outputId": "c15ab99d-0198-44b8-a7d3-80f0185d055f"
      },
      "execution_count": null,
      "outputs": [
        {
          "output_type": "display_data",
          "data": {
            "text/plain": [
              "<Figure size 1080x576 with 1 Axes>"
            ],
            "image/png": "[encoded data removed]"
          },
          "metadata": {
            "needs_background": "light"
          }
        }
      ]
    },
    {
      "cell_type": "code",
      "source": [
        "#WARM DAYS\n",
        "parallel_plot(P[P['air_temp'] > 0.5])"
      ],
      "metadata": {
        "colab": {
          "base_uri": "https://localhost:8080/",
          "height": 488
        },
        "id": "fsJiczb8U9Lc",
        "outputId": "900c4c70-1eba-4132-ddf4-e177bc171526"
      },
      "execution_count": null,
      "outputs": [
        {
          "output_type": "display_data",
          "data": {
            "text/plain": [
              "<Figure size 1080x576 with 1 Axes>"
            ],
            "image/png": "[encoded data removed]"
          },
          "metadata": {
            "needs_background": "light"
          }
        }
      ]
    },
    {
      "cell_type": "code",
      "source": [
        "#COOL DAYS\n",
        "parallel_plot(P[(P['relative_humidity'] > 0.5) & (P['air_temp'] < 0.5)])"
      ],
      "metadata": {
        "colab": {
          "base_uri": "https://localhost:8080/",
          "height": 488
        },
        "id": "2KZqJ9Y-VEBN",
        "outputId": "4ff6d22a-b1ef-4c62-d8d2-53f9f8fcfacd"
      },
      "execution_count": null,
      "outputs": [
        {
          "output_type": "display_data",
          "data": {
            "text/plain": [
              "<Figure size 1080x576 with 1 Axes>"
            ],
            "image/png": "[encoded data removed]"
          },
          "metadata": {
            "needs_background": "light"
          }
        }
      ]
    },
    {
      "cell_type": "code",
      "source": [],
      "metadata": {
        "id": "dJPMNjIN6Ys0"
      },
      "execution_count": null,
      "outputs": []
    }
  ]
}